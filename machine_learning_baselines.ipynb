{
 "cells": [
  {
   "cell_type": "code",
   "execution_count": null,
   "metadata": {
    "colab": {
     "base_uri": "https://localhost:8080/"
    },
    "id": "EisemHaEHPmR",
    "outputId": "4d1bf0bc-380b-42fd-b872-76b6883c07a1"
   },
   "outputs": [
    {
     "name": "stdout",
     "output_type": "stream",
     "text": [
      "Mounted at /content/drive\n"
     ]
    }
   ],
   "source": [
    "from google.colab import drive\n",
    "drive.mount('/content/drive')"
   ]
  },
  {
   "cell_type": "code",
   "execution_count": null,
   "metadata": {
    "colab": {
     "base_uri": "https://localhost:8080/"
    },
    "id": "EFI1I2WoeEuL",
    "outputId": "081a4f79-91c6-4ae4-a9c7-63cef44d328f"
   },
   "outputs": [
    {
     "name": "stderr",
     "output_type": "stream",
     "text": [
      "<ipython-input-4-aea18ec24f7a>:2: DtypeWarning: Columns (2) have mixed types. Specify dtype option on import or set low_memory=False.\n",
      "  eastmoney = pd.read_csv('/content/drive/MyDrive/eastmoney_data_senti.csv')\n"
     ]
    }
   ],
   "source": [
    "import pandas as pd\n",
    "eastmoney = pd.read_csv('/content/drive/MyDrive/eastmoney_data_senti.csv')"
   ]
  },
  {
   "cell_type": "markdown",
   "metadata": {
    "id": "bdy1A0tZVEKW"
   },
   "source": [
    "# Preprocessing"
   ]
  },
  {
   "cell_type": "code",
   "execution_count": null,
   "metadata": {
    "id": "Wf0UIivvdUtD"
   },
   "outputs": [],
   "source": [
    "eastmoney.fillna('0', inplace=True)\n",
    "\n",
    "# 对article_source进行分类\n",
    "# 将含有东方财富的归为一类\n",
    "# 将含有choice的归位一类\n",
    "\n",
    "def categorize_source(source):\n",
    "    source = str(source)\n",
    "    if '东方财富' in source:\n",
    "        return '东方财富'\n",
    "    elif 'Choice数据' in source:\n",
    "        return 'Choice数据'\n",
    "    else:\n",
    "        return source\n",
    "\n",
    "# 变为category类\n",
    "eastmoney['article_source_cate'] = eastmoney['article_source_cate'].astype('category')\n",
    "unique_values = eastmoney['article_source_cate'].unique()\n",
    "print(unique_values)"
   ]
  },
  {
   "cell_type": "code",
   "execution_count": null,
   "metadata": {
    "colab": {
     "base_uri": "https://localhost:8080/"
    },
    "id": "qR3YpKUZeVZr",
    "outputId": "8c336109-4185-40d1-fa07-b77fd6f80d22"
   },
   "outputs": [
    {
     "name": "stdout",
     "output_type": "stream",
     "text": [
      "Collecting snownlp\n",
      "  Downloading snownlp-0.12.3.tar.gz (37.6 MB)\n",
      "\u001b[2K     \u001b[90m━━━━━━━━━━━━━━━━━━━━━━━━━━━━━━━━━━━━━━━━\u001b[0m \u001b[32m37.6/37.6 MB\u001b[0m \u001b[31m16.3 MB/s\u001b[0m eta \u001b[36m0:00:00\u001b[0m\n",
      "\u001b[?25h  Preparing metadata (setup.py) ... \u001b[?25l\u001b[?25hdone\n",
      "Building wheels for collected packages: snownlp\n",
      "  Building wheel for snownlp (setup.py) ... \u001b[?25l\u001b[?25hdone\n",
      "  Created wheel for snownlp: filename=snownlp-0.12.3-py3-none-any.whl size=37760946 sha256=625a578124dfb7a07a419690ed3f1e52b1b4129b87519b0a442a37d17f6de6dc\n",
      "  Stored in directory: /root/.cache/pip/wheels/43/f3/70/8990fc249efeb396007766676706f71dd3d1ca3c023ce522ce\n",
      "Successfully built snownlp\n",
      "Installing collected packages: snownlp\n",
      "Successfully installed snownlp-0.12.3\n"
     ]
    }
   ],
   "source": [
    "!pip install snownlp"
   ]
  },
  {
   "cell_type": "markdown",
   "metadata": {
    "id": "QNPTVAqPjMMv"
   },
   "source": [
    "#Sentiment analysis"
   ]
  },
  {
   "cell_type": "code",
   "execution_count": null,
   "metadata": {
    "id": "1tnQLzCejRxb"
   },
   "outputs": [],
   "source": [
    "sentiment_dict = {}\n",
    "with open('media_sentiment_score.txt', 'r', encoding='utf-8') as f:\n",
    "    for line in f:\n",
    "        parts = line.strip().split()\n",
    "        if len(parts) == 2:\n",
    "            word, score = parts\n",
    "            sentiment_dict[word] = float(score)"
   ]
  },
  {
   "cell_type": "code",
   "execution_count": null,
   "metadata": {
    "id": "WjGAGTkHdbJE"
   },
   "outputs": [],
   "source": [
    "import pandas as pd\n",
    "import jieba\n",
    "from snownlp import SnowNLP\n",
    "from collections import Counter\n",
    "\n",
    "def analyze_sentiment(title, sentiment_dict):\n",
    "    words = jieba.lcut(title)\n",
    "    # 计算情感得分\n",
    "    score = 0\n",
    "    for word in words:\n",
    "        if word in sentiment_dict:\n",
    "            # 使用自定义词典的得分\n",
    "            score += sentiment_dict[word]\n",
    "        else:\n",
    "            # 使用SnowNLP的情感得分并转换范围到-1到1\n",
    "            snownlp_score = SnowNLP(word).sentiments\n",
    "            adjusted_score = snownlp_score * 2 - 1\n",
    "            score += adjusted_score\n",
    "    # 标准化得分\n",
    "    normalized_score = score / len(words)\n",
    "    return normalized_score"
   ]
  },
  {
   "cell_type": "code",
   "execution_count": null,
   "metadata": {
    "colab": {
     "base_uri": "https://localhost:8080/",
     "height": 495
    },
    "id": "Npvb7yNMd-2m",
    "outputId": "0408766e-0a76-4310-dbce-e2d67c80a3ac"
   },
   "outputs": [
    {
     "name": "stderr",
     "output_type": "stream",
     "text": [
      "Building prefix dict from the default dictionary ...\n",
      "DEBUG:jieba:Building prefix dict from the default dictionary ...\n",
      "Dumping model to file cache /tmp/jieba.cache\n",
      "DEBUG:jieba:Dumping model to file cache /tmp/jieba.cache\n",
      "Loading model cost 5.007 seconds.\n",
      "DEBUG:jieba:Loading model cost 5.007 seconds.\n",
      "Prefix dict has been built successfully.\n",
      "DEBUG:jieba:Prefix dict has been built successfully.\n"
     ]
    },
    {
     "ename": "KeyboardInterrupt",
     "evalue": "",
     "output_type": "error",
     "traceback": [
      "\u001b[0;31m---------------------------------------------------------------------------\u001b[0m",
      "\u001b[0;31mKeyboardInterrupt\u001b[0m                         Traceback (most recent call last)",
      "\u001b[0;32m<ipython-input-7-cd4fca60b8c0>\u001b[0m in \u001b[0;36m<cell line: 4>\u001b[0;34m()\u001b[0m\n\u001b[1;32m      4\u001b[0m \u001b[0;32mfor\u001b[0m \u001b[0mtitle\u001b[0m \u001b[0;32min\u001b[0m \u001b[0mitem_titles\u001b[0m\u001b[0;34m:\u001b[0m\u001b[0;34m\u001b[0m\u001b[0;34m\u001b[0m\u001b[0m\n\u001b[1;32m      5\u001b[0m     \u001b[0;31m# 使用jieba进行分词并过滤非字母字符\u001b[0m\u001b[0;34m\u001b[0m\u001b[0;34m\u001b[0m\u001b[0m\n\u001b[0;32m----> 6\u001b[0;31m     \u001b[0mwords\u001b[0m\u001b[0;34m.\u001b[0m\u001b[0mextend\u001b[0m\u001b[0;34m(\u001b[0m\u001b[0;34m[\u001b[0m\u001b[0mword\u001b[0m \u001b[0;32mfor\u001b[0m \u001b[0mword\u001b[0m \u001b[0;32min\u001b[0m \u001b[0mjieba\u001b[0m\u001b[0;34m.\u001b[0m\u001b[0mlcut\u001b[0m\u001b[0;34m(\u001b[0m\u001b[0mtitle\u001b[0m\u001b[0;34m)\u001b[0m \u001b[0;32mif\u001b[0m \u001b[0mword\u001b[0m\u001b[0;34m.\u001b[0m\u001b[0misalpha\u001b[0m\u001b[0;34m(\u001b[0m\u001b[0;34m)\u001b[0m\u001b[0;34m]\u001b[0m\u001b[0;34m)\u001b[0m\u001b[0;34m\u001b[0m\u001b[0;34m\u001b[0m\u001b[0m\n\u001b[0m\u001b[1;32m      7\u001b[0m \u001b[0;34m\u001b[0m\u001b[0m\n\u001b[1;32m      8\u001b[0m \u001b[0;31m# 进行词频统计\u001b[0m\u001b[0;34m\u001b[0m\u001b[0;34m\u001b[0m\u001b[0m\n",
      "\u001b[0;32m/usr/local/lib/python3.10/dist-packages/jieba/__init__.py\u001b[0m in \u001b[0;36mlcut\u001b[0;34m(self, *args, **kwargs)\u001b[0m\n\u001b[1;32m    355\u001b[0m \u001b[0;34m\u001b[0m\u001b[0m\n\u001b[1;32m    356\u001b[0m     \u001b[0;32mdef\u001b[0m \u001b[0mlcut\u001b[0m\u001b[0;34m(\u001b[0m\u001b[0mself\u001b[0m\u001b[0;34m,\u001b[0m \u001b[0;34m*\u001b[0m\u001b[0margs\u001b[0m\u001b[0;34m,\u001b[0m \u001b[0;34m**\u001b[0m\u001b[0mkwargs\u001b[0m\u001b[0;34m)\u001b[0m\u001b[0;34m:\u001b[0m\u001b[0;34m\u001b[0m\u001b[0;34m\u001b[0m\u001b[0m\n\u001b[0;32m--> 357\u001b[0;31m         \u001b[0;32mreturn\u001b[0m \u001b[0mlist\u001b[0m\u001b[0;34m(\u001b[0m\u001b[0mself\u001b[0m\u001b[0;34m.\u001b[0m\u001b[0mcut\u001b[0m\u001b[0;34m(\u001b[0m\u001b[0;34m*\u001b[0m\u001b[0margs\u001b[0m\u001b[0;34m,\u001b[0m \u001b[0;34m**\u001b[0m\u001b[0mkwargs\u001b[0m\u001b[0;34m)\u001b[0m\u001b[0;34m)\u001b[0m\u001b[0;34m\u001b[0m\u001b[0;34m\u001b[0m\u001b[0m\n\u001b[0m\u001b[1;32m    358\u001b[0m \u001b[0;34m\u001b[0m\u001b[0m\n\u001b[1;32m    359\u001b[0m     \u001b[0;32mdef\u001b[0m \u001b[0mlcut_for_search\u001b[0m\u001b[0;34m(\u001b[0m\u001b[0mself\u001b[0m\u001b[0;34m,\u001b[0m \u001b[0;34m*\u001b[0m\u001b[0margs\u001b[0m\u001b[0;34m,\u001b[0m \u001b[0;34m**\u001b[0m\u001b[0mkwargs\u001b[0m\u001b[0;34m)\u001b[0m\u001b[0;34m:\u001b[0m\u001b[0;34m\u001b[0m\u001b[0;34m\u001b[0m\u001b[0m\n",
      "\u001b[0;32m/usr/local/lib/python3.10/dist-packages/jieba/__init__.py\u001b[0m in \u001b[0;36mcut\u001b[0;34m(self, sentence, cut_all, HMM, use_paddle)\u001b[0m\n\u001b[1;32m    323\u001b[0m                 \u001b[0;32mcontinue\u001b[0m\u001b[0;34m\u001b[0m\u001b[0;34m\u001b[0m\u001b[0m\n\u001b[1;32m    324\u001b[0m             \u001b[0;32mif\u001b[0m \u001b[0mre_han\u001b[0m\u001b[0;34m.\u001b[0m\u001b[0mmatch\u001b[0m\u001b[0;34m(\u001b[0m\u001b[0mblk\u001b[0m\u001b[0;34m)\u001b[0m\u001b[0;34m:\u001b[0m\u001b[0;34m\u001b[0m\u001b[0;34m\u001b[0m\u001b[0m\n\u001b[0;32m--> 325\u001b[0;31m                 \u001b[0;32mfor\u001b[0m \u001b[0mword\u001b[0m \u001b[0;32min\u001b[0m \u001b[0mcut_block\u001b[0m\u001b[0;34m(\u001b[0m\u001b[0mblk\u001b[0m\u001b[0;34m)\u001b[0m\u001b[0;34m:\u001b[0m\u001b[0;34m\u001b[0m\u001b[0;34m\u001b[0m\u001b[0m\n\u001b[0m\u001b[1;32m    326\u001b[0m                     \u001b[0;32myield\u001b[0m \u001b[0mword\u001b[0m\u001b[0;34m\u001b[0m\u001b[0;34m\u001b[0m\u001b[0m\n\u001b[1;32m    327\u001b[0m             \u001b[0;32melse\u001b[0m\u001b[0;34m:\u001b[0m\u001b[0;34m\u001b[0m\u001b[0;34m\u001b[0m\u001b[0m\n",
      "\u001b[0;32m/usr/local/lib/python3.10/dist-packages/jieba/__init__.py\u001b[0m in \u001b[0;36m__cut_DAG\u001b[0;34m(self, sentence)\u001b[0m\n\u001b[1;32m    250\u001b[0m         \u001b[0mDAG\u001b[0m \u001b[0;34m=\u001b[0m \u001b[0mself\u001b[0m\u001b[0;34m.\u001b[0m\u001b[0mget_DAG\u001b[0m\u001b[0;34m(\u001b[0m\u001b[0msentence\u001b[0m\u001b[0;34m)\u001b[0m\u001b[0;34m\u001b[0m\u001b[0;34m\u001b[0m\u001b[0m\n\u001b[1;32m    251\u001b[0m         \u001b[0mroute\u001b[0m \u001b[0;34m=\u001b[0m \u001b[0;34m{\u001b[0m\u001b[0;34m}\u001b[0m\u001b[0;34m\u001b[0m\u001b[0;34m\u001b[0m\u001b[0m\n\u001b[0;32m--> 252\u001b[0;31m         \u001b[0mself\u001b[0m\u001b[0;34m.\u001b[0m\u001b[0mcalc\u001b[0m\u001b[0;34m(\u001b[0m\u001b[0msentence\u001b[0m\u001b[0;34m,\u001b[0m \u001b[0mDAG\u001b[0m\u001b[0;34m,\u001b[0m \u001b[0mroute\u001b[0m\u001b[0;34m)\u001b[0m\u001b[0;34m\u001b[0m\u001b[0;34m\u001b[0m\u001b[0m\n\u001b[0m\u001b[1;32m    253\u001b[0m         \u001b[0mx\u001b[0m \u001b[0;34m=\u001b[0m \u001b[0;36m0\u001b[0m\u001b[0;34m\u001b[0m\u001b[0;34m\u001b[0m\u001b[0m\n\u001b[1;32m    254\u001b[0m         \u001b[0mbuf\u001b[0m \u001b[0;34m=\u001b[0m \u001b[0;34m''\u001b[0m\u001b[0;34m\u001b[0m\u001b[0;34m\u001b[0m\u001b[0m\n",
      "\u001b[0;32m/usr/local/lib/python3.10/dist-packages/jieba/__init__.py\u001b[0m in \u001b[0;36mcalc\u001b[0;34m(self, sentence, DAG, route)\u001b[0m\n\u001b[1;32m    175\u001b[0m         \u001b[0mlogtotal\u001b[0m \u001b[0;34m=\u001b[0m \u001b[0mlog\u001b[0m\u001b[0;34m(\u001b[0m\u001b[0mself\u001b[0m\u001b[0;34m.\u001b[0m\u001b[0mtotal\u001b[0m\u001b[0;34m)\u001b[0m\u001b[0;34m\u001b[0m\u001b[0;34m\u001b[0m\u001b[0m\n\u001b[1;32m    176\u001b[0m         \u001b[0;32mfor\u001b[0m \u001b[0midx\u001b[0m \u001b[0;32min\u001b[0m \u001b[0mxrange\u001b[0m\u001b[0;34m(\u001b[0m\u001b[0mN\u001b[0m \u001b[0;34m-\u001b[0m \u001b[0;36m1\u001b[0m\u001b[0;34m,\u001b[0m \u001b[0;34m-\u001b[0m\u001b[0;36m1\u001b[0m\u001b[0;34m,\u001b[0m \u001b[0;34m-\u001b[0m\u001b[0;36m1\u001b[0m\u001b[0;34m)\u001b[0m\u001b[0;34m:\u001b[0m\u001b[0;34m\u001b[0m\u001b[0;34m\u001b[0m\u001b[0m\n\u001b[0;32m--> 177\u001b[0;31m             route[idx] = max((log(self.FREQ.get(sentence[idx:x + 1]) or 1) -\n\u001b[0m\u001b[1;32m    178\u001b[0m                               logtotal + route[x + 1][0], x) for x in DAG[idx])\n\u001b[1;32m    179\u001b[0m \u001b[0;34m\u001b[0m\u001b[0m\n",
      "\u001b[0;32m/usr/local/lib/python3.10/dist-packages/jieba/__init__.py\u001b[0m in \u001b[0;36m<genexpr>\u001b[0;34m(.0)\u001b[0m\n\u001b[1;32m    175\u001b[0m         \u001b[0mlogtotal\u001b[0m \u001b[0;34m=\u001b[0m \u001b[0mlog\u001b[0m\u001b[0;34m(\u001b[0m\u001b[0mself\u001b[0m\u001b[0;34m.\u001b[0m\u001b[0mtotal\u001b[0m\u001b[0;34m)\u001b[0m\u001b[0;34m\u001b[0m\u001b[0;34m\u001b[0m\u001b[0m\n\u001b[1;32m    176\u001b[0m         \u001b[0;32mfor\u001b[0m \u001b[0midx\u001b[0m \u001b[0;32min\u001b[0m \u001b[0mxrange\u001b[0m\u001b[0;34m(\u001b[0m\u001b[0mN\u001b[0m \u001b[0;34m-\u001b[0m \u001b[0;36m1\u001b[0m\u001b[0;34m,\u001b[0m \u001b[0;34m-\u001b[0m\u001b[0;36m1\u001b[0m\u001b[0;34m,\u001b[0m \u001b[0;34m-\u001b[0m\u001b[0;36m1\u001b[0m\u001b[0;34m)\u001b[0m\u001b[0;34m:\u001b[0m\u001b[0;34m\u001b[0m\u001b[0;34m\u001b[0m\u001b[0m\n\u001b[0;32m--> 177\u001b[0;31m             route[idx] = max((log(self.FREQ.get(sentence[idx:x + 1]) or 1) -\n\u001b[0m\u001b[1;32m    178\u001b[0m                               logtotal + route[x + 1][0], x) for x in DAG[idx])\n\u001b[1;32m    179\u001b[0m \u001b[0;34m\u001b[0m\u001b[0m\n",
      "\u001b[0;31mKeyboardInterrupt\u001b[0m: "
     ]
    }
   ],
   "source": [
    "#词频统计\n",
    "item_titles = eastmoney['item_title'].dropna().tolist()\n",
    "words = []\n",
    "for title in item_titles:\n",
    "    # 使用jieba进行分词并过滤非字母字符\n",
    "    words.extend([word for word in jieba.lcut(title) if word.isalpha()])\n",
    "\n",
    "# 进行词频统计\n",
    "word_freq = Counter(words)\n",
    "print(word_freq.most_common(50))"
   ]
  },
  {
   "cell_type": "code",
   "execution_count": null,
   "metadata": {
    "id": "2l5qDHoAdzbC"
   },
   "outputs": [],
   "source": [
    "# 计算每个标题的情感得分并创建新列\n",
    "eastmoney['sentiment_score'] = eastmoney['item_title'].apply(analyze_sentiment, sentiment_dict= sentiment_dict)\n",
    "\n",
    "# 查看带有情感得分的DataFrame6\n",
    "print(eastmoney['sentiment_score'])"
   ]
  },
  {
   "cell_type": "code",
   "execution_count": null,
   "metadata": {
    "id": "Pg0-YEiTd2I5"
   },
   "outputs": [],
   "source": [
    "# 统计每个情感得分的频率\n",
    "sentiment_counts = eastmoney['sentiment_score'].value_counts()\n",
    "\n",
    "# 打印得分的统计情况\n",
    "print(sentiment_counts)"
   ]
  },
  {
   "cell_type": "markdown",
   "metadata": {
    "id": "_15aALbXT5iV"
   },
   "source": [
    "# Sentiment analysis(drop stopwords to caculate the score)\n",
    "\n",
    "\n"
   ]
  },
  {
   "cell_type": "code",
   "execution_count": null,
   "metadata": {
    "id": "uHVndC9SUhUE"
   },
   "outputs": [],
   "source": [
    "def load_stopwords(filepath):\n",
    "    stopwords = set()  # 使用set来存储停用词，避免重复且提高查找效率\n",
    "    with open(filepath, 'r', encoding='utf-8') as file:\n",
    "        for line in file:\n",
    "            stopwords.add(line.strip())\n",
    "    return stopwords\n",
    "\n",
    "stopwords = load_stopwords('/content/hit_stopwords.txt')"
   ]
  },
  {
   "cell_type": "code",
   "execution_count": null,
   "metadata": {
    "id": "CS0qpLllT97q"
   },
   "outputs": [],
   "source": [
    "sentiment_dict = {}\n",
    "with open('media_sentiment_score.txt', 'r', encoding='utf-8') as f:\n",
    "    for line in f:\n",
    "        parts = line.strip().split()\n",
    "        if len(parts) == 2:\n",
    "            word, score = parts\n",
    "            sentiment_dict[word] = float(score)"
   ]
  },
  {
   "cell_type": "code",
   "execution_count": null,
   "metadata": {
    "id": "FWvTApCfUq7G"
   },
   "outputs": [],
   "source": [
    "import jieba\n",
    "import re\n",
    "\n",
    "# 去除文本中的标点符号\n",
    "def remove_punctuation(text):\n",
    "    text = re.sub(r'[^\\w\\s]', '', text)\n",
    "    return text\n",
    "\n",
    "# 去除停用词\n",
    "def remove_stopwords(text, stopwords):\n",
    "    words = jieba.cut(text)\n",
    "    words_filtered = [word for word in words if word not in stopwords]\n",
    "    return ' '.join(words_filtered)  # 返回分词后的字符串，词之间以空格分隔\n",
    "\n",
    "# 预处理文本，包括去除标点和停用词\n",
    "def preprocess_text(text, stopwords):\n",
    "    text = remove_punctuation(text)\n",
    "    text = remove_stopwords(text, stopwords)\n",
    "    return text"
   ]
  },
  {
   "cell_type": "code",
   "execution_count": null,
   "metadata": {
    "colab": {
     "base_uri": "https://localhost:8080/"
    },
    "id": "I8AyhllHYY6f",
    "outputId": "1d1fbe6a-6dbf-4924-f42f-3ba5eeaf6fde"
   },
   "outputs": [
    {
     "name": "stdout",
     "output_type": "stream",
     "text": [
      "Collecting snownlp\n",
      "  Downloading snownlp-0.12.3.tar.gz (37.6 MB)\n",
      "\u001b[2K     \u001b[90m━━━━━━━━━━━━━━━━━━━━━━━━━━━━━━━━━━━━━━━━\u001b[0m \u001b[32m37.6/37.6 MB\u001b[0m \u001b[31m39.9 MB/s\u001b[0m eta \u001b[36m0:00:00\u001b[0m\n",
      "\u001b[?25h  Preparing metadata (setup.py) ... \u001b[?25l\u001b[?25hdone\n",
      "Building wheels for collected packages: snownlp\n",
      "  Building wheel for snownlp (setup.py) ... \u001b[?25l\u001b[?25hdone\n",
      "  Created wheel for snownlp: filename=snownlp-0.12.3-py3-none-any.whl size=37760946 sha256=dec6703cee9f16e7b789f327d4808436c308d7515635794e8113e97c5f3a9d3c\n",
      "  Stored in directory: /root/.cache/pip/wheels/43/f3/70/8990fc249efeb396007766676706f71dd3d1ca3c023ce522ce\n",
      "Successfully built snownlp\n",
      "Installing collected packages: snownlp\n",
      "Successfully installed snownlp-0.12.3\n"
     ]
    }
   ],
   "source": [
    "pip install snownlp"
   ]
  },
  {
   "cell_type": "code",
   "execution_count": null,
   "metadata": {
    "id": "yM9eoU0mU3Eb"
   },
   "outputs": [],
   "source": [
    "import pandas as pd\n",
    "import jieba\n",
    "from snownlp import SnowNLP\n",
    "from collections import Counter\n",
    "\n",
    "def analyze_sentiment(title, stopwords, sentiment_dict):\n",
    "    title = preprocess_text(title, stopwords)  # 预处理标题\n",
    "    words = jieba.lcut(title)  # 再次分词\n",
    "    score = 0\n",
    "    for word in words:\n",
    "        if word in sentiment_dict:\n",
    "            score += sentiment_dict[word]\n",
    "        else:\n",
    "            snownlp_score = SnowNLP(word).sentiments\n",
    "            adjusted_score = snownlp_score * 2 - 1\n",
    "            score += adjusted_score\n",
    "    normalized_score = score / len(words) if words else 0  # 防止除以零错误\n",
    "    return normalized_score"
   ]
  },
  {
   "cell_type": "code",
   "execution_count": null,
   "metadata": {
    "id": "3KQjJazcU9pz"
   },
   "outputs": [],
   "source": [
    "# 计算每个标题的情感得分并创建新列\n",
    "eastmoney['drop_sentiment_score'] = eastmoney['item_title'].apply(lambda x: analyze_sentiment(x, stopwords, sentiment_dict))"
   ]
  },
  {
   "cell_type": "markdown",
   "metadata": {
    "id": "toSnTNhNMeai"
   },
   "source": [
    "Compare the score of original sentiment score with score dropping the stopwords. The result of original one looks good. So use the sentiment score in the following steps."
   ]
  },
  {
   "cell_type": "code",
   "execution_count": null,
   "metadata": {
    "colab": {
     "base_uri": "https://localhost:8080/"
    },
    "id": "GUZNRLvmaN5a",
    "outputId": "833d1842-51a9-4c14-ffd7-54830aa0c30b"
   },
   "outputs": [
    {
     "name": "stdout",
     "output_type": "stream",
     "text": [
      "                              item_title  sentiment_score  \\\n",
      "6082451        九安医疗董事长回应兜底增持：对公司未来长期发展坚定         0.432288   \n",
      "4962086              新洁能07月14日被沪股通减持33万股        -0.176380   \n",
      "712516          英科医疗11月10日被深股通减持171.29万股        -0.210590   \n",
      "5884660            中富通2018年度净利润预增25%-50%        -0.037155   \n",
      "1293733   招商证券：主力资金连续6天净流出累计2.46亿元（12-16         0.006954   \n",
      "5249615   哈铁科技：融资净偿还79.7万元，融资余额4233.93万元         0.156243   \n",
      "2431342   齐心集团：融资净买入143.75万元，融资余额1.83亿元（         0.246737   \n",
      "2621497        青农商行(002958)融资融券信息(03-02)         0.039410   \n",
      "4137228      【图解季报】抚顺特钢：2021年一季度归母净利润同比大         0.118083   \n",
      "6426472                  长安信托产品逾期 恒银科技踩雷         0.284918   \n",
      "4520774  广深铁路：连续7日融资净买入累计2127.57万元（01-11         0.164345   \n",
      "6195490        瑞茂通：公司开展的生物柴油业务主要销往荷兰等欧洲国         0.078935   \n",
      "3626251         章源钨业（002378）龙虎榜数据（04-08）         0.103458   \n",
      "270392         国信证券首次给予报喜鸟买入评级 目标价5.6~6元         0.123501   \n",
      "253464      东港股份本周融资净买入805.29万元，居造纸印刷板块第         0.164250   \n",
      "217472      达安基因本周融资净偿还3919.86万元，居医疗器械板块         0.093809   \n",
      "5112518   万德斯：连续7日融资净偿还累计304.17万元（10-15）        -0.013049   \n",
      "419831   金溢科技：主力资金净流出659.62万元，净占比-7.46%（         0.116400   \n",
      "4778372     浙江鼎力股东户数下降2.04%，户均持股100.74万元        -0.023510   \n",
      "5545315      所出具的獐子岛2016年年审报告存虚假记载 大华所被罚        -0.000410   \n",
      "\n",
      "         drop_sentiment_score  \n",
      "6082451              0.287594  \n",
      "4962086             -0.080024  \n",
      "712516              -0.097852  \n",
      "5884660             -0.007874  \n",
      "1293733              0.016225  \n",
      "5249615              0.116709  \n",
      "2431342              0.166107  \n",
      "2621497              0.081907  \n",
      "4137228              0.096211  \n",
      "6426472              0.175529  \n",
      "4520774              0.122333  \n",
      "6195490              0.070112  \n",
      "3626251              0.100069  \n",
      "270392               0.133229  \n",
      "253464               0.120508  \n",
      "217472               0.076090  \n",
      "5112518              0.015402  \n",
      "419831               0.101178  \n",
      "4778372              0.008480  \n",
      "5545315              0.017215  \n"
     ]
    }
   ],
   "source": [
    "#随机查看样本\n",
    "import pandas as pd\n",
    "\n",
    "sampled_data = eastmoney.sample(20, random_state=1)  # 使用random_state确保结果可复现\n",
    "print(sampled_data[['item_title', 'sentiment_score','drop_sentiment_score']])"
   ]
  },
  {
   "cell_type": "code",
   "execution_count": null,
   "metadata": {
    "colab": {
     "base_uri": "https://localhost:8080/",
     "height": 564
    },
    "id": "6rlrSRvDFRgX",
    "outputId": "2c9fe715-54c8-4089-adb7-c8806720a8d6"
   },
   "outputs": [
    {
     "data": {
      "image/png": "[encoded data removed]",
      "text/plain": [
       "<Figure size 1000x600 with 1 Axes>"
      ]
     },
     "metadata": {},
     "output_type": "display_data"
    }
   ],
   "source": [
    "#绘制得分结果\n",
    "import pandas as pd\n",
    "import matplotlib.pyplot as plt\n",
    "import numpy as np\n",
    "\n",
    "# 计算频数\n",
    "score_range = np.arange(-1, 1.01, 0.01)  # 从-1到1，步长为0.01\n",
    "freq, bins = np.histogram(eastmoney['sentiment_score'], bins=score_range)\n",
    "\n",
    "# 绘制折线图\n",
    "plt.figure(figsize=(10, 6))\n",
    "plt.plot(bins[:-1], freq, marker='o', linestyle='-', color='b')  # 使用bins的左端点作为x值\n",
    "plt.title('Frequency Distribution of Sentiment Scores')\n",
    "plt.xlabel('Sentiment Score')\n",
    "plt.ylabel('Frequency')\n",
    "plt.grid(True)\n",
    "plt.show()"
   ]
  },
  {
   "cell_type": "markdown",
   "metadata": {
    "id": "qGtVmgcbL9j3"
   },
   "source": [
    "# Punctuation marks of eastmoney[item_title]"
   ]
  },
  {
   "cell_type": "code",
   "execution_count": null,
   "metadata": {
    "id": "vpAsL97_MJ2I"
   },
   "outputs": [],
   "source": [
    "def update_punctuation_marks(eastmoney):\n",
    "    item_title_value = str(eastmoney['item_title'])\n",
    "\n",
    "    #\"！\"\n",
    "    eastmoney['exclamation_mark'] = 1 if '！' in item_title_value else 0\n",
    "\n",
    "    # \"？\"\n",
    "    eastmoney['question_mark'] = 1 if '？' in item_title_value else 0\n",
    "\n",
    "    # \"：\"\n",
    "    eastmoney['colon_mark'] = 1 if '：' in item_title_value else 0\n",
    "\n",
    "update_punctuation_marks(eastmoney)\n",
    "\n",
    "def caculate_punctuation_marks(df):\n",
    "    eastmoney['exclamation_mark'] = eastmoney['item_title'].apply(lambda x: 1 if '！' in x else 0)\n",
    "    eastmoney['question_mark'] = eastmoney['item_title'].apply(lambda x: 1 if '？' in x else 0)\n",
    "    eastmoney['colon_mark'] = eastmoney['item_title'].apply(lambda x: 1 if '：' in x else 0)\n",
    "\n",
    "caculate_punctuation_marks(eastmoney)\n",
    "exclamation_count = eastmoney['exclamation_mark'].sum()\n",
    "question_count = eastmoney['question_mark'].sum()\n",
    "colon_count = eastmoney['colon_mark'].sum()\n",
    "\n",
    "path = '/content/drive/MyDrive/eastmoney_special_symbols.csv'\n",
    "eastmoney.to_csv(path, index=False)\n"
   ]
  },
  {
   "cell_type": "code",
   "execution_count": null,
   "metadata": {
    "colab": {
     "base_uri": "https://localhost:8080/"
    },
    "id": "gMimM5rjP4Kb",
    "outputId": "b76db433-839d-4c9e-ee6a-d9a2bfe11935"
   },
   "outputs": [
    {
     "name": "stdout",
     "output_type": "stream",
     "text": [
      "包含 '！' 的条目数量: 62821\n",
      "包含 '？' 的条目数量: 20609\n",
      "包含 '：' 的条目数量: 3115157\n"
     ]
    }
   ],
   "source": [
    "print(\"包含 '！' 的条目数量:\", exclamation_count)\n",
    "print(\"包含 '？' 的条目数量:\", question_count)\n",
    "print(\"包含 '：' 的条目数量:\", colon_count)"
   ]
  },
  {
   "cell_type": "markdown",
   "metadata": {
    "id": "u8hnWeFbVv8U"
   },
   "source": [
    "# LDA"
   ]
  },
  {
   "cell_type": "code",
   "execution_count": null,
   "metadata": {
    "id": "sqBnb8alMyXV"
   },
   "outputs": [],
   "source": [
    "import pandas as pd\n",
    "eastmoney = pd.read_csv('/content/drive/MyDrive/eastmoney_special_symbols.csv')"
   ]
  },
  {
   "cell_type": "code",
   "execution_count": null,
   "metadata": {
    "colab": {
     "base_uri": "https://localhost:8080/"
    },
    "id": "uhJwJMgJM7RO",
    "outputId": "ccefddc5-1a12-4cf6-c0ea-3d223712a637"
   },
   "outputs": [
    {
     "name": "stdout",
     "output_type": "stream",
     "text": [
      "Index(['item_title', 'item_author', 'article_author', 'article_source',\n",
      "       'item_views', 'item_comment_counts', 'article_likes', 'year', 'month',\n",
      "       'eastmoney_robo_journalism', 'media_robo_journalism',\n",
      "       'SMA_robo_journalism', 'viral', 'article_source_cate',\n",
      "       'item_author_cate', 'sentiment_score', 'drop_sentiment_score',\n",
      "       'exclamation_mark', 'question_mark', 'colon_mark'],\n",
      "      dtype='object')\n"
     ]
    }
   ],
   "source": [
    "print(eastmoney.columns)"
   ]
  },
  {
   "cell_type": "markdown",
   "metadata": {
    "id": "DmRYfCoDMxoC"
   },
   "source": [
    "Lda model with num_topics=5"
   ]
  },
  {
   "cell_type": "code",
   "execution_count": null,
   "metadata": {
    "colab": {
     "base_uri": "https://localhost:8080/"
    },
    "id": "uz1aEzQtSkPs",
    "outputId": "1050e788-ef07-464a-c1a4-b8fbc4fabbb4"
   },
   "outputs": [
    {
     "name": "stderr",
     "output_type": "stream",
     "text": [
      "Building prefix dict from the default dictionary ...\n",
      "DEBUG:jieba:Building prefix dict from the default dictionary ...\n",
      "Dumping model to file cache /tmp/jieba.cache\n",
      "DEBUG:jieba:Dumping model to file cache /tmp/jieba.cache\n",
      "Loading model cost 0.839 seconds.\n",
      "DEBUG:jieba:Loading model cost 0.839 seconds.\n",
      "Prefix dict has been built successfully.\n",
      "DEBUG:jieba:Prefix dict has been built successfully.\n"
     ]
    }
   ],
   "source": [
    "import pandas as pd\n",
    "import jieba\n",
    "from gensim import corpora, models\n",
    "import re\n",
    "\n",
    "# 去除文本中的标点符号\n",
    "def remove_punctuation(text):\n",
    "    # 使用正则表达式去除标点\n",
    "    text = re.sub(r'\\s+', ' ', text)\n",
    "    text = re.sub(r'[^\\w\\s]', '', text)\n",
    "    return text\n",
    "\n",
    "# 加载停用词列表\n",
    "stop_words = set()\n",
    "with open('hit_stopwords.txt', 'r', encoding='utf-8') as file:  # 假设停用词列表文件名为 chinese_stop_words.txt\n",
    "    for word in file:\n",
    "        stop_words.add(word.strip())\n",
    "def remove_stopwords(words):\n",
    "    words = [word for word in words if word not in stop_words]\n",
    "    return words\n",
    "\n",
    "# eastmoney['sentiment_score'] 为情感得分列\n",
    "# 分词处理\n",
    "eastmoney['cut_titles'] = eastmoney['item_title'].apply(lambda x: remove_stopwords(list(jieba.cut(remove_punctuation(x)))))"
   ]
  },
  {
   "cell_type": "code",
   "execution_count": null,
   "metadata": {
    "id": "AhP6HKYZDlXU"
   },
   "outputs": [],
   "source": [
    "from gensim import corpora, models\n",
    "import re\n",
    "# 创建词典（即单词的唯一ID映射）\n",
    "dictionary = corpora.Dictionary(eastmoney['cut_titles'])\n",
    "# 使用词典将文档转换成文档-词矩阵（bag-of-words）\n",
    "corpus = [dictionary.doc2bow(text) for text in eastmoney['cut_titles']]"
   ]
  },
  {
   "cell_type": "code",
   "execution_count": null,
   "metadata": {
    "id": "ujaiSgrnLA77"
   },
   "outputs": [],
   "source": [
    "from gensim import models\n",
    "# 加载保存的模型\n",
    "model_path = '/content/drive/MyDrive/lda/eastmoney_lda_model5'\n",
    "lda_model = models.LdaModel.load(model_path)"
   ]
  },
  {
   "cell_type": "code",
   "execution_count": null,
   "metadata": {
    "colab": {
     "base_uri": "https://localhost:8080/"
    },
    "id": "D1htNVnaZoyw",
    "outputId": "ae748ecd-10ee-41cc-8008-f8d7bf83d1be"
   },
   "outputs": [
    {
     "name": "stdout",
     "output_type": "stream",
     "text": [
      "(0, '0.070*\"万股\" + 0.068*\"股通\" + 0.040*\"增持\" + 0.031*\"减持\" + 0.029*\"沪\" + 0.022*\"获深\" + 0.019*\"快速\" + 0.019*\"股份\" + 0.017*\"5\" + 0.016*\"深\"')\n",
      "(1, '0.050*\"净\" + 0.046*\"主力\" + 0.045*\"资金\" + 0.045*\"本周\" + 0.036*\"居\" + 0.030*\"流出\" + 0.025*\"板块\" + 0.025*\"占\" + 0.021*\"连续\" + 0.018*\"累计\"')\n",
      "(2, '0.159*\"融资\" + 0.096*\"净\" + 0.061*\"余额\" + 0.054*\"买入\" + 0.050*\"偿还\" + 0.026*\"连续\" + 0.024*\"累计\" + 0.012*\"3\" + 0.012*\"科技\" + 0.010*\"回顾\"')\n",
      "(3, '0.110*\"融资\" + 0.051*\"信息\" + 0.050*\"融券\" + 0.035*\"余额\" + 0.024*\"股份\" + 0.021*\"净\" + 0.021*\"创近\" + 0.020*\"一年\" + 0.017*\"新低\" + 0.016*\"偿还\"')\n",
      "(4, '0.046*\" \" + 0.019*\"净利润\" + 0.016*\"公司\" + 0.015*\"同比\" + 0.015*\"股份\" + 0.011*\"股东\" + 0.008*\"2021\" + 0.008*\"预计\" + 0.008*\"证券\" + 0.008*\"科技\"')\n"
     ]
    }
   ],
   "source": [
    "# 打印所有主题\n",
    "topics = lda_model.print_topics(num_words=10)\n",
    "for topic in topics:\n",
    "    print(topic)"
   ]
  },
  {
   "cell_type": "code",
   "execution_count": null,
   "metadata": {
    "colab": {
     "base_uri": "https://localhost:8080/"
    },
    "id": "ziuZm4D9hBGU",
    "outputId": "8f54d7ff-a949-4aee-bf54-c9044b9804ae"
   },
   "outputs": [
    {
     "name": "stderr",
     "output_type": "stream",
     "text": [
      "Calculating topics: 100%|██████████| 6603696/6603696 [10:15:46<00:00, 178.74it/s]\n"
     ]
    }
   ],
   "source": [
    "from tqdm import tqdm\n",
    "# 如果需要将主题分布加入原DataFrame\n",
    "eastmoney['topics'] = [lda_model[dictionary.doc2bow(text)] for text in tqdm(eastmoney['cut_titles'], desc=\"Calculating topics\")]\n",
    "\n",
    "path = '/content/drive/My Drive/lda/eastmoney_topic_d.csv'\n",
    "eastmoney.to_csv(path, index=False)"
   ]
  },
  {
   "cell_type": "code",
   "execution_count": null,
   "metadata": {
    "colab": {
     "base_uri": "https://localhost:8080/"
    },
    "id": "VgUZh6rI0gky",
    "outputId": "75a596cb-93a1-450d-a031-22fc57bb71c9"
   },
   "outputs": [
    {
     "name": "stdout",
     "output_type": "stream",
     "text": [
      "best_lda_model.model\t\t      eastmoney_lda_model5.id2word\n",
      "best_lda_model.model.expElogbeta.npy  eastmoney_lda_model5.state\n",
      "best_lda_model.model.id2word\t      eastmoney_special_symbols.csv\n",
      "best_lda_model.model.state\t      eastmoney_topic_d.csv\n",
      "eastmoney_lda_model5\t\t      hit_stopwords.txt\n",
      "eastmoney_lda_model5.expElogbeta.npy  test.ipynb\n"
     ]
    }
   ],
   "source": [
    "!ls \"/content/drive/My Drive/lda\""
   ]
  },
  {
   "cell_type": "code",
   "execution_count": null,
   "metadata": {
    "id": "MucNKkWNkMhE"
   },
   "outputs": [],
   "source": [
    "import pandas as pd\n",
    "eastmoney = pd.read_csv('/content/drive/MyDrive/lda/eastmoney_topic_d.csv')"
   ]
  },
  {
   "cell_type": "code",
   "execution_count": null,
   "metadata": {
    "colab": {
     "base_uri": "https://localhost:8080/"
    },
    "id": "_2AFxioKQ08k",
    "outputId": "4ee13d92-d0a2-493e-ee31-5b2118cef86b"
   },
   "outputs": [
    {
     "name": "stdout",
     "output_type": "stream",
     "text": [
      "Index(['item_title', 'item_author', 'article_author', 'article_source',\n",
      "       'item_views', 'item_comment_counts', 'article_likes', 'year', 'month',\n",
      "       'eastmoney_robo_journalism', 'media_robo_journalism',\n",
      "       'SMA_robo_journalism', 'viral', 'article_source_cate',\n",
      "       'item_author_cate', 'sentiment_score', 'drop_sentiment_score',\n",
      "       'exclamation_mark', 'question_mark', 'colon_mark', 'cut_titles',\n",
      "       'topics'],\n",
      "      dtype='object')\n"
     ]
    }
   ],
   "source": [
    "print(eastmoney.columns)"
   ]
  },
  {
   "cell_type": "code",
   "execution_count": null,
   "metadata": {
    "colab": {
     "base_uri": "https://localhost:8080/"
    },
    "id": "VwqDO3GHRpfz",
    "outputId": "3d77bd4f-cc43-428d-eaa6-5f599ac79997"
   },
   "outputs": [
    {
     "name": "stdout",
     "output_type": "stream",
     "text": [
      "0    ([(0, 0.9085021), (1, 0.02251449), (2, 0.02262...\n",
      "1    ([(0, 0.022369185), (1, 0.022620665), (2, 0.02...\n",
      "2    ([(0, 0.023687763), (1, 0.48437315), (2, 0.444...\n",
      "3    ([(0, 0.01695534), (1, 0.93128335), (2, 0.0172...\n",
      "4    ([(0, 0.025107827), (1, 0.45474753), (2, 0.469...\n",
      "Name: topics, dtype: object\n"
     ]
    }
   ],
   "source": [
    "print(eastmoney['topics'].head())"
   ]
  },
  {
   "cell_type": "code",
   "execution_count": null,
   "metadata": {
    "colab": {
     "base_uri": "https://localhost:8080/"
    },
    "id": "NkcEt3dpcsV8",
    "outputId": "f5c2aa85-c429-4612-bd29-caf3cf16e8d4"
   },
   "outputs": [
    {
     "name": "stderr",
     "output_type": "stream",
     "text": [
      "Extracting dominant topics: 100%|██████████| 6603696/6603696 [00:21<00:00, 312198.82it/s]\n"
     ]
    },
    {
     "name": "stdout",
     "output_type": "stream",
     "text": [
      "                             item_title  \\\n",
      "0                    平安银行2019年度10派2.18元   \n",
      "1              平安银行：2020上半年净利润同比下降11.2%   \n",
      "2        平安银行：主力净流入1.05亿元，两市排名第17（09-16   \n",
      "3        平安银行：主力资金连续4天净流入累计4.11亿元（09-17   \n",
      "4        平安银行：主力净流入3.09亿元，两市排名第14（09-18   \n",
      "...                                 ...   \n",
      "6603691       中芯国际今年上半年净利润下降逾五成 半导体市场整体   \n",
      "6603692   中芯国际上半年归母净利润6.34亿美元 同比下降34.1%   \n",
      "6603693    中芯国际上半年营收同比下降13.3% 市场仍处库存消化阶   \n",
      "6603694    中芯国际上半年营收降13%净利降52% 股价涨0.52%   \n",
      "6603695       华为旗舰机“抢跑”刺激消费市场 “晶圆代工双雄”异   \n",
      "\n",
      "                                                    topics  dominant_topic  \n",
      "0        ([(0, 0.9085021), (1, 0.02251449), (2, 0.02262...               0  \n",
      "1        ([(0, 0.022369185), (1, 0.022620665), (2, 0.02...               4  \n",
      "2        ([(0, 0.023687763), (1, 0.48437315), (2, 0.444...               1  \n",
      "3        ([(0, 0.01695534), (1, 0.93128335), (2, 0.0172...               1  \n",
      "4        ([(0, 0.025107827), (1, 0.45474753), (2, 0.469...               2  \n",
      "...                                                    ...             ...  \n",
      "6603691  ([(0, 0.015474596), (1, 0.015493545), (2, 0.01...               4  \n",
      "6603692  ([(0, 0.016933424), (1, 0.016834188), (2, 0.01...               4  \n",
      "6603693  ([(0, 0.01441427), (1, 0.014414503), (2, 0.014...               4  \n",
      "6603694  ([(0, 0.0161588), (1, 0.015602509), (2, 0.0157...               4  \n",
      "6603695  ([(0, 0.022805907), (1, 0.022814138), (2, 0.02...               4  \n",
      "\n",
      "[6603696 rows x 3 columns]\n"
     ]
    }
   ],
   "source": [
    "from tqdm import tqdm\n",
    "\n",
    "# 为每个文档提取最大概率的主题，并加入DataFrame\n",
    "dominant_topics = []\n",
    "for topic_tuple in tqdm(eastmoney['topics'], desc=\"Extracting dominant topics\"):\n",
    "    if topic_tuple:  # 确保topics元组不为空\n",
    "        topic_list = topic_tuple[0]  # 获取主题概率列表\n",
    "        if topic_list:  # 确保主题列表不为空\n",
    "            dominant_topic = max(topic_list, key=lambda x: x[1])[0]\n",
    "            dominant_topics.append(dominant_topic)\n",
    "        else:\n",
    "            dominant_topics.append(None)  # 如果没有主题，则添加None\n",
    "    else:\n",
    "        dominant_topics.append(None)  # 如果topics元组为空，添加None\n",
    "\n",
    "eastmoney['dominant_topic'] = dominant_topics\n",
    "\n",
    "# 查看主题分布在原DataFrame中的样子\n",
    "print(eastmoney[['item_title', 'topics', 'dominant_topic']])"
   ]
  },
  {
   "cell_type": "markdown",
   "metadata": {
    "id": "UG4It742M82E"
   },
   "source": [
    "# Use machine learning models to predict virality"
   ]
  },
  {
   "cell_type": "code",
   "execution_count": null,
   "metadata": {
    "colab": {
     "base_uri": "https://localhost:8080/"
    },
    "id": "F4pRYkXe3YpD",
    "outputId": "a827f1e2-92ce-48db-be1b-9bbc56ec119f"
   },
   "outputs": [
    {
     "name": "stdout",
     "output_type": "stream",
     "text": [
      "Mounted at /content/drive\n"
     ]
    }
   ],
   "source": [
    "from google.colab import drive\n",
    "drive.mount('/content/drive')"
   ]
  },
  {
   "cell_type": "code",
   "execution_count": 3,
   "metadata": {
    "id": "j290P1rx3Mrs"
   },
   "outputs": [],
   "source": [
    "import pandas as pd\n",
    "eastmoney = pd.read_csv('./data/eastmoney_topic.csv')"
   ]
  },
  {
   "cell_type": "code",
   "execution_count": 4,
   "metadata": {
    "colab": {
     "base_uri": "https://localhost:8080/"
    },
    "id": "5IZioREP5Th6",
    "outputId": "ff6c2ef9-879a-4fd9-b8a6-545174c67f63"
   },
   "outputs": [
    {
     "name": "stdout",
     "output_type": "stream",
     "text": [
      "Index(['item_title', 'item_author', 'article_author', 'article_source',\n",
      "       'item_views', 'item_comment_counts', 'article_likes', 'year', 'month',\n",
      "       'eastmoney_robo_journalism', 'media_robo_journalism',\n",
      "       'SMA_robo_journalism', 'viral', 'article_source_cate',\n",
      "       'item_author_cate', 'sentiment_score', 'drop_sentiment_score',\n",
      "       'exclamation_mark', 'question_mark', 'colon_mark', 'cut_titles',\n",
      "       'topics', 'dominant_topic'],\n",
      "      dtype='object')\n"
     ]
    }
   ],
   "source": [
    "print(eastmoney.columns)"
   ]
  },
  {
   "cell_type": "code",
   "execution_count": 5,
   "metadata": {
    "id": "0zaowA30uymU"
   },
   "outputs": [],
   "source": [
    "from sklearn.preprocessing import OneHotEncoder, LabelEncoder\n",
    "# 将类别特征转换为数值\n",
    "le = LabelEncoder()\n",
    "eastmoney['article_author'] = le.fit_transform(eastmoney['article_author'].astype(str))\n",
    "eastmoney['article_source_cate'] = eastmoney['article_source_cate'].astype('category')\n",
    "eastmoney['article_source_cate'] = eastmoney['article_source_cate'].cat.codes\n",
    "eastmoney['dominant_topic'] = eastmoney['dominant_topic'].astype('category')\n",
    "eastmoney['dominant_topic'] = eastmoney['dominant_topic'].cat.codes\n",
    "eastmoney['month'] = eastmoney['month'].astype('category')\n",
    "eastmoney['month'] = eastmoney['month'].cat.codes\n",
    "eastmoney['exclamation_mark'] = eastmoney['exclamation_mark'].astype('category')\n",
    "eastmoney['exclamation_mark'] = eastmoney['exclamation_mark'].cat.codes\n",
    "eastmoney['question_mark'] = eastmoney['question_mark'].astype('category')\n",
    "eastmoney['question_mark'] = eastmoney['question_mark'].cat.codes\n",
    "eastmoney['colon_mark'] = eastmoney['colon_mark'].astype('category')\n",
    "eastmoney['colon_mark'] = eastmoney['colon_mark'].cat.codes\n",
    "columns = ['sentiment_score', 'article_source_cate', 'month', 'eastmoney_robo_journalism',\n",
    "           'media_robo_journalism', 'SMA_robo_journalism', 'article_author', 'dominant_topic',\n",
    "           'exclamation_mark', 'question_mark', 'colon_mark']\n",
    "\n",
    "selected_data = eastmoney[columns]\n",
    "selected_data.columns = selected_data.columns.str.strip()"
   ]
  },
  {
   "cell_type": "markdown",
   "metadata": {
    "id": "iPW1-BTAuf_B"
   },
   "source": [
    "## XGboost"
   ]
  },
  {
   "cell_type": "code",
   "execution_count": 8,
   "metadata": {
    "colab": {
     "base_uri": "https://localhost:8080/"
    },
    "id": "oK8d03bH3jya",
    "outputId": "a231280e-ef5f-4604-a35e-008cd7a2a98c"
   },
   "outputs": [
    {
     "name": "stdout",
     "output_type": "stream",
     "text": [
      "Fitting 3 folds for each of 243 candidates, totalling 729 fits\n",
      "[CV 1/3] END colsample_bytree=0.3, learning_rate=0.01, max_depth=3, n_estimators=100, subsample=0.8;, score=0.952 total time=   4.3s\n",
      "[CV 2/3] END colsample_bytree=0.3, learning_rate=0.01, max_depth=3, n_estimators=100, subsample=0.8;, score=0.952 total time=   4.0s\n",
      "[CV 3/3] END colsample_bytree=0.3, learning_rate=0.01, max_depth=3, n_estimators=100, subsample=0.8;, score=0.952 total time=   3.9s\n",
      "[CV 1/3] END colsample_bytree=0.3, learning_rate=0.01, max_depth=3, n_estimators=100, subsample=0.9;, score=0.952 total time=   3.8s\n",
      "[CV 2/3] END colsample_bytree=0.3, learning_rate=0.01, max_depth=3, n_estimators=100, subsample=0.9;, score=0.952 total time=   3.8s\n",
      "[CV 3/3] END colsample_bytree=0.3, learning_rate=0.01, max_depth=3, n_estimators=100, subsample=0.9;, score=0.952 total time=   3.8s\n",
      "[CV 1/3] END colsample_bytree=0.3, learning_rate=0.01, max_depth=3, n_estimators=100, subsample=1.0;, score=0.952 total time=   3.6s\n",
      "[CV 2/3] END colsample_bytree=0.3, learning_rate=0.01, max_depth=3, n_estimators=100, subsample=1.0;, score=0.952 total time=   3.8s\n",
      "[CV 3/3] END colsample_bytree=0.3, learning_rate=0.01, max_depth=3, n_estimators=100, subsample=1.0;, score=0.952 total time=   3.7s\n",
      "[CV 1/3] END colsample_bytree=0.3, learning_rate=0.01, max_depth=3, n_estimators=200, subsample=0.8;, score=0.952 total time=   7.0s\n",
      "[CV 2/3] END colsample_bytree=0.3, learning_rate=0.01, max_depth=3, n_estimators=200, subsample=0.8;, score=0.952 total time=   7.0s\n",
      "[CV 3/3] END colsample_bytree=0.3, learning_rate=0.01, max_depth=3, n_estimators=200, subsample=0.8;, score=0.952 total time=   7.0s\n",
      "[CV 1/3] END colsample_bytree=0.3, learning_rate=0.01, max_depth=3, n_estimators=200, subsample=0.9;, score=0.952 total time=   6.6s\n",
      "[CV 2/3] END colsample_bytree=0.3, learning_rate=0.01, max_depth=3, n_estimators=200, subsample=0.9;, score=0.952 total time=   6.7s\n",
      "[CV 3/3] END colsample_bytree=0.3, learning_rate=0.01, max_depth=3, n_estimators=200, subsample=0.9;, score=0.952 total time=   6.7s\n",
      "[CV 1/3] END colsample_bytree=0.3, learning_rate=0.01, max_depth=3, n_estimators=200, subsample=1.0;, score=0.952 total time=   6.5s\n",
      "[CV 2/3] END colsample_bytree=0.3, learning_rate=0.01, max_depth=3, n_estimators=200, subsample=1.0;, score=0.952 total time=   6.4s\n",
      "[CV 3/3] END colsample_bytree=0.3, learning_rate=0.01, max_depth=3, n_estimators=200, subsample=1.0;, score=0.952 total time=   6.3s\n",
      "[CV 1/3] END colsample_bytree=0.3, learning_rate=0.01, max_depth=3, n_estimators=300, subsample=0.8;, score=0.953 total time=  10.1s\n",
      "[CV 2/3] END colsample_bytree=0.3, learning_rate=0.01, max_depth=3, n_estimators=300, subsample=0.8;, score=0.953 total time=   9.9s\n",
      "[CV 3/3] END colsample_bytree=0.3, learning_rate=0.01, max_depth=3, n_estimators=300, subsample=0.8;, score=0.953 total time=  10.1s\n",
      "[CV 1/3] END colsample_bytree=0.3, learning_rate=0.01, max_depth=3, n_estimators=300, subsample=0.9;, score=0.953 total time=   9.7s\n",
      "[CV 2/3] END colsample_bytree=0.3, learning_rate=0.01, max_depth=3, n_estimators=300, subsample=0.9;, score=0.953 total time=  10.0s\n",
      "[CV 3/3] END colsample_bytree=0.3, learning_rate=0.01, max_depth=3, n_estimators=300, subsample=0.9;, score=0.953 total time=  10.1s\n",
      "[CV 1/3] END colsample_bytree=0.3, learning_rate=0.01, max_depth=3, n_estimators=300, subsample=1.0;, score=0.953 total time=   9.3s\n",
      "[CV 2/3] END colsample_bytree=0.3, learning_rate=0.01, max_depth=3, n_estimators=300, subsample=1.0;, score=0.953 total time=   9.3s\n",
      "[CV 3/3] END colsample_bytree=0.3, learning_rate=0.01, max_depth=3, n_estimators=300, subsample=1.0;, score=0.953 total time=  10.8s\n",
      "[CV 1/3] END colsample_bytree=0.3, learning_rate=0.01, max_depth=5, n_estimators=100, subsample=0.8;, score=0.952 total time=   5.2s\n",
      "[CV 2/3] END colsample_bytree=0.3, learning_rate=0.01, max_depth=5, n_estimators=100, subsample=0.8;, score=0.952 total time=   5.1s\n",
      "[CV 3/3] END colsample_bytree=0.3, learning_rate=0.01, max_depth=5, n_estimators=100, subsample=0.8;, score=0.952 total time=   5.2s\n",
      "[CV 1/3] END colsample_bytree=0.3, learning_rate=0.01, max_depth=5, n_estimators=100, subsample=0.9;, score=0.952 total time=   5.0s\n",
      "[CV 2/3] END colsample_bytree=0.3, learning_rate=0.01, max_depth=5, n_estimators=100, subsample=0.9;, score=0.952 total time=   4.9s\n",
      "[CV 3/3] END colsample_bytree=0.3, learning_rate=0.01, max_depth=5, n_estimators=100, subsample=0.9;, score=0.952 total time=   4.9s\n",
      "[CV 1/3] END colsample_bytree=0.3, learning_rate=0.01, max_depth=5, n_estimators=100, subsample=1.0;, score=0.952 total time=   4.8s\n",
      "[CV 2/3] END colsample_bytree=0.3, learning_rate=0.01, max_depth=5, n_estimators=100, subsample=1.0;, score=0.952 total time=   4.6s\n",
      "[CV 3/3] END colsample_bytree=0.3, learning_rate=0.01, max_depth=5, n_estimators=100, subsample=1.0;, score=0.952 total time=   4.5s\n",
      "[CV 1/3] END colsample_bytree=0.3, learning_rate=0.01, max_depth=5, n_estimators=200, subsample=0.8;, score=0.952 total time=   8.8s\n",
      "[CV 2/3] END colsample_bytree=0.3, learning_rate=0.01, max_depth=5, n_estimators=200, subsample=0.8;, score=0.952 total time=   8.8s\n",
      "[CV 3/3] END colsample_bytree=0.3, learning_rate=0.01, max_depth=5, n_estimators=200, subsample=0.8;, score=0.952 total time=   9.9s\n",
      "[CV 1/3] END colsample_bytree=0.3, learning_rate=0.01, max_depth=5, n_estimators=200, subsample=0.9;, score=0.952 total time=   9.2s\n",
      "[CV 2/3] END colsample_bytree=0.3, learning_rate=0.01, max_depth=5, n_estimators=200, subsample=0.9;, score=0.952 total time=   9.2s\n",
      "[CV 3/3] END colsample_bytree=0.3, learning_rate=0.01, max_depth=5, n_estimators=200, subsample=0.9;, score=0.952 total time=   9.1s\n",
      "[CV 1/3] END colsample_bytree=0.3, learning_rate=0.01, max_depth=5, n_estimators=200, subsample=1.0;, score=0.952 total time=   9.5s\n",
      "[CV 2/3] END colsample_bytree=0.3, learning_rate=0.01, max_depth=5, n_estimators=200, subsample=1.0;, score=0.952 total time=   9.8s\n",
      "[CV 3/3] END colsample_bytree=0.3, learning_rate=0.01, max_depth=5, n_estimators=200, subsample=1.0;, score=0.952 total time=   9.3s\n",
      "[CV 1/3] END colsample_bytree=0.3, learning_rate=0.01, max_depth=5, n_estimators=300, subsample=0.8;, score=0.953 total time=  13.3s\n",
      "[CV 2/3] END colsample_bytree=0.3, learning_rate=0.01, max_depth=5, n_estimators=300, subsample=0.8;, score=0.953 total time=  13.7s\n",
      "[CV 3/3] END colsample_bytree=0.3, learning_rate=0.01, max_depth=5, n_estimators=300, subsample=0.8;, score=0.953 total time=  13.1s\n",
      "[CV 1/3] END colsample_bytree=0.3, learning_rate=0.01, max_depth=5, n_estimators=300, subsample=0.9;, score=0.953 total time=  13.1s\n",
      "[CV 2/3] END colsample_bytree=0.3, learning_rate=0.01, max_depth=5, n_estimators=300, subsample=0.9;, score=0.953 total time=  13.1s\n",
      "[CV 3/3] END colsample_bytree=0.3, learning_rate=0.01, max_depth=5, n_estimators=300, subsample=0.9;, score=0.953 total time=  12.9s\n",
      "[CV 1/3] END colsample_bytree=0.3, learning_rate=0.01, max_depth=5, n_estimators=300, subsample=1.0;, score=0.953 total time=  12.3s\n",
      "[CV 2/3] END colsample_bytree=0.3, learning_rate=0.01, max_depth=5, n_estimators=300, subsample=1.0;, score=0.953 total time=  21.9s\n",
      "[CV 3/3] END colsample_bytree=0.3, learning_rate=0.01, max_depth=5, n_estimators=300, subsample=1.0;, score=0.953 total time=  18.9s\n",
      "[CV 1/3] END colsample_bytree=0.3, learning_rate=0.01, max_depth=7, n_estimators=100, subsample=0.8;, score=0.952 total time=   8.0s\n",
      "[CV 2/3] END colsample_bytree=0.3, learning_rate=0.01, max_depth=7, n_estimators=100, subsample=0.8;, score=0.952 total time=   6.9s\n",
      "[CV 3/3] END colsample_bytree=0.3, learning_rate=0.01, max_depth=7, n_estimators=100, subsample=0.8;, score=0.952 total time=   8.0s\n",
      "[CV 1/3] END colsample_bytree=0.3, learning_rate=0.01, max_depth=7, n_estimators=100, subsample=0.9;, score=0.952 total time=   6.9s\n",
      "[CV 2/3] END colsample_bytree=0.3, learning_rate=0.01, max_depth=7, n_estimators=100, subsample=0.9;, score=0.952 total time=   6.8s\n",
      "[CV 3/3] END colsample_bytree=0.3, learning_rate=0.01, max_depth=7, n_estimators=100, subsample=0.9;, score=0.952 total time=   6.7s\n",
      "[CV 1/3] END colsample_bytree=0.3, learning_rate=0.01, max_depth=7, n_estimators=100, subsample=1.0;, score=0.952 total time=   6.3s\n",
      "[CV 2/3] END colsample_bytree=0.3, learning_rate=0.01, max_depth=7, n_estimators=100, subsample=1.0;, score=0.952 total time=   6.2s\n",
      "[CV 3/3] END colsample_bytree=0.3, learning_rate=0.01, max_depth=7, n_estimators=100, subsample=1.0;, score=0.952 total time=   6.4s\n",
      "[CV 1/3] END colsample_bytree=0.3, learning_rate=0.01, max_depth=7, n_estimators=200, subsample=0.8;, score=0.953 total time=  12.3s\n",
      "[CV 2/3] END colsample_bytree=0.3, learning_rate=0.01, max_depth=7, n_estimators=200, subsample=0.8;, score=0.953 total time=  12.1s\n",
      "[CV 3/3] END colsample_bytree=0.3, learning_rate=0.01, max_depth=7, n_estimators=200, subsample=0.8;, score=0.953 total time=  12.0s\n",
      "[CV 1/3] END colsample_bytree=0.3, learning_rate=0.01, max_depth=7, n_estimators=200, subsample=0.9;, score=0.953 total time=  12.0s\n",
      "[CV 2/3] END colsample_bytree=0.3, learning_rate=0.01, max_depth=7, n_estimators=200, subsample=0.9;, score=0.953 total time=  12.0s\n",
      "[CV 3/3] END colsample_bytree=0.3, learning_rate=0.01, max_depth=7, n_estimators=200, subsample=0.9;, score=0.953 total time=  12.2s\n",
      "[CV 1/3] END colsample_bytree=0.3, learning_rate=0.01, max_depth=7, n_estimators=200, subsample=1.0;, score=0.953 total time=  11.3s\n",
      "[CV 2/3] END colsample_bytree=0.3, learning_rate=0.01, max_depth=7, n_estimators=200, subsample=1.0;, score=0.953 total time=  10.8s\n",
      "[CV 3/3] END colsample_bytree=0.3, learning_rate=0.01, max_depth=7, n_estimators=200, subsample=1.0;, score=0.953 total time=  10.9s\n",
      "[CV 1/3] END colsample_bytree=0.3, learning_rate=0.01, max_depth=7, n_estimators=300, subsample=0.8;, score=0.953 total time=  16.8s\n",
      "[CV 2/3] END colsample_bytree=0.3, learning_rate=0.01, max_depth=7, n_estimators=300, subsample=0.8;, score=0.953 total time=  16.7s\n",
      "[CV 3/3] END colsample_bytree=0.3, learning_rate=0.01, max_depth=7, n_estimators=300, subsample=0.8;, score=0.953 total time=  17.1s\n",
      "[CV 1/3] END colsample_bytree=0.3, learning_rate=0.01, max_depth=7, n_estimators=300, subsample=0.9;, score=0.953 total time=  17.6s\n",
      "[CV 2/3] END colsample_bytree=0.3, learning_rate=0.01, max_depth=7, n_estimators=300, subsample=0.9;, score=0.953 total time=  17.5s\n",
      "[CV 3/3] END colsample_bytree=0.3, learning_rate=0.01, max_depth=7, n_estimators=300, subsample=0.9;, score=0.953 total time=  17.0s\n",
      "[CV 1/3] END colsample_bytree=0.3, learning_rate=0.01, max_depth=7, n_estimators=300, subsample=1.0;, score=0.953 total time=  16.5s\n",
      "[CV 2/3] END colsample_bytree=0.3, learning_rate=0.01, max_depth=7, n_estimators=300, subsample=1.0;, score=0.953 total time=  16.3s\n",
      "[CV 3/3] END colsample_bytree=0.3, learning_rate=0.01, max_depth=7, n_estimators=300, subsample=1.0;, score=0.953 total time=  16.3s\n",
      "[CV 1/3] END colsample_bytree=0.3, learning_rate=0.1, max_depth=3, n_estimators=100, subsample=0.8;, score=0.956 total time=   4.2s\n",
      "[CV 2/3] END colsample_bytree=0.3, learning_rate=0.1, max_depth=3, n_estimators=100, subsample=0.8;, score=0.956 total time=   4.2s\n",
      "[CV 3/3] END colsample_bytree=0.3, learning_rate=0.1, max_depth=3, n_estimators=100, subsample=0.8;, score=0.956 total time=   4.1s\n",
      "[CV 1/3] END colsample_bytree=0.3, learning_rate=0.1, max_depth=3, n_estimators=100, subsample=0.9;, score=0.956 total time=   4.1s\n",
      "[CV 2/3] END colsample_bytree=0.3, learning_rate=0.1, max_depth=3, n_estimators=100, subsample=0.9;, score=0.956 total time=   4.1s\n",
      "[CV 3/3] END colsample_bytree=0.3, learning_rate=0.1, max_depth=3, n_estimators=100, subsample=0.9;, score=0.955 total time=   4.2s\n",
      "[CV 1/3] END colsample_bytree=0.3, learning_rate=0.1, max_depth=3, n_estimators=100, subsample=1.0;, score=0.956 total time=   4.0s\n",
      "[CV 2/3] END colsample_bytree=0.3, learning_rate=0.1, max_depth=3, n_estimators=100, subsample=1.0;, score=0.956 total time=   3.9s\n",
      "[CV 3/3] END colsample_bytree=0.3, learning_rate=0.1, max_depth=3, n_estimators=100, subsample=1.0;, score=0.956 total time=   3.9s\n",
      "[CV 1/3] END colsample_bytree=0.3, learning_rate=0.1, max_depth=3, n_estimators=200, subsample=0.8;, score=0.960 total time=   7.4s\n",
      "[CV 2/3] END colsample_bytree=0.3, learning_rate=0.1, max_depth=3, n_estimators=200, subsample=0.8;, score=0.960 total time=   7.5s\n",
      "[CV 3/3] END colsample_bytree=0.3, learning_rate=0.1, max_depth=3, n_estimators=200, subsample=0.8;, score=0.960 total time=   7.4s\n",
      "[CV 1/3] END colsample_bytree=0.3, learning_rate=0.1, max_depth=3, n_estimators=200, subsample=0.9;, score=0.960 total time=   7.2s\n",
      "[CV 2/3] END colsample_bytree=0.3, learning_rate=0.1, max_depth=3, n_estimators=200, subsample=0.9;, score=0.960 total time=   7.2s\n",
      "[CV 3/3] END colsample_bytree=0.3, learning_rate=0.1, max_depth=3, n_estimators=200, subsample=0.9;, score=0.960 total time=   7.3s\n",
      "[CV 1/3] END colsample_bytree=0.3, learning_rate=0.1, max_depth=3, n_estimators=200, subsample=1.0;, score=0.960 total time=   6.8s\n",
      "[CV 2/3] END colsample_bytree=0.3, learning_rate=0.1, max_depth=3, n_estimators=200, subsample=1.0;, score=0.960 total time=   6.6s\n",
      "[CV 3/3] END colsample_bytree=0.3, learning_rate=0.1, max_depth=3, n_estimators=200, subsample=1.0;, score=0.960 total time=   6.9s\n",
      "[CV 1/3] END colsample_bytree=0.3, learning_rate=0.1, max_depth=3, n_estimators=300, subsample=0.8;, score=0.961 total time=  10.5s\n",
      "[CV 2/3] END colsample_bytree=0.3, learning_rate=0.1, max_depth=3, n_estimators=300, subsample=0.8;, score=0.961 total time=  10.2s\n",
      "[CV 3/3] END colsample_bytree=0.3, learning_rate=0.1, max_depth=3, n_estimators=300, subsample=0.8;, score=0.961 total time=  10.5s\n",
      "[CV 1/3] END colsample_bytree=0.3, learning_rate=0.1, max_depth=3, n_estimators=300, subsample=0.9;, score=0.961 total time=  10.3s\n",
      "[CV 2/3] END colsample_bytree=0.3, learning_rate=0.1, max_depth=3, n_estimators=300, subsample=0.9;, score=0.961 total time=  10.3s\n",
      "[CV 3/3] END colsample_bytree=0.3, learning_rate=0.1, max_depth=3, n_estimators=300, subsample=0.9;, score=0.961 total time=  10.4s\n",
      "[CV 1/3] END colsample_bytree=0.3, learning_rate=0.1, max_depth=3, n_estimators=300, subsample=1.0;, score=0.961 total time=  10.3s\n",
      "[CV 2/3] END colsample_bytree=0.3, learning_rate=0.1, max_depth=3, n_estimators=300, subsample=1.0;, score=0.961 total time=   9.8s\n",
      "[CV 3/3] END colsample_bytree=0.3, learning_rate=0.1, max_depth=3, n_estimators=300, subsample=1.0;, score=0.961 total time=   9.5s\n",
      "[CV 1/3] END colsample_bytree=0.3, learning_rate=0.1, max_depth=5, n_estimators=100, subsample=0.8;, score=0.962 total time=   5.4s\n",
      "[CV 2/3] END colsample_bytree=0.3, learning_rate=0.1, max_depth=5, n_estimators=100, subsample=0.8;, score=0.962 total time=   5.4s\n",
      "[CV 3/3] END colsample_bytree=0.3, learning_rate=0.1, max_depth=5, n_estimators=100, subsample=0.8;, score=0.962 total time=   5.4s\n",
      "[CV 1/3] END colsample_bytree=0.3, learning_rate=0.1, max_depth=5, n_estimators=100, subsample=0.9;, score=0.962 total time=   5.3s\n",
      "[CV 2/3] END colsample_bytree=0.3, learning_rate=0.1, max_depth=5, n_estimators=100, subsample=0.9;, score=0.962 total time=   5.5s\n",
      "[CV 3/3] END colsample_bytree=0.3, learning_rate=0.1, max_depth=5, n_estimators=100, subsample=0.9;, score=0.962 total time=   5.6s\n",
      "[CV 1/3] END colsample_bytree=0.3, learning_rate=0.1, max_depth=5, n_estimators=100, subsample=1.0;, score=0.962 total time=   5.2s\n",
      "[CV 2/3] END colsample_bytree=0.3, learning_rate=0.1, max_depth=5, n_estimators=100, subsample=1.0;, score=0.962 total time=   5.1s\n",
      "[CV 3/3] END colsample_bytree=0.3, learning_rate=0.1, max_depth=5, n_estimators=100, subsample=1.0;, score=0.962 total time=   6.6s\n",
      "[CV 1/3] END colsample_bytree=0.3, learning_rate=0.1, max_depth=5, n_estimators=200, subsample=0.8;, score=0.963 total time=  10.3s\n",
      "[CV 2/3] END colsample_bytree=0.3, learning_rate=0.1, max_depth=5, n_estimators=200, subsample=0.8;, score=0.963 total time=  10.0s\n",
      "[CV 3/3] END colsample_bytree=0.3, learning_rate=0.1, max_depth=5, n_estimators=200, subsample=0.8;, score=0.963 total time=  10.7s\n",
      "[CV 1/3] END colsample_bytree=0.3, learning_rate=0.1, max_depth=5, n_estimators=200, subsample=0.9;, score=0.963 total time=  15.5s\n",
      "[CV 2/3] END colsample_bytree=0.3, learning_rate=0.1, max_depth=5, n_estimators=200, subsample=0.9;, score=0.963 total time=  12.3s\n",
      "[CV 3/3] END colsample_bytree=0.3, learning_rate=0.1, max_depth=5, n_estimators=200, subsample=0.9;, score=0.963 total time=  10.5s\n",
      "[CV 1/3] END colsample_bytree=0.3, learning_rate=0.1, max_depth=5, n_estimators=200, subsample=1.0;, score=0.963 total time=   9.3s\n",
      "[CV 2/3] END colsample_bytree=0.3, learning_rate=0.1, max_depth=5, n_estimators=200, subsample=1.0;, score=0.963 total time=   9.3s\n",
      "[CV 3/3] END colsample_bytree=0.3, learning_rate=0.1, max_depth=5, n_estimators=200, subsample=1.0;, score=0.963 total time=   9.1s\n",
      "[CV 1/3] END colsample_bytree=0.3, learning_rate=0.1, max_depth=5, n_estimators=300, subsample=0.8;, score=0.964 total time=  13.9s\n",
      "[CV 2/3] END colsample_bytree=0.3, learning_rate=0.1, max_depth=5, n_estimators=300, subsample=0.8;, score=0.963 total time=  13.7s\n",
      "[CV 3/3] END colsample_bytree=0.3, learning_rate=0.1, max_depth=5, n_estimators=300, subsample=0.8;, score=0.964 total time=  14.1s\n",
      "[CV 1/3] END colsample_bytree=0.3, learning_rate=0.1, max_depth=5, n_estimators=300, subsample=0.9;, score=0.964 total time=  13.3s\n",
      "[CV 2/3] END colsample_bytree=0.3, learning_rate=0.1, max_depth=5, n_estimators=300, subsample=0.9;, score=0.964 total time=  13.7s\n",
      "[CV 3/3] END colsample_bytree=0.3, learning_rate=0.1, max_depth=5, n_estimators=300, subsample=0.9;, score=0.964 total time=  13.4s\n",
      "[CV 1/3] END colsample_bytree=0.3, learning_rate=0.1, max_depth=5, n_estimators=300, subsample=1.0;, score=0.964 total time=  13.4s\n",
      "[CV 2/3] END colsample_bytree=0.3, learning_rate=0.1, max_depth=5, n_estimators=300, subsample=1.0;, score=0.964 total time=  13.9s\n",
      "[CV 3/3] END colsample_bytree=0.3, learning_rate=0.1, max_depth=5, n_estimators=300, subsample=1.0;, score=0.964 total time=  13.1s\n",
      "[CV 1/3] END colsample_bytree=0.3, learning_rate=0.1, max_depth=7, n_estimators=100, subsample=0.8;, score=0.963 total time=   6.9s\n",
      "[CV 2/3] END colsample_bytree=0.3, learning_rate=0.1, max_depth=7, n_estimators=100, subsample=0.8;, score=0.963 total time=   6.8s\n",
      "[CV 3/3] END colsample_bytree=0.3, learning_rate=0.1, max_depth=7, n_estimators=100, subsample=0.8;, score=0.963 total time=   6.5s\n",
      "[CV 1/3] END colsample_bytree=0.3, learning_rate=0.1, max_depth=7, n_estimators=100, subsample=0.9;, score=0.963 total time=   6.6s\n",
      "[CV 2/3] END colsample_bytree=0.3, learning_rate=0.1, max_depth=7, n_estimators=100, subsample=0.9;, score=0.963 total time=   6.5s\n",
      "[CV 3/3] END colsample_bytree=0.3, learning_rate=0.1, max_depth=7, n_estimators=100, subsample=0.9;, score=0.963 total time=   6.5s\n",
      "[CV 1/3] END colsample_bytree=0.3, learning_rate=0.1, max_depth=7, n_estimators=100, subsample=1.0;, score=0.963 total time=   6.2s\n",
      "[CV 2/3] END colsample_bytree=0.3, learning_rate=0.1, max_depth=7, n_estimators=100, subsample=1.0;, score=0.963 total time=   6.3s\n",
      "[CV 3/3] END colsample_bytree=0.3, learning_rate=0.1, max_depth=7, n_estimators=100, subsample=1.0;, score=0.963 total time=   6.3s\n",
      "[CV 1/3] END colsample_bytree=0.3, learning_rate=0.1, max_depth=7, n_estimators=200, subsample=0.8;, score=0.964 total time=  11.9s\n",
      "[CV 2/3] END colsample_bytree=0.3, learning_rate=0.1, max_depth=7, n_estimators=200, subsample=0.8;, score=0.964 total time=  12.9s\n",
      "[CV 3/3] END colsample_bytree=0.3, learning_rate=0.1, max_depth=7, n_estimators=200, subsample=0.8;, score=0.964 total time=  12.1s\n",
      "[CV 1/3] END colsample_bytree=0.3, learning_rate=0.1, max_depth=7, n_estimators=200, subsample=0.9;, score=0.964 total time=  11.7s\n",
      "[CV 2/3] END colsample_bytree=0.3, learning_rate=0.1, max_depth=7, n_estimators=200, subsample=0.9;, score=0.964 total time=  11.9s\n",
      "[CV 3/3] END colsample_bytree=0.3, learning_rate=0.1, max_depth=7, n_estimators=200, subsample=0.9;, score=0.964 total time=  11.8s\n",
      "[CV 1/3] END colsample_bytree=0.3, learning_rate=0.1, max_depth=7, n_estimators=200, subsample=1.0;, score=0.964 total time=  11.2s\n",
      "[CV 2/3] END colsample_bytree=0.3, learning_rate=0.1, max_depth=7, n_estimators=200, subsample=1.0;, score=0.964 total time=  11.2s\n",
      "[CV 3/3] END colsample_bytree=0.3, learning_rate=0.1, max_depth=7, n_estimators=200, subsample=1.0;, score=0.964 total time=  11.5s\n",
      "[CV 1/3] END colsample_bytree=0.3, learning_rate=0.1, max_depth=7, n_estimators=300, subsample=0.8;, score=0.964 total time=  17.6s\n",
      "[CV 2/3] END colsample_bytree=0.3, learning_rate=0.1, max_depth=7, n_estimators=300, subsample=0.8;, score=0.964 total time=  17.2s\n",
      "[CV 3/3] END colsample_bytree=0.3, learning_rate=0.1, max_depth=7, n_estimators=300, subsample=0.8;, score=0.964 total time=  17.3s\n",
      "[CV 1/3] END colsample_bytree=0.3, learning_rate=0.1, max_depth=7, n_estimators=300, subsample=0.9;, score=0.964 total time=  17.3s\n",
      "[CV 2/3] END colsample_bytree=0.3, learning_rate=0.1, max_depth=7, n_estimators=300, subsample=0.9;, score=0.964 total time=  17.4s\n",
      "[CV 3/3] END colsample_bytree=0.3, learning_rate=0.1, max_depth=7, n_estimators=300, subsample=0.9;, score=0.964 total time=  17.1s\n",
      "[CV 1/3] END colsample_bytree=0.3, learning_rate=0.1, max_depth=7, n_estimators=300, subsample=1.0;, score=0.964 total time=  16.3s\n",
      "[CV 2/3] END colsample_bytree=0.3, learning_rate=0.1, max_depth=7, n_estimators=300, subsample=1.0;, score=0.964 total time=  16.5s\n",
      "[CV 3/3] END colsample_bytree=0.3, learning_rate=0.1, max_depth=7, n_estimators=300, subsample=1.0;, score=0.964 total time=  16.7s\n",
      "[CV 1/3] END colsample_bytree=0.3, learning_rate=0.2, max_depth=3, n_estimators=100, subsample=0.8;, score=0.961 total time=   4.1s\n",
      "[CV 2/3] END colsample_bytree=0.3, learning_rate=0.2, max_depth=3, n_estimators=100, subsample=0.8;, score=0.961 total time=   4.1s\n",
      "[CV 3/3] END colsample_bytree=0.3, learning_rate=0.2, max_depth=3, n_estimators=100, subsample=0.8;, score=0.961 total time=   4.2s\n",
      "[CV 1/3] END colsample_bytree=0.3, learning_rate=0.2, max_depth=3, n_estimators=100, subsample=0.9;, score=0.960 total time=   4.0s\n",
      "[CV 2/3] END colsample_bytree=0.3, learning_rate=0.2, max_depth=3, n_estimators=100, subsample=0.9;, score=0.960 total time=   3.9s\n",
      "[CV 3/3] END colsample_bytree=0.3, learning_rate=0.2, max_depth=3, n_estimators=100, subsample=0.9;, score=0.960 total time=   4.1s\n",
      "[CV 1/3] END colsample_bytree=0.3, learning_rate=0.2, max_depth=3, n_estimators=100, subsample=1.0;, score=0.961 total time=   4.0s\n",
      "[CV 2/3] END colsample_bytree=0.3, learning_rate=0.2, max_depth=3, n_estimators=100, subsample=1.0;, score=0.960 total time=   3.9s\n",
      "[CV 3/3] END colsample_bytree=0.3, learning_rate=0.2, max_depth=3, n_estimators=100, subsample=1.0;, score=0.961 total time=   3.8s\n",
      "[CV 1/3] END colsample_bytree=0.3, learning_rate=0.2, max_depth=3, n_estimators=200, subsample=0.8;, score=0.962 total time=   7.3s\n",
      "[CV 2/3] END colsample_bytree=0.3, learning_rate=0.2, max_depth=3, n_estimators=200, subsample=0.8;, score=0.962 total time=   7.5s\n",
      "[CV 3/3] END colsample_bytree=0.3, learning_rate=0.2, max_depth=3, n_estimators=200, subsample=0.8;, score=0.962 total time=   8.7s\n",
      "[CV 1/3] END colsample_bytree=0.3, learning_rate=0.2, max_depth=3, n_estimators=200, subsample=0.9;, score=0.962 total time=   9.0s\n",
      "[CV 2/3] END colsample_bytree=0.3, learning_rate=0.2, max_depth=3, n_estimators=200, subsample=0.9;, score=0.962 total time=   7.5s\n",
      "[CV 3/3] END colsample_bytree=0.3, learning_rate=0.2, max_depth=3, n_estimators=200, subsample=0.9;, score=0.962 total time=   7.3s\n",
      "[CV 1/3] END colsample_bytree=0.3, learning_rate=0.2, max_depth=3, n_estimators=200, subsample=1.0;, score=0.962 total time=   6.7s\n",
      "[CV 2/3] END colsample_bytree=0.3, learning_rate=0.2, max_depth=3, n_estimators=200, subsample=1.0;, score=0.962 total time=   7.0s\n",
      "[CV 3/3] END colsample_bytree=0.3, learning_rate=0.2, max_depth=3, n_estimators=200, subsample=1.0;, score=0.962 total time=   7.0s\n",
      "[CV 1/3] END colsample_bytree=0.3, learning_rate=0.2, max_depth=3, n_estimators=300, subsample=0.8;, score=0.963 total time=  10.8s\n",
      "[CV 2/3] END colsample_bytree=0.3, learning_rate=0.2, max_depth=3, n_estimators=300, subsample=0.8;, score=0.963 total time=  11.1s\n",
      "[CV 3/3] END colsample_bytree=0.3, learning_rate=0.2, max_depth=3, n_estimators=300, subsample=0.8;, score=0.963 total time=  11.3s\n",
      "[CV 1/3] END colsample_bytree=0.3, learning_rate=0.2, max_depth=3, n_estimators=300, subsample=0.9;, score=0.962 total time=  10.4s\n",
      "[CV 2/3] END colsample_bytree=0.3, learning_rate=0.2, max_depth=3, n_estimators=300, subsample=0.9;, score=0.963 total time=  10.4s\n",
      "[CV 3/3] END colsample_bytree=0.3, learning_rate=0.2, max_depth=3, n_estimators=300, subsample=0.9;, score=0.963 total time=  10.3s\n",
      "[CV 1/3] END colsample_bytree=0.3, learning_rate=0.2, max_depth=3, n_estimators=300, subsample=1.0;, score=0.963 total time=   9.7s\n",
      "[CV 2/3] END colsample_bytree=0.3, learning_rate=0.2, max_depth=3, n_estimators=300, subsample=1.0;, score=0.963 total time=   9.6s\n",
      "[CV 3/3] END colsample_bytree=0.3, learning_rate=0.2, max_depth=3, n_estimators=300, subsample=1.0;, score=0.963 total time=   9.7s\n",
      "[CV 1/3] END colsample_bytree=0.3, learning_rate=0.2, max_depth=5, n_estimators=100, subsample=0.8;, score=0.963 total time=   5.3s\n",
      "[CV 2/3] END colsample_bytree=0.3, learning_rate=0.2, max_depth=5, n_estimators=100, subsample=0.8;, score=0.963 total time=   5.3s\n",
      "[CV 3/3] END colsample_bytree=0.3, learning_rate=0.2, max_depth=5, n_estimators=100, subsample=0.8;, score=0.963 total time=   5.5s\n",
      "[CV 1/3] END colsample_bytree=0.3, learning_rate=0.2, max_depth=5, n_estimators=100, subsample=0.9;, score=0.963 total time=   5.2s\n",
      "[CV 2/3] END colsample_bytree=0.3, learning_rate=0.2, max_depth=5, n_estimators=100, subsample=0.9;, score=0.963 total time=   5.3s\n",
      "[CV 3/3] END colsample_bytree=0.3, learning_rate=0.2, max_depth=5, n_estimators=100, subsample=0.9;, score=0.963 total time=   5.2s\n",
      "[CV 1/3] END colsample_bytree=0.3, learning_rate=0.2, max_depth=5, n_estimators=100, subsample=1.0;, score=0.963 total time=   5.0s\n",
      "[CV 2/3] END colsample_bytree=0.3, learning_rate=0.2, max_depth=5, n_estimators=100, subsample=1.0;, score=0.963 total time=   5.1s\n",
      "[CV 3/3] END colsample_bytree=0.3, learning_rate=0.2, max_depth=5, n_estimators=100, subsample=1.0;, score=0.963 total time=   5.1s\n",
      "[CV 1/3] END colsample_bytree=0.3, learning_rate=0.2, max_depth=5, n_estimators=200, subsample=0.8;, score=0.964 total time=   9.5s\n",
      "[CV 2/3] END colsample_bytree=0.3, learning_rate=0.2, max_depth=5, n_estimators=200, subsample=0.8;, score=0.964 total time=   9.6s\n",
      "[CV 3/3] END colsample_bytree=0.3, learning_rate=0.2, max_depth=5, n_estimators=200, subsample=0.8;, score=0.964 total time=   9.6s\n",
      "[CV 1/3] END colsample_bytree=0.3, learning_rate=0.2, max_depth=5, n_estimators=200, subsample=0.9;, score=0.964 total time=   9.4s\n",
      "[CV 2/3] END colsample_bytree=0.3, learning_rate=0.2, max_depth=5, n_estimators=200, subsample=0.9;, score=0.964 total time=   9.8s\n",
      "[CV 3/3] END colsample_bytree=0.3, learning_rate=0.2, max_depth=5, n_estimators=200, subsample=0.9;, score=0.964 total time=   9.5s\n",
      "[CV 1/3] END colsample_bytree=0.3, learning_rate=0.2, max_depth=5, n_estimators=200, subsample=1.0;, score=0.964 total time=   8.9s\n",
      "[CV 2/3] END colsample_bytree=0.3, learning_rate=0.2, max_depth=5, n_estimators=200, subsample=1.0;, score=0.964 total time=   9.7s\n",
      "[CV 3/3] END colsample_bytree=0.3, learning_rate=0.2, max_depth=5, n_estimators=200, subsample=1.0;, score=0.964 total time=   9.1s\n",
      "[CV 1/3] END colsample_bytree=0.3, learning_rate=0.2, max_depth=5, n_estimators=300, subsample=0.8;, score=0.964 total time=  13.8s\n",
      "[CV 2/3] END colsample_bytree=0.3, learning_rate=0.2, max_depth=5, n_estimators=300, subsample=0.8;, score=0.964 total time=  14.0s\n",
      "[CV 3/3] END colsample_bytree=0.3, learning_rate=0.2, max_depth=5, n_estimators=300, subsample=0.8;, score=0.964 total time=  13.7s\n",
      "[CV 1/3] END colsample_bytree=0.3, learning_rate=0.2, max_depth=5, n_estimators=300, subsample=0.9;, score=0.964 total time=  14.4s\n",
      "[CV 2/3] END colsample_bytree=0.3, learning_rate=0.2, max_depth=5, n_estimators=300, subsample=0.9;, score=0.964 total time=  13.7s\n",
      "[CV 3/3] END colsample_bytree=0.3, learning_rate=0.2, max_depth=5, n_estimators=300, subsample=0.9;, score=0.964 total time=  13.9s\n",
      "[CV 1/3] END colsample_bytree=0.3, learning_rate=0.2, max_depth=5, n_estimators=300, subsample=1.0;, score=0.964 total time=  13.0s\n",
      "[CV 2/3] END colsample_bytree=0.3, learning_rate=0.2, max_depth=5, n_estimators=300, subsample=1.0;, score=0.964 total time=  13.2s\n",
      "[CV 3/3] END colsample_bytree=0.3, learning_rate=0.2, max_depth=5, n_estimators=300, subsample=1.0;, score=0.964 total time=  13.0s\n",
      "[CV 1/3] END colsample_bytree=0.3, learning_rate=0.2, max_depth=7, n_estimators=100, subsample=0.8;, score=0.964 total time=   6.5s\n",
      "[CV 2/3] END colsample_bytree=0.3, learning_rate=0.2, max_depth=7, n_estimators=100, subsample=0.8;, score=0.964 total time=   6.7s\n",
      "[CV 3/3] END colsample_bytree=0.3, learning_rate=0.2, max_depth=7, n_estimators=100, subsample=0.8;, score=0.964 total time=   7.3s\n",
      "[CV 1/3] END colsample_bytree=0.3, learning_rate=0.2, max_depth=7, n_estimators=100, subsample=0.9;, score=0.964 total time=   6.7s\n",
      "[CV 2/3] END colsample_bytree=0.3, learning_rate=0.2, max_depth=7, n_estimators=100, subsample=0.9;, score=0.964 total time=   6.7s\n",
      "[CV 3/3] END colsample_bytree=0.3, learning_rate=0.2, max_depth=7, n_estimators=100, subsample=0.9;, score=0.964 total time=   6.5s\n",
      "[CV 1/3] END colsample_bytree=0.3, learning_rate=0.2, max_depth=7, n_estimators=100, subsample=1.0;, score=0.964 total time=   6.2s\n",
      "[CV 2/3] END colsample_bytree=0.3, learning_rate=0.2, max_depth=7, n_estimators=100, subsample=1.0;, score=0.964 total time=   6.3s\n",
      "[CV 3/3] END colsample_bytree=0.3, learning_rate=0.2, max_depth=7, n_estimators=100, subsample=1.0;, score=0.964 total time=   6.3s\n",
      "[CV 1/3] END colsample_bytree=0.3, learning_rate=0.2, max_depth=7, n_estimators=200, subsample=0.8;, score=0.964 total time=  12.4s\n",
      "[CV 2/3] END colsample_bytree=0.3, learning_rate=0.2, max_depth=7, n_estimators=200, subsample=0.8;, score=0.964 total time=  12.1s\n",
      "[CV 3/3] END colsample_bytree=0.3, learning_rate=0.2, max_depth=7, n_estimators=200, subsample=0.8;, score=0.964 total time=  11.8s\n",
      "[CV 1/3] END colsample_bytree=0.3, learning_rate=0.2, max_depth=7, n_estimators=200, subsample=0.9;, score=0.964 total time=  11.8s\n",
      "[CV 2/3] END colsample_bytree=0.3, learning_rate=0.2, max_depth=7, n_estimators=200, subsample=0.9;, score=0.964 total time=  11.6s\n",
      "[CV 3/3] END colsample_bytree=0.3, learning_rate=0.2, max_depth=7, n_estimators=200, subsample=0.9;, score=0.964 total time=  11.8s\n",
      "[CV 1/3] END colsample_bytree=0.3, learning_rate=0.2, max_depth=7, n_estimators=200, subsample=1.0;, score=0.964 total time=  11.7s\n",
      "[CV 2/3] END colsample_bytree=0.3, learning_rate=0.2, max_depth=7, n_estimators=200, subsample=1.0;, score=0.964 total time=  11.3s\n",
      "[CV 3/3] END colsample_bytree=0.3, learning_rate=0.2, max_depth=7, n_estimators=200, subsample=1.0;, score=0.964 total time=  11.3s\n",
      "[CV 1/3] END colsample_bytree=0.3, learning_rate=0.2, max_depth=7, n_estimators=300, subsample=0.8;, score=0.965 total time=  17.3s\n",
      "[CV 2/3] END colsample_bytree=0.3, learning_rate=0.2, max_depth=7, n_estimators=300, subsample=0.8;, score=0.964 total time=  17.0s\n",
      "[CV 3/3] END colsample_bytree=0.3, learning_rate=0.2, max_depth=7, n_estimators=300, subsample=0.8;, score=0.965 total time=  18.9s\n",
      "[CV 1/3] END colsample_bytree=0.3, learning_rate=0.2, max_depth=7, n_estimators=300, subsample=0.9;, score=0.965 total time=  17.4s\n",
      "[CV 2/3] END colsample_bytree=0.3, learning_rate=0.2, max_depth=7, n_estimators=300, subsample=0.9;, score=0.964 total time=  17.7s\n",
      "[CV 3/3] END colsample_bytree=0.3, learning_rate=0.2, max_depth=7, n_estimators=300, subsample=0.9;, score=0.965 total time=  17.7s\n",
      "[CV 1/3] END colsample_bytree=0.3, learning_rate=0.2, max_depth=7, n_estimators=300, subsample=1.0;, score=0.965 total time=  16.9s\n",
      "[CV 2/3] END colsample_bytree=0.3, learning_rate=0.2, max_depth=7, n_estimators=300, subsample=1.0;, score=0.964 total time=  16.4s\n",
      "[CV 3/3] END colsample_bytree=0.3, learning_rate=0.2, max_depth=7, n_estimators=300, subsample=1.0;, score=0.965 total time=  16.3s\n",
      "[CV 1/3] END colsample_bytree=0.5, learning_rate=0.01, max_depth=3, n_estimators=100, subsample=0.8;, score=0.952 total time=   4.0s\n",
      "[CV 2/3] END colsample_bytree=0.5, learning_rate=0.01, max_depth=3, n_estimators=100, subsample=0.8;, score=0.952 total time=   4.0s\n",
      "[CV 3/3] END colsample_bytree=0.5, learning_rate=0.01, max_depth=3, n_estimators=100, subsample=0.8;, score=0.952 total time=   4.0s\n",
      "[CV 1/3] END colsample_bytree=0.5, learning_rate=0.01, max_depth=3, n_estimators=100, subsample=0.9;, score=0.952 total time=   3.9s\n",
      "[CV 2/3] END colsample_bytree=0.5, learning_rate=0.01, max_depth=3, n_estimators=100, subsample=0.9;, score=0.952 total time=   4.3s\n",
      "[CV 3/3] END colsample_bytree=0.5, learning_rate=0.01, max_depth=3, n_estimators=100, subsample=0.9;, score=0.952 total time=   4.0s\n",
      "[CV 1/3] END colsample_bytree=0.5, learning_rate=0.01, max_depth=3, n_estimators=100, subsample=1.0;, score=0.952 total time=   3.7s\n",
      "[CV 2/3] END colsample_bytree=0.5, learning_rate=0.01, max_depth=3, n_estimators=100, subsample=1.0;, score=0.952 total time=   3.8s\n",
      "[CV 3/3] END colsample_bytree=0.5, learning_rate=0.01, max_depth=3, n_estimators=100, subsample=1.0;, score=0.952 total time=   3.6s\n",
      "[CV 1/3] END colsample_bytree=0.5, learning_rate=0.01, max_depth=3, n_estimators=200, subsample=0.8;, score=0.952 total time=   7.1s\n",
      "[CV 2/3] END colsample_bytree=0.5, learning_rate=0.01, max_depth=3, n_estimators=200, subsample=0.8;, score=0.952 total time=   7.1s\n",
      "[CV 3/3] END colsample_bytree=0.5, learning_rate=0.01, max_depth=3, n_estimators=200, subsample=0.8;, score=0.952 total time=   7.1s\n",
      "[CV 1/3] END colsample_bytree=0.5, learning_rate=0.01, max_depth=3, n_estimators=200, subsample=0.9;, score=0.952 total time=   7.1s\n",
      "[CV 2/3] END colsample_bytree=0.5, learning_rate=0.01, max_depth=3, n_estimators=200, subsample=0.9;, score=0.952 total time=   7.0s\n",
      "[CV 3/3] END colsample_bytree=0.5, learning_rate=0.01, max_depth=3, n_estimators=200, subsample=0.9;, score=0.952 total time=   6.9s\n",
      "[CV 1/3] END colsample_bytree=0.5, learning_rate=0.01, max_depth=3, n_estimators=200, subsample=1.0;, score=0.952 total time=   6.6s\n",
      "[CV 2/3] END colsample_bytree=0.5, learning_rate=0.01, max_depth=3, n_estimators=200, subsample=1.0;, score=0.952 total time=   6.6s\n",
      "[CV 3/3] END colsample_bytree=0.5, learning_rate=0.01, max_depth=3, n_estimators=200, subsample=1.0;, score=0.952 total time=   6.6s\n",
      "[CV 1/3] END colsample_bytree=0.5, learning_rate=0.01, max_depth=3, n_estimators=300, subsample=0.8;, score=0.953 total time=  10.2s\n",
      "[CV 2/3] END colsample_bytree=0.5, learning_rate=0.01, max_depth=3, n_estimators=300, subsample=0.8;, score=0.953 total time=  10.7s\n",
      "[CV 3/3] END colsample_bytree=0.5, learning_rate=0.01, max_depth=3, n_estimators=300, subsample=0.8;, score=0.953 total time=  10.3s\n",
      "[CV 1/3] END colsample_bytree=0.5, learning_rate=0.01, max_depth=3, n_estimators=300, subsample=0.9;, score=0.953 total time=  10.1s\n",
      "[CV 2/3] END colsample_bytree=0.5, learning_rate=0.01, max_depth=3, n_estimators=300, subsample=0.9;, score=0.953 total time=  10.0s\n",
      "[CV 3/3] END colsample_bytree=0.5, learning_rate=0.01, max_depth=3, n_estimators=300, subsample=0.9;, score=0.953 total time=  10.0s\n",
      "[CV 1/3] END colsample_bytree=0.5, learning_rate=0.01, max_depth=3, n_estimators=300, subsample=1.0;, score=0.953 total time=   9.4s\n",
      "[CV 2/3] END colsample_bytree=0.5, learning_rate=0.01, max_depth=3, n_estimators=300, subsample=1.0;, score=0.953 total time=   9.4s\n",
      "[CV 3/3] END colsample_bytree=0.5, learning_rate=0.01, max_depth=3, n_estimators=300, subsample=1.0;, score=0.953 total time=   9.6s\n",
      "[CV 1/3] END colsample_bytree=0.5, learning_rate=0.01, max_depth=5, n_estimators=100, subsample=0.8;, score=0.952 total time=   5.4s\n",
      "[CV 2/3] END colsample_bytree=0.5, learning_rate=0.01, max_depth=5, n_estimators=100, subsample=0.8;, score=0.952 total time=   5.3s\n",
      "[CV 3/3] END colsample_bytree=0.5, learning_rate=0.01, max_depth=5, n_estimators=100, subsample=0.8;, score=0.952 total time=   5.3s\n",
      "[CV 1/3] END colsample_bytree=0.5, learning_rate=0.01, max_depth=5, n_estimators=100, subsample=0.9;, score=0.952 total time=   5.2s\n",
      "[CV 2/3] END colsample_bytree=0.5, learning_rate=0.01, max_depth=5, n_estimators=100, subsample=0.9;, score=0.952 total time=   5.3s\n",
      "[CV 3/3] END colsample_bytree=0.5, learning_rate=0.01, max_depth=5, n_estimators=100, subsample=0.9;, score=0.952 total time=   5.3s\n",
      "[CV 1/3] END colsample_bytree=0.5, learning_rate=0.01, max_depth=5, n_estimators=100, subsample=1.0;, score=0.952 total time=   5.1s\n",
      "[CV 2/3] END colsample_bytree=0.5, learning_rate=0.01, max_depth=5, n_estimators=100, subsample=1.0;, score=0.952 total time=   5.1s\n",
      "[CV 3/3] END colsample_bytree=0.5, learning_rate=0.01, max_depth=5, n_estimators=100, subsample=1.0;, score=0.952 total time=   5.1s\n",
      "[CV 1/3] END colsample_bytree=0.5, learning_rate=0.01, max_depth=5, n_estimators=200, subsample=0.8;, score=0.953 total time=  10.4s\n",
      "[CV 2/3] END colsample_bytree=0.5, learning_rate=0.01, max_depth=5, n_estimators=200, subsample=0.8;, score=0.953 total time=  10.5s\n",
      "[CV 3/3] END colsample_bytree=0.5, learning_rate=0.01, max_depth=5, n_estimators=200, subsample=0.8;, score=0.953 total time=  10.0s\n",
      "[CV 1/3] END colsample_bytree=0.5, learning_rate=0.01, max_depth=5, n_estimators=200, subsample=0.9;, score=0.953 total time=   9.7s\n",
      "[CV 2/3] END colsample_bytree=0.5, learning_rate=0.01, max_depth=5, n_estimators=200, subsample=0.9;, score=0.953 total time=   9.9s\n",
      "[CV 3/3] END colsample_bytree=0.5, learning_rate=0.01, max_depth=5, n_estimators=200, subsample=0.9;, score=0.953 total time=   9.8s\n",
      "[CV 1/3] END colsample_bytree=0.5, learning_rate=0.01, max_depth=5, n_estimators=200, subsample=1.0;, score=0.953 total time=   9.4s\n",
      "[CV 2/3] END colsample_bytree=0.5, learning_rate=0.01, max_depth=5, n_estimators=200, subsample=1.0;, score=0.953 total time=   9.9s\n",
      "[CV 3/3] END colsample_bytree=0.5, learning_rate=0.01, max_depth=5, n_estimators=200, subsample=1.0;, score=0.953 total time=   9.7s\n",
      "[CV 1/3] END colsample_bytree=0.5, learning_rate=0.01, max_depth=5, n_estimators=300, subsample=0.8;, score=0.957 total time=  15.5s\n",
      "[CV 2/3] END colsample_bytree=0.5, learning_rate=0.01, max_depth=5, n_estimators=300, subsample=0.8;, score=0.957 total time=  15.8s\n",
      "[CV 3/3] END colsample_bytree=0.5, learning_rate=0.01, max_depth=5, n_estimators=300, subsample=0.8;, score=0.957 total time=  15.6s\n",
      "[CV 1/3] END colsample_bytree=0.5, learning_rate=0.01, max_depth=5, n_estimators=300, subsample=0.9;, score=0.957 total time=  15.1s\n",
      "[CV 2/3] END colsample_bytree=0.5, learning_rate=0.01, max_depth=5, n_estimators=300, subsample=0.9;, score=0.957 total time=  15.3s\n",
      "[CV 3/3] END colsample_bytree=0.5, learning_rate=0.01, max_depth=5, n_estimators=300, subsample=0.9;, score=0.957 total time=  15.2s\n",
      "[CV 1/3] END colsample_bytree=0.5, learning_rate=0.01, max_depth=5, n_estimators=300, subsample=1.0;, score=0.957 total time=  14.9s\n",
      "[CV 2/3] END colsample_bytree=0.5, learning_rate=0.01, max_depth=5, n_estimators=300, subsample=1.0;, score=0.957 total time=  15.0s\n",
      "[CV 3/3] END colsample_bytree=0.5, learning_rate=0.01, max_depth=5, n_estimators=300, subsample=1.0;, score=0.957 total time=  14.5s\n",
      "[CV 1/3] END colsample_bytree=0.5, learning_rate=0.01, max_depth=7, n_estimators=100, subsample=0.8;, score=0.952 total time=   7.1s\n",
      "[CV 2/3] END colsample_bytree=0.5, learning_rate=0.01, max_depth=7, n_estimators=100, subsample=0.8;, score=0.952 total time=   7.1s\n",
      "[CV 3/3] END colsample_bytree=0.5, learning_rate=0.01, max_depth=7, n_estimators=100, subsample=0.8;, score=0.952 total time=   6.9s\n",
      "[CV 1/3] END colsample_bytree=0.5, learning_rate=0.01, max_depth=7, n_estimators=100, subsample=0.9;, score=0.952 total time=   6.9s\n",
      "[CV 2/3] END colsample_bytree=0.5, learning_rate=0.01, max_depth=7, n_estimators=100, subsample=0.9;, score=0.952 total time=   6.9s\n",
      "[CV 3/3] END colsample_bytree=0.5, learning_rate=0.01, max_depth=7, n_estimators=100, subsample=0.9;, score=0.952 total time=   7.0s\n",
      "[CV 1/3] END colsample_bytree=0.5, learning_rate=0.01, max_depth=7, n_estimators=100, subsample=1.0;, score=0.952 total time=   7.0s\n",
      "[CV 2/3] END colsample_bytree=0.5, learning_rate=0.01, max_depth=7, n_estimators=100, subsample=1.0;, score=0.952 total time=   6.7s\n",
      "[CV 3/3] END colsample_bytree=0.5, learning_rate=0.01, max_depth=7, n_estimators=100, subsample=1.0;, score=0.952 total time=   7.5s\n",
      "[CV 1/3] END colsample_bytree=0.5, learning_rate=0.01, max_depth=7, n_estimators=200, subsample=0.8;, score=0.954 total time=  13.0s\n",
      "[CV 2/3] END colsample_bytree=0.5, learning_rate=0.01, max_depth=7, n_estimators=200, subsample=0.8;, score=0.954 total time=  12.9s\n",
      "[CV 3/3] END colsample_bytree=0.5, learning_rate=0.01, max_depth=7, n_estimators=200, subsample=0.8;, score=0.954 total time=  12.9s\n",
      "[CV 1/3] END colsample_bytree=0.5, learning_rate=0.01, max_depth=7, n_estimators=200, subsample=0.9;, score=0.954 total time=  12.9s\n",
      "[CV 2/3] END colsample_bytree=0.5, learning_rate=0.01, max_depth=7, n_estimators=200, subsample=0.9;, score=0.954 total time=  12.9s\n",
      "[CV 3/3] END colsample_bytree=0.5, learning_rate=0.01, max_depth=7, n_estimators=200, subsample=0.9;, score=0.954 total time=  12.9s\n",
      "[CV 1/3] END colsample_bytree=0.5, learning_rate=0.01, max_depth=7, n_estimators=200, subsample=1.0;, score=0.954 total time=  12.7s\n",
      "[CV 2/3] END colsample_bytree=0.5, learning_rate=0.01, max_depth=7, n_estimators=200, subsample=1.0;, score=0.954 total time=  12.2s\n",
      "[CV 3/3] END colsample_bytree=0.5, learning_rate=0.01, max_depth=7, n_estimators=200, subsample=1.0;, score=0.954 total time=  12.2s\n",
      "[CV 1/3] END colsample_bytree=0.5, learning_rate=0.01, max_depth=7, n_estimators=300, subsample=0.8;, score=0.961 total time=  19.3s\n",
      "[CV 2/3] END colsample_bytree=0.5, learning_rate=0.01, max_depth=7, n_estimators=300, subsample=0.8;, score=0.961 total time=  19.3s\n",
      "[CV 3/3] END colsample_bytree=0.5, learning_rate=0.01, max_depth=7, n_estimators=300, subsample=0.8;, score=0.961 total time=  19.5s\n",
      "[CV 1/3] END colsample_bytree=0.5, learning_rate=0.01, max_depth=7, n_estimators=300, subsample=0.9;, score=0.961 total time=  19.7s\n",
      "[CV 2/3] END colsample_bytree=0.5, learning_rate=0.01, max_depth=7, n_estimators=300, subsample=0.9;, score=0.961 total time=  19.9s\n",
      "[CV 3/3] END colsample_bytree=0.5, learning_rate=0.01, max_depth=7, n_estimators=300, subsample=0.9;, score=0.961 total time=  19.3s\n",
      "[CV 1/3] END colsample_bytree=0.5, learning_rate=0.01, max_depth=7, n_estimators=300, subsample=1.0;, score=0.961 total time=  18.8s\n",
      "[CV 2/3] END colsample_bytree=0.5, learning_rate=0.01, max_depth=7, n_estimators=300, subsample=1.0;, score=0.961 total time=  18.7s\n",
      "[CV 3/3] END colsample_bytree=0.5, learning_rate=0.01, max_depth=7, n_estimators=300, subsample=1.0;, score=0.961 total time=  18.3s\n",
      "[CV 1/3] END colsample_bytree=0.5, learning_rate=0.1, max_depth=3, n_estimators=100, subsample=0.8;, score=0.958 total time=   4.1s\n",
      "[CV 2/3] END colsample_bytree=0.5, learning_rate=0.1, max_depth=3, n_estimators=100, subsample=0.8;, score=0.957 total time=   4.1s\n",
      "[CV 3/3] END colsample_bytree=0.5, learning_rate=0.1, max_depth=3, n_estimators=100, subsample=0.8;, score=0.958 total time=   4.1s\n",
      "[CV 1/3] END colsample_bytree=0.5, learning_rate=0.1, max_depth=3, n_estimators=100, subsample=0.9;, score=0.958 total time=   4.0s\n",
      "[CV 2/3] END colsample_bytree=0.5, learning_rate=0.1, max_depth=3, n_estimators=100, subsample=0.9;, score=0.958 total time=   4.1s\n",
      "[CV 3/3] END colsample_bytree=0.5, learning_rate=0.1, max_depth=3, n_estimators=100, subsample=0.9;, score=0.958 total time=   4.1s\n",
      "[CV 1/3] END colsample_bytree=0.5, learning_rate=0.1, max_depth=3, n_estimators=100, subsample=1.0;, score=0.958 total time=   3.8s\n",
      "[CV 2/3] END colsample_bytree=0.5, learning_rate=0.1, max_depth=3, n_estimators=100, subsample=1.0;, score=0.958 total time=   3.8s\n",
      "[CV 3/3] END colsample_bytree=0.5, learning_rate=0.1, max_depth=3, n_estimators=100, subsample=1.0;, score=0.958 total time=   3.8s\n",
      "[CV 1/3] END colsample_bytree=0.5, learning_rate=0.1, max_depth=3, n_estimators=200, subsample=0.8;, score=0.961 total time=   7.3s\n",
      "[CV 2/3] END colsample_bytree=0.5, learning_rate=0.1, max_depth=3, n_estimators=200, subsample=0.8;, score=0.961 total time=   7.3s\n",
      "[CV 3/3] END colsample_bytree=0.5, learning_rate=0.1, max_depth=3, n_estimators=200, subsample=0.8;, score=0.961 total time=   7.2s\n",
      "[CV 1/3] END colsample_bytree=0.5, learning_rate=0.1, max_depth=3, n_estimators=200, subsample=0.9;, score=0.961 total time=   7.1s\n",
      "[CV 2/3] END colsample_bytree=0.5, learning_rate=0.1, max_depth=3, n_estimators=200, subsample=0.9;, score=0.961 total time=   7.2s\n",
      "[CV 3/3] END colsample_bytree=0.5, learning_rate=0.1, max_depth=3, n_estimators=200, subsample=0.9;, score=0.961 total time=   7.1s\n",
      "[CV 1/3] END colsample_bytree=0.5, learning_rate=0.1, max_depth=3, n_estimators=200, subsample=1.0;, score=0.961 total time=   6.7s\n",
      "[CV 2/3] END colsample_bytree=0.5, learning_rate=0.1, max_depth=3, n_estimators=200, subsample=1.0;, score=0.961 total time=   6.6s\n",
      "[CV 3/3] END colsample_bytree=0.5, learning_rate=0.1, max_depth=3, n_estimators=200, subsample=1.0;, score=0.961 total time=   7.0s\n",
      "[CV 1/3] END colsample_bytree=0.5, learning_rate=0.1, max_depth=3, n_estimators=300, subsample=0.8;, score=0.962 total time=  10.3s\n",
      "[CV 2/3] END colsample_bytree=0.5, learning_rate=0.1, max_depth=3, n_estimators=300, subsample=0.8;, score=0.962 total time=  10.4s\n",
      "[CV 3/3] END colsample_bytree=0.5, learning_rate=0.1, max_depth=3, n_estimators=300, subsample=0.8;, score=0.962 total time=   9.9s\n",
      "[CV 1/3] END colsample_bytree=0.5, learning_rate=0.1, max_depth=3, n_estimators=300, subsample=0.9;, score=0.962 total time=   9.8s\n",
      "[CV 2/3] END colsample_bytree=0.5, learning_rate=0.1, max_depth=3, n_estimators=300, subsample=0.9;, score=0.962 total time=   9.9s\n",
      "[CV 3/3] END colsample_bytree=0.5, learning_rate=0.1, max_depth=3, n_estimators=300, subsample=0.9;, score=0.962 total time=  10.0s\n",
      "[CV 1/3] END colsample_bytree=0.5, learning_rate=0.1, max_depth=3, n_estimators=300, subsample=1.0;, score=0.962 total time=   9.3s\n",
      "[CV 2/3] END colsample_bytree=0.5, learning_rate=0.1, max_depth=3, n_estimators=300, subsample=1.0;, score=0.962 total time=   9.5s\n",
      "[CV 3/3] END colsample_bytree=0.5, learning_rate=0.1, max_depth=3, n_estimators=300, subsample=1.0;, score=0.962 total time=   9.2s\n",
      "[CV 1/3] END colsample_bytree=0.5, learning_rate=0.1, max_depth=5, n_estimators=100, subsample=0.8;, score=0.962 total time=   5.5s\n",
      "[CV 2/3] END colsample_bytree=0.5, learning_rate=0.1, max_depth=5, n_estimators=100, subsample=0.8;, score=0.963 total time=   5.5s\n",
      "[CV 3/3] END colsample_bytree=0.5, learning_rate=0.1, max_depth=5, n_estimators=100, subsample=0.8;, score=0.962 total time=   5.7s\n",
      "[CV 1/3] END colsample_bytree=0.5, learning_rate=0.1, max_depth=5, n_estimators=100, subsample=0.9;, score=0.962 total time=   5.5s\n",
      "[CV 2/3] END colsample_bytree=0.5, learning_rate=0.1, max_depth=5, n_estimators=100, subsample=0.9;, score=0.963 total time=   5.3s\n",
      "[CV 3/3] END colsample_bytree=0.5, learning_rate=0.1, max_depth=5, n_estimators=100, subsample=0.9;, score=0.963 total time=   5.3s\n",
      "[CV 1/3] END colsample_bytree=0.5, learning_rate=0.1, max_depth=5, n_estimators=100, subsample=1.0;, score=0.962 total time=   5.2s\n",
      "[CV 2/3] END colsample_bytree=0.5, learning_rate=0.1, max_depth=5, n_estimators=100, subsample=1.0;, score=0.963 total time=   5.2s\n",
      "[CV 3/3] END colsample_bytree=0.5, learning_rate=0.1, max_depth=5, n_estimators=100, subsample=1.0;, score=0.962 total time=   5.1s\n",
      "[CV 1/3] END colsample_bytree=0.5, learning_rate=0.1, max_depth=5, n_estimators=200, subsample=0.8;, score=0.964 total time=   9.7s\n",
      "[CV 2/3] END colsample_bytree=0.5, learning_rate=0.1, max_depth=5, n_estimators=200, subsample=0.8;, score=0.964 total time=   9.7s\n",
      "[CV 3/3] END colsample_bytree=0.5, learning_rate=0.1, max_depth=5, n_estimators=200, subsample=0.8;, score=0.964 total time=   9.5s\n",
      "[CV 1/3] END colsample_bytree=0.5, learning_rate=0.1, max_depth=5, n_estimators=200, subsample=0.9;, score=0.964 total time=   9.5s\n",
      "[CV 2/3] END colsample_bytree=0.5, learning_rate=0.1, max_depth=5, n_estimators=200, subsample=0.9;, score=0.964 total time=   9.4s\n",
      "[CV 3/3] END colsample_bytree=0.5, learning_rate=0.1, max_depth=5, n_estimators=200, subsample=0.9;, score=0.964 total time=   9.5s\n",
      "[CV 1/3] END colsample_bytree=0.5, learning_rate=0.1, max_depth=5, n_estimators=200, subsample=1.0;, score=0.964 total time=   8.9s\n",
      "[CV 2/3] END colsample_bytree=0.5, learning_rate=0.1, max_depth=5, n_estimators=200, subsample=1.0;, score=0.964 total time=   9.1s\n",
      "[CV 3/3] END colsample_bytree=0.5, learning_rate=0.1, max_depth=5, n_estimators=200, subsample=1.0;, score=0.964 total time=   9.1s\n",
      "[CV 1/3] END colsample_bytree=0.5, learning_rate=0.1, max_depth=5, n_estimators=300, subsample=0.8;, score=0.964 total time=  14.2s\n",
      "[CV 2/3] END colsample_bytree=0.5, learning_rate=0.1, max_depth=5, n_estimators=300, subsample=0.8;, score=0.964 total time=  14.0s\n",
      "[CV 3/3] END colsample_bytree=0.5, learning_rate=0.1, max_depth=5, n_estimators=300, subsample=0.8;, score=0.964 total time=  13.6s\n",
      "[CV 1/3] END colsample_bytree=0.5, learning_rate=0.1, max_depth=5, n_estimators=300, subsample=0.9;, score=0.964 total time=  13.6s\n",
      "[CV 2/3] END colsample_bytree=0.5, learning_rate=0.1, max_depth=5, n_estimators=300, subsample=0.9;, score=0.964 total time=  13.5s\n",
      "[CV 3/3] END colsample_bytree=0.5, learning_rate=0.1, max_depth=5, n_estimators=300, subsample=0.9;, score=0.964 total time=  13.6s\n",
      "[CV 1/3] END colsample_bytree=0.5, learning_rate=0.1, max_depth=5, n_estimators=300, subsample=1.0;, score=0.964 total time=  12.9s\n",
      "[CV 2/3] END colsample_bytree=0.5, learning_rate=0.1, max_depth=5, n_estimators=300, subsample=1.0;, score=0.964 total time=  12.9s\n",
      "[CV 3/3] END colsample_bytree=0.5, learning_rate=0.1, max_depth=5, n_estimators=300, subsample=1.0;, score=0.964 total time=  13.0s\n",
      "[CV 1/3] END colsample_bytree=0.5, learning_rate=0.1, max_depth=7, n_estimators=100, subsample=0.8;, score=0.964 total time=   6.9s\n",
      "[CV 2/3] END colsample_bytree=0.5, learning_rate=0.1, max_depth=7, n_estimators=100, subsample=0.8;, score=0.964 total time=   6.9s\n",
      "[CV 3/3] END colsample_bytree=0.5, learning_rate=0.1, max_depth=7, n_estimators=100, subsample=0.8;, score=0.964 total time=   6.9s\n",
      "[CV 1/3] END colsample_bytree=0.5, learning_rate=0.1, max_depth=7, n_estimators=100, subsample=0.9;, score=0.964 total time=   6.9s\n",
      "[CV 2/3] END colsample_bytree=0.5, learning_rate=0.1, max_depth=7, n_estimators=100, subsample=0.9;, score=0.964 total time=   7.1s\n",
      "[CV 3/3] END colsample_bytree=0.5, learning_rate=0.1, max_depth=7, n_estimators=100, subsample=0.9;, score=0.964 total time=   6.9s\n",
      "[CV 1/3] END colsample_bytree=0.5, learning_rate=0.1, max_depth=7, n_estimators=100, subsample=1.0;, score=0.964 total time=   6.8s\n",
      "[CV 2/3] END colsample_bytree=0.5, learning_rate=0.1, max_depth=7, n_estimators=100, subsample=1.0;, score=0.964 total time=   6.7s\n",
      "[CV 3/3] END colsample_bytree=0.5, learning_rate=0.1, max_depth=7, n_estimators=100, subsample=1.0;, score=0.964 total time=   7.0s\n",
      "[CV 1/3] END colsample_bytree=0.5, learning_rate=0.1, max_depth=7, n_estimators=200, subsample=0.8;, score=0.965 total time=  12.6s\n",
      "[CV 2/3] END colsample_bytree=0.5, learning_rate=0.1, max_depth=7, n_estimators=200, subsample=0.8;, score=0.965 total time=  12.6s\n",
      "[CV 3/3] END colsample_bytree=0.5, learning_rate=0.1, max_depth=7, n_estimators=200, subsample=0.8;, score=0.965 total time=  12.5s\n",
      "[CV 1/3] END colsample_bytree=0.5, learning_rate=0.1, max_depth=7, n_estimators=200, subsample=0.9;, score=0.965 total time=  12.5s\n",
      "[CV 2/3] END colsample_bytree=0.5, learning_rate=0.1, max_depth=7, n_estimators=200, subsample=0.9;, score=0.965 total time=  12.3s\n",
      "[CV 3/3] END colsample_bytree=0.5, learning_rate=0.1, max_depth=7, n_estimators=200, subsample=0.9;, score=0.965 total time=  12.6s\n",
      "[CV 1/3] END colsample_bytree=0.5, learning_rate=0.1, max_depth=7, n_estimators=200, subsample=1.0;, score=0.965 total time=  12.1s\n",
      "[CV 2/3] END colsample_bytree=0.5, learning_rate=0.1, max_depth=7, n_estimators=200, subsample=1.0;, score=0.965 total time=  12.1s\n",
      "[CV 3/3] END colsample_bytree=0.5, learning_rate=0.1, max_depth=7, n_estimators=200, subsample=1.0;, score=0.965 total time=  12.1s\n",
      "[CV 1/3] END colsample_bytree=0.5, learning_rate=0.1, max_depth=7, n_estimators=300, subsample=0.8;, score=0.965 total time=  18.0s\n",
      "[CV 2/3] END colsample_bytree=0.5, learning_rate=0.1, max_depth=7, n_estimators=300, subsample=0.8;, score=0.965 total time=  18.1s\n",
      "[CV 3/3] END colsample_bytree=0.5, learning_rate=0.1, max_depth=7, n_estimators=300, subsample=0.8;, score=0.965 total time=  18.5s\n",
      "[CV 1/3] END colsample_bytree=0.5, learning_rate=0.1, max_depth=7, n_estimators=300, subsample=0.9;, score=0.965 total time=  17.7s\n",
      "[CV 2/3] END colsample_bytree=0.5, learning_rate=0.1, max_depth=7, n_estimators=300, subsample=0.9;, score=0.965 total time=  17.8s\n",
      "[CV 3/3] END colsample_bytree=0.5, learning_rate=0.1, max_depth=7, n_estimators=300, subsample=0.9;, score=0.965 total time=  17.8s\n",
      "[CV 1/3] END colsample_bytree=0.5, learning_rate=0.1, max_depth=7, n_estimators=300, subsample=1.0;, score=0.965 total time=  17.1s\n",
      "[CV 2/3] END colsample_bytree=0.5, learning_rate=0.1, max_depth=7, n_estimators=300, subsample=1.0;, score=0.965 total time=  17.1s\n",
      "[CV 3/3] END colsample_bytree=0.5, learning_rate=0.1, max_depth=7, n_estimators=300, subsample=1.0;, score=0.965 total time=  17.2s\n",
      "[CV 1/3] END colsample_bytree=0.5, learning_rate=0.2, max_depth=3, n_estimators=100, subsample=0.8;, score=0.961 total time=   4.1s\n",
      "[CV 2/3] END colsample_bytree=0.5, learning_rate=0.2, max_depth=3, n_estimators=100, subsample=0.8;, score=0.962 total time=   4.0s\n",
      "[CV 3/3] END colsample_bytree=0.5, learning_rate=0.2, max_depth=3, n_estimators=100, subsample=0.8;, score=0.960 total time=   3.9s\n",
      "[CV 1/3] END colsample_bytree=0.5, learning_rate=0.2, max_depth=3, n_estimators=100, subsample=0.9;, score=0.962 total time=   4.0s\n",
      "[CV 2/3] END colsample_bytree=0.5, learning_rate=0.2, max_depth=3, n_estimators=100, subsample=0.9;, score=0.962 total time=   3.9s\n",
      "[CV 3/3] END colsample_bytree=0.5, learning_rate=0.2, max_depth=3, n_estimators=100, subsample=0.9;, score=0.961 total time=   3.9s\n",
      "[CV 1/3] END colsample_bytree=0.5, learning_rate=0.2, max_depth=3, n_estimators=100, subsample=1.0;, score=0.962 total time=   3.8s\n",
      "[CV 2/3] END colsample_bytree=0.5, learning_rate=0.2, max_depth=3, n_estimators=100, subsample=1.0;, score=0.962 total time=   3.8s\n",
      "[CV 3/3] END colsample_bytree=0.5, learning_rate=0.2, max_depth=3, n_estimators=100, subsample=1.0;, score=0.961 total time=   3.7s\n",
      "[CV 1/3] END colsample_bytree=0.5, learning_rate=0.2, max_depth=3, n_estimators=200, subsample=0.8;, score=0.963 total time=   6.9s\n",
      "[CV 2/3] END colsample_bytree=0.5, learning_rate=0.2, max_depth=3, n_estimators=200, subsample=0.8;, score=0.963 total time=   6.9s\n",
      "[CV 3/3] END colsample_bytree=0.5, learning_rate=0.2, max_depth=3, n_estimators=200, subsample=0.8;, score=0.963 total time=   7.0s\n",
      "[CV 1/3] END colsample_bytree=0.5, learning_rate=0.2, max_depth=3, n_estimators=200, subsample=0.9;, score=0.963 total time=   6.9s\n",
      "[CV 2/3] END colsample_bytree=0.5, learning_rate=0.2, max_depth=3, n_estimators=200, subsample=0.9;, score=0.963 total time=   6.9s\n",
      "[CV 3/3] END colsample_bytree=0.5, learning_rate=0.2, max_depth=3, n_estimators=200, subsample=0.9;, score=0.963 total time=   6.8s\n",
      "[CV 1/3] END colsample_bytree=0.5, learning_rate=0.2, max_depth=3, n_estimators=200, subsample=1.0;, score=0.963 total time=   6.3s\n",
      "[CV 2/3] END colsample_bytree=0.5, learning_rate=0.2, max_depth=3, n_estimators=200, subsample=1.0;, score=0.963 total time=   6.4s\n",
      "[CV 3/3] END colsample_bytree=0.5, learning_rate=0.2, max_depth=3, n_estimators=200, subsample=1.0;, score=0.963 total time=   6.6s\n",
      "[CV 1/3] END colsample_bytree=0.5, learning_rate=0.2, max_depth=3, n_estimators=300, subsample=0.8;, score=0.963 total time=  10.8s\n",
      "[CV 2/3] END colsample_bytree=0.5, learning_rate=0.2, max_depth=3, n_estimators=300, subsample=0.8;, score=0.963 total time=   9.8s\n",
      "[CV 3/3] END colsample_bytree=0.5, learning_rate=0.2, max_depth=3, n_estimators=300, subsample=0.8;, score=0.963 total time=   9.9s\n",
      "[CV 1/3] END colsample_bytree=0.5, learning_rate=0.2, max_depth=3, n_estimators=300, subsample=0.9;, score=0.963 total time=   9.8s\n",
      "[CV 2/3] END colsample_bytree=0.5, learning_rate=0.2, max_depth=3, n_estimators=300, subsample=0.9;, score=0.963 total time=   9.7s\n",
      "[CV 3/3] END colsample_bytree=0.5, learning_rate=0.2, max_depth=3, n_estimators=300, subsample=0.9;, score=0.963 total time=   9.6s\n",
      "[CV 1/3] END colsample_bytree=0.5, learning_rate=0.2, max_depth=3, n_estimators=300, subsample=1.0;, score=0.963 total time=   9.5s\n",
      "[CV 2/3] END colsample_bytree=0.5, learning_rate=0.2, max_depth=3, n_estimators=300, subsample=1.0;, score=0.963 total time=   9.2s\n",
      "[CV 3/3] END colsample_bytree=0.5, learning_rate=0.2, max_depth=3, n_estimators=300, subsample=1.0;, score=0.963 total time=  10.7s\n",
      "[CV 1/3] END colsample_bytree=0.5, learning_rate=0.2, max_depth=5, n_estimators=100, subsample=0.8;, score=0.964 total time=   5.6s\n",
      "[CV 2/3] END colsample_bytree=0.5, learning_rate=0.2, max_depth=5, n_estimators=100, subsample=0.8;, score=0.964 total time=   5.4s\n",
      "[CV 3/3] END colsample_bytree=0.5, learning_rate=0.2, max_depth=5, n_estimators=100, subsample=0.8;, score=0.964 total time=   5.3s\n",
      "[CV 1/3] END colsample_bytree=0.5, learning_rate=0.2, max_depth=5, n_estimators=100, subsample=0.9;, score=0.964 total time=   5.2s\n",
      "[CV 2/3] END colsample_bytree=0.5, learning_rate=0.2, max_depth=5, n_estimators=100, subsample=0.9;, score=0.964 total time=   5.2s\n",
      "[CV 3/3] END colsample_bytree=0.5, learning_rate=0.2, max_depth=5, n_estimators=100, subsample=0.9;, score=0.964 total time=   5.2s\n",
      "[CV 1/3] END colsample_bytree=0.5, learning_rate=0.2, max_depth=5, n_estimators=100, subsample=1.0;, score=0.964 total time=   4.9s\n",
      "[CV 2/3] END colsample_bytree=0.5, learning_rate=0.2, max_depth=5, n_estimators=100, subsample=1.0;, score=0.964 total time=   5.0s\n",
      "[CV 3/3] END colsample_bytree=0.5, learning_rate=0.2, max_depth=5, n_estimators=100, subsample=1.0;, score=0.964 total time=   5.0s\n",
      "[CV 1/3] END colsample_bytree=0.5, learning_rate=0.2, max_depth=5, n_estimators=200, subsample=0.8;, score=0.965 total time=   9.4s\n",
      "[CV 2/3] END colsample_bytree=0.5, learning_rate=0.2, max_depth=5, n_estimators=200, subsample=0.8;, score=0.964 total time=   9.5s\n",
      "[CV 3/3] END colsample_bytree=0.5, learning_rate=0.2, max_depth=5, n_estimators=200, subsample=0.8;, score=0.964 total time=   9.5s\n",
      "[CV 1/3] END colsample_bytree=0.5, learning_rate=0.2, max_depth=5, n_estimators=200, subsample=0.9;, score=0.964 total time=   9.4s\n",
      "[CV 2/3] END colsample_bytree=0.5, learning_rate=0.2, max_depth=5, n_estimators=200, subsample=0.9;, score=0.964 total time=   9.5s\n",
      "[CV 3/3] END colsample_bytree=0.5, learning_rate=0.2, max_depth=5, n_estimators=200, subsample=0.9;, score=0.964 total time=   9.5s\n",
      "[CV 1/3] END colsample_bytree=0.5, learning_rate=0.2, max_depth=5, n_estimators=200, subsample=1.0;, score=0.965 total time=   9.1s\n",
      "[CV 2/3] END colsample_bytree=0.5, learning_rate=0.2, max_depth=5, n_estimators=200, subsample=1.0;, score=0.964 total time=   8.9s\n",
      "[CV 3/3] END colsample_bytree=0.5, learning_rate=0.2, max_depth=5, n_estimators=200, subsample=1.0;, score=0.964 total time=   8.9s\n",
      "[CV 1/3] END colsample_bytree=0.5, learning_rate=0.2, max_depth=5, n_estimators=300, subsample=0.8;, score=0.965 total time=  13.7s\n",
      "[CV 2/3] END colsample_bytree=0.5, learning_rate=0.2, max_depth=5, n_estimators=300, subsample=0.8;, score=0.964 total time=  13.8s\n",
      "[CV 3/3] END colsample_bytree=0.5, learning_rate=0.2, max_depth=5, n_estimators=300, subsample=0.8;, score=0.965 total time=  13.6s\n",
      "[CV 1/3] END colsample_bytree=0.5, learning_rate=0.2, max_depth=5, n_estimators=300, subsample=0.9;, score=0.965 total time=  13.3s\n",
      "[CV 2/3] END colsample_bytree=0.5, learning_rate=0.2, max_depth=5, n_estimators=300, subsample=0.9;, score=0.964 total time=  13.2s\n",
      "[CV 3/3] END colsample_bytree=0.5, learning_rate=0.2, max_depth=5, n_estimators=300, subsample=0.9;, score=0.965 total time=  13.5s\n",
      "[CV 1/3] END colsample_bytree=0.5, learning_rate=0.2, max_depth=5, n_estimators=300, subsample=1.0;, score=0.965 total time=  12.8s\n",
      "[CV 2/3] END colsample_bytree=0.5, learning_rate=0.2, max_depth=5, n_estimators=300, subsample=1.0;, score=0.964 total time=  12.6s\n",
      "[CV 3/3] END colsample_bytree=0.5, learning_rate=0.2, max_depth=5, n_estimators=300, subsample=1.0;, score=0.965 total time=  12.8s\n",
      "[CV 1/3] END colsample_bytree=0.5, learning_rate=0.2, max_depth=7, n_estimators=100, subsample=0.8;, score=0.965 total time=   6.8s\n",
      "[CV 2/3] END colsample_bytree=0.5, learning_rate=0.2, max_depth=7, n_estimators=100, subsample=0.8;, score=0.964 total time=   6.7s\n",
      "[CV 3/3] END colsample_bytree=0.5, learning_rate=0.2, max_depth=7, n_estimators=100, subsample=0.8;, score=0.965 total time=   6.6s\n",
      "[CV 1/3] END colsample_bytree=0.5, learning_rate=0.2, max_depth=7, n_estimators=100, subsample=0.9;, score=0.965 total time=   6.6s\n",
      "[CV 2/3] END colsample_bytree=0.5, learning_rate=0.2, max_depth=7, n_estimators=100, subsample=0.9;, score=0.964 total time=   6.7s\n",
      "[CV 3/3] END colsample_bytree=0.5, learning_rate=0.2, max_depth=7, n_estimators=100, subsample=0.9;, score=0.965 total time=   6.6s\n",
      "[CV 1/3] END colsample_bytree=0.5, learning_rate=0.2, max_depth=7, n_estimators=100, subsample=1.0;, score=0.965 total time=   6.7s\n",
      "[CV 2/3] END colsample_bytree=0.5, learning_rate=0.2, max_depth=7, n_estimators=100, subsample=1.0;, score=0.964 total time=   6.7s\n",
      "[CV 3/3] END colsample_bytree=0.5, learning_rate=0.2, max_depth=7, n_estimators=100, subsample=1.0;, score=0.964 total time=   6.6s\n",
      "[CV 1/3] END colsample_bytree=0.5, learning_rate=0.2, max_depth=7, n_estimators=200, subsample=0.8;, score=0.965 total time=  12.7s\n",
      "[CV 2/3] END colsample_bytree=0.5, learning_rate=0.2, max_depth=7, n_estimators=200, subsample=0.8;, score=0.965 total time=  12.6s\n",
      "[CV 3/3] END colsample_bytree=0.5, learning_rate=0.2, max_depth=7, n_estimators=200, subsample=0.8;, score=0.965 total time=  12.3s\n",
      "[CV 1/3] END colsample_bytree=0.5, learning_rate=0.2, max_depth=7, n_estimators=200, subsample=0.9;, score=0.965 total time=  12.2s\n",
      "[CV 2/3] END colsample_bytree=0.5, learning_rate=0.2, max_depth=7, n_estimators=200, subsample=0.9;, score=0.965 total time=  12.1s\n",
      "[CV 3/3] END colsample_bytree=0.5, learning_rate=0.2, max_depth=7, n_estimators=200, subsample=0.9;, score=0.965 total time=  12.0s\n",
      "[CV 1/3] END colsample_bytree=0.5, learning_rate=0.2, max_depth=7, n_estimators=200, subsample=1.0;, score=0.965 total time=  11.5s\n",
      "[CV 2/3] END colsample_bytree=0.5, learning_rate=0.2, max_depth=7, n_estimators=200, subsample=1.0;, score=0.965 total time=  11.7s\n",
      "[CV 3/3] END colsample_bytree=0.5, learning_rate=0.2, max_depth=7, n_estimators=200, subsample=1.0;, score=0.965 total time=  11.9s\n",
      "[CV 1/3] END colsample_bytree=0.5, learning_rate=0.2, max_depth=7, n_estimators=300, subsample=0.8;, score=0.965 total time=  17.8s\n",
      "[CV 2/3] END colsample_bytree=0.5, learning_rate=0.2, max_depth=7, n_estimators=300, subsample=0.8;, score=0.965 total time=  18.2s\n",
      "[CV 3/3] END colsample_bytree=0.5, learning_rate=0.2, max_depth=7, n_estimators=300, subsample=0.8;, score=0.965 total time=  17.7s\n",
      "[CV 1/3] END colsample_bytree=0.5, learning_rate=0.2, max_depth=7, n_estimators=300, subsample=0.9;, score=0.965 total time=  17.6s\n",
      "[CV 2/3] END colsample_bytree=0.5, learning_rate=0.2, max_depth=7, n_estimators=300, subsample=0.9;, score=0.965 total time=  17.8s\n",
      "[CV 3/3] END colsample_bytree=0.5, learning_rate=0.2, max_depth=7, n_estimators=300, subsample=0.9;, score=0.965 total time=  17.6s\n",
      "[CV 1/3] END colsample_bytree=0.5, learning_rate=0.2, max_depth=7, n_estimators=300, subsample=1.0;, score=0.965 total time=  16.7s\n",
      "[CV 2/3] END colsample_bytree=0.5, learning_rate=0.2, max_depth=7, n_estimators=300, subsample=1.0;, score=0.965 total time=  16.6s\n",
      "[CV 3/3] END colsample_bytree=0.5, learning_rate=0.2, max_depth=7, n_estimators=300, subsample=1.0;, score=0.965 total time=  16.9s\n",
      "[CV 1/3] END colsample_bytree=0.7, learning_rate=0.01, max_depth=3, n_estimators=100, subsample=0.8;, score=0.952 total time=   3.9s\n",
      "[CV 2/3] END colsample_bytree=0.7, learning_rate=0.01, max_depth=3, n_estimators=100, subsample=0.8;, score=0.952 total time=   3.9s\n",
      "[CV 3/3] END colsample_bytree=0.7, learning_rate=0.01, max_depth=3, n_estimators=100, subsample=0.8;, score=0.952 total time=   3.9s\n",
      "[CV 1/3] END colsample_bytree=0.7, learning_rate=0.01, max_depth=3, n_estimators=100, subsample=0.9;, score=0.952 total time=   3.9s\n",
      "[CV 2/3] END colsample_bytree=0.7, learning_rate=0.01, max_depth=3, n_estimators=100, subsample=0.9;, score=0.952 total time=   3.9s\n",
      "[CV 3/3] END colsample_bytree=0.7, learning_rate=0.01, max_depth=3, n_estimators=100, subsample=0.9;, score=0.952 total time=   3.8s\n",
      "[CV 1/3] END colsample_bytree=0.7, learning_rate=0.01, max_depth=3, n_estimators=100, subsample=1.0;, score=0.952 total time=   3.7s\n",
      "[CV 2/3] END colsample_bytree=0.7, learning_rate=0.01, max_depth=3, n_estimators=100, subsample=1.0;, score=0.952 total time=   3.6s\n",
      "[CV 3/3] END colsample_bytree=0.7, learning_rate=0.01, max_depth=3, n_estimators=100, subsample=1.0;, score=0.952 total time=   3.7s\n",
      "[CV 1/3] END colsample_bytree=0.7, learning_rate=0.01, max_depth=3, n_estimators=200, subsample=0.8;, score=0.952 total time=   7.1s\n",
      "[CV 2/3] END colsample_bytree=0.7, learning_rate=0.01, max_depth=3, n_estimators=200, subsample=0.8;, score=0.952 total time=   7.2s\n",
      "[CV 3/3] END colsample_bytree=0.7, learning_rate=0.01, max_depth=3, n_estimators=200, subsample=0.8;, score=0.952 total time=   7.0s\n",
      "[CV 1/3] END colsample_bytree=0.7, learning_rate=0.01, max_depth=3, n_estimators=200, subsample=0.9;, score=0.952 total time=   7.0s\n",
      "[CV 2/3] END colsample_bytree=0.7, learning_rate=0.01, max_depth=3, n_estimators=200, subsample=0.9;, score=0.952 total time=   7.0s\n",
      "[CV 3/3] END colsample_bytree=0.7, learning_rate=0.01, max_depth=3, n_estimators=200, subsample=0.9;, score=0.952 total time=   6.9s\n",
      "[CV 1/3] END colsample_bytree=0.7, learning_rate=0.01, max_depth=3, n_estimators=200, subsample=1.0;, score=0.952 total time=   6.5s\n",
      "[CV 2/3] END colsample_bytree=0.7, learning_rate=0.01, max_depth=3, n_estimators=200, subsample=1.0;, score=0.952 total time=   6.5s\n",
      "[CV 3/3] END colsample_bytree=0.7, learning_rate=0.01, max_depth=3, n_estimators=200, subsample=1.0;, score=0.952 total time=   6.4s\n",
      "[CV 1/3] END colsample_bytree=0.7, learning_rate=0.01, max_depth=3, n_estimators=300, subsample=0.8;, score=0.953 total time=  10.3s\n",
      "[CV 2/3] END colsample_bytree=0.7, learning_rate=0.01, max_depth=3, n_estimators=300, subsample=0.8;, score=0.953 total time=  10.4s\n",
      "[CV 3/3] END colsample_bytree=0.7, learning_rate=0.01, max_depth=3, n_estimators=300, subsample=0.8;, score=0.953 total time=  10.4s\n",
      "[CV 1/3] END colsample_bytree=0.7, learning_rate=0.01, max_depth=3, n_estimators=300, subsample=0.9;, score=0.953 total time=  10.0s\n",
      "[CV 2/3] END colsample_bytree=0.7, learning_rate=0.01, max_depth=3, n_estimators=300, subsample=0.9;, score=0.952 total time=  10.2s\n",
      "[CV 3/3] END colsample_bytree=0.7, learning_rate=0.01, max_depth=3, n_estimators=300, subsample=0.9;, score=0.953 total time=  10.1s\n",
      "[CV 1/3] END colsample_bytree=0.7, learning_rate=0.01, max_depth=3, n_estimators=300, subsample=1.0;, score=0.953 total time=   9.8s\n",
      "[CV 2/3] END colsample_bytree=0.7, learning_rate=0.01, max_depth=3, n_estimators=300, subsample=1.0;, score=0.952 total time=   9.7s\n",
      "[CV 3/3] END colsample_bytree=0.7, learning_rate=0.01, max_depth=3, n_estimators=300, subsample=1.0;, score=0.953 total time=  10.0s\n",
      "[CV 1/3] END colsample_bytree=0.7, learning_rate=0.01, max_depth=5, n_estimators=100, subsample=0.8;, score=0.952 total time=   5.4s\n",
      "[CV 2/3] END colsample_bytree=0.7, learning_rate=0.01, max_depth=5, n_estimators=100, subsample=0.8;, score=0.952 total time=   5.4s\n",
      "[CV 3/3] END colsample_bytree=0.7, learning_rate=0.01, max_depth=5, n_estimators=100, subsample=0.8;, score=0.952 total time=   5.3s\n",
      "[CV 1/3] END colsample_bytree=0.7, learning_rate=0.01, max_depth=5, n_estimators=100, subsample=0.9;, score=0.952 total time=   5.2s\n",
      "[CV 2/3] END colsample_bytree=0.7, learning_rate=0.01, max_depth=5, n_estimators=100, subsample=0.9;, score=0.952 total time=   5.2s\n",
      "[CV 3/3] END colsample_bytree=0.7, learning_rate=0.01, max_depth=5, n_estimators=100, subsample=0.9;, score=0.952 total time=   5.1s\n",
      "[CV 1/3] END colsample_bytree=0.7, learning_rate=0.01, max_depth=5, n_estimators=100, subsample=1.0;, score=0.952 total time=   5.1s\n",
      "[CV 2/3] END colsample_bytree=0.7, learning_rate=0.01, max_depth=5, n_estimators=100, subsample=1.0;, score=0.952 total time=   5.0s\n",
      "[CV 3/3] END colsample_bytree=0.7, learning_rate=0.01, max_depth=5, n_estimators=100, subsample=1.0;, score=0.952 total time=   4.9s\n",
      "[CV 1/3] END colsample_bytree=0.7, learning_rate=0.01, max_depth=5, n_estimators=200, subsample=0.8;, score=0.954 total time=  10.1s\n",
      "[CV 2/3] END colsample_bytree=0.7, learning_rate=0.01, max_depth=5, n_estimators=200, subsample=0.8;, score=0.954 total time=   9.9s\n",
      "[CV 3/3] END colsample_bytree=0.7, learning_rate=0.01, max_depth=5, n_estimators=200, subsample=0.8;, score=0.954 total time=  10.1s\n",
      "[CV 1/3] END colsample_bytree=0.7, learning_rate=0.01, max_depth=5, n_estimators=200, subsample=0.9;, score=0.954 total time=   9.8s\n",
      "[CV 2/3] END colsample_bytree=0.7, learning_rate=0.01, max_depth=5, n_estimators=200, subsample=0.9;, score=0.954 total time=   9.7s\n",
      "[CV 3/3] END colsample_bytree=0.7, learning_rate=0.01, max_depth=5, n_estimators=200, subsample=0.9;, score=0.954 total time=   9.8s\n",
      "[CV 1/3] END colsample_bytree=0.7, learning_rate=0.01, max_depth=5, n_estimators=200, subsample=1.0;, score=0.954 total time=   9.3s\n",
      "[CV 2/3] END colsample_bytree=0.7, learning_rate=0.01, max_depth=5, n_estimators=200, subsample=1.0;, score=0.954 total time=   9.5s\n",
      "[CV 3/3] END colsample_bytree=0.7, learning_rate=0.01, max_depth=5, n_estimators=200, subsample=1.0;, score=0.954 total time=   9.4s\n",
      "[CV 1/3] END colsample_bytree=0.7, learning_rate=0.01, max_depth=5, n_estimators=300, subsample=0.8;, score=0.960 total time=  14.9s\n",
      "[CV 2/3] END colsample_bytree=0.7, learning_rate=0.01, max_depth=5, n_estimators=300, subsample=0.8;, score=0.960 total time=  14.6s\n",
      "[CV 3/3] END colsample_bytree=0.7, learning_rate=0.01, max_depth=5, n_estimators=300, subsample=0.8;, score=0.960 total time=  14.6s\n",
      "[CV 1/3] END colsample_bytree=0.7, learning_rate=0.01, max_depth=5, n_estimators=300, subsample=0.9;, score=0.960 total time=  14.7s\n",
      "[CV 2/3] END colsample_bytree=0.7, learning_rate=0.01, max_depth=5, n_estimators=300, subsample=0.9;, score=0.960 total time=  14.5s\n",
      "[CV 3/3] END colsample_bytree=0.7, learning_rate=0.01, max_depth=5, n_estimators=300, subsample=0.9;, score=0.960 total time=  14.6s\n",
      "[CV 1/3] END colsample_bytree=0.7, learning_rate=0.01, max_depth=5, n_estimators=300, subsample=1.0;, score=0.960 total time=  14.4s\n",
      "[CV 2/3] END colsample_bytree=0.7, learning_rate=0.01, max_depth=5, n_estimators=300, subsample=1.0;, score=0.960 total time=  14.1s\n",
      "[CV 3/3] END colsample_bytree=0.7, learning_rate=0.01, max_depth=5, n_estimators=300, subsample=1.0;, score=0.960 total time=  14.0s\n",
      "[CV 1/3] END colsample_bytree=0.7, learning_rate=0.01, max_depth=7, n_estimators=100, subsample=0.8;, score=0.952 total time=   6.9s\n",
      "[CV 2/3] END colsample_bytree=0.7, learning_rate=0.01, max_depth=7, n_estimators=100, subsample=0.8;, score=0.952 total time=   7.0s\n",
      "[CV 3/3] END colsample_bytree=0.7, learning_rate=0.01, max_depth=7, n_estimators=100, subsample=0.8;, score=0.952 total time=   7.0s\n",
      "[CV 1/3] END colsample_bytree=0.7, learning_rate=0.01, max_depth=7, n_estimators=100, subsample=0.9;, score=0.952 total time=   6.9s\n",
      "[CV 2/3] END colsample_bytree=0.7, learning_rate=0.01, max_depth=7, n_estimators=100, subsample=0.9;, score=0.952 total time=   6.7s\n",
      "[CV 3/3] END colsample_bytree=0.7, learning_rate=0.01, max_depth=7, n_estimators=100, subsample=0.9;, score=0.952 total time=   6.8s\n",
      "[CV 1/3] END colsample_bytree=0.7, learning_rate=0.01, max_depth=7, n_estimators=100, subsample=1.0;, score=0.952 total time=   6.8s\n",
      "[CV 2/3] END colsample_bytree=0.7, learning_rate=0.01, max_depth=7, n_estimators=100, subsample=1.0;, score=0.952 total time=   6.6s\n",
      "[CV 3/3] END colsample_bytree=0.7, learning_rate=0.01, max_depth=7, n_estimators=100, subsample=1.0;, score=0.952 total time=   6.5s\n",
      "[CV 1/3] END colsample_bytree=0.7, learning_rate=0.01, max_depth=7, n_estimators=200, subsample=0.8;, score=0.961 total time=  13.1s\n",
      "[CV 2/3] END colsample_bytree=0.7, learning_rate=0.01, max_depth=7, n_estimators=200, subsample=0.8;, score=0.961 total time=  13.4s\n",
      "[CV 3/3] END colsample_bytree=0.7, learning_rate=0.01, max_depth=7, n_estimators=200, subsample=0.8;, score=0.961 total time=  13.7s\n",
      "[CV 1/3] END colsample_bytree=0.7, learning_rate=0.01, max_depth=7, n_estimators=200, subsample=0.9;, score=0.961 total time=  12.8s\n",
      "[CV 2/3] END colsample_bytree=0.7, learning_rate=0.01, max_depth=7, n_estimators=200, subsample=0.9;, score=0.961 total time=  13.1s\n",
      "[CV 3/3] END colsample_bytree=0.7, learning_rate=0.01, max_depth=7, n_estimators=200, subsample=0.9;, score=0.961 total time=  13.0s\n",
      "[CV 1/3] END colsample_bytree=0.7, learning_rate=0.01, max_depth=7, n_estimators=200, subsample=1.0;, score=0.961 total time=  12.7s\n",
      "[CV 2/3] END colsample_bytree=0.7, learning_rate=0.01, max_depth=7, n_estimators=200, subsample=1.0;, score=0.961 total time=  12.7s\n",
      "[CV 3/3] END colsample_bytree=0.7, learning_rate=0.01, max_depth=7, n_estimators=200, subsample=1.0;, score=0.961 total time=  12.7s\n",
      "[CV 1/3] END colsample_bytree=0.7, learning_rate=0.01, max_depth=7, n_estimators=300, subsample=0.8;, score=0.963 total time=  20.1s\n",
      "[CV 2/3] END colsample_bytree=0.7, learning_rate=0.01, max_depth=7, n_estimators=300, subsample=0.8;, score=0.963 total time=  19.7s\n",
      "[CV 3/3] END colsample_bytree=0.7, learning_rate=0.01, max_depth=7, n_estimators=300, subsample=0.8;, score=0.963 total time=  19.7s\n",
      "[CV 1/3] END colsample_bytree=0.7, learning_rate=0.01, max_depth=7, n_estimators=300, subsample=0.9;, score=0.963 total time=  19.5s\n",
      "[CV 2/3] END colsample_bytree=0.7, learning_rate=0.01, max_depth=7, n_estimators=300, subsample=0.9;, score=0.963 total time=  19.5s\n",
      "[CV 3/3] END colsample_bytree=0.7, learning_rate=0.01, max_depth=7, n_estimators=300, subsample=0.9;, score=0.963 total time=  19.7s\n",
      "[CV 1/3] END colsample_bytree=0.7, learning_rate=0.01, max_depth=7, n_estimators=300, subsample=1.0;, score=0.963 total time=  19.3s\n",
      "[CV 2/3] END colsample_bytree=0.7, learning_rate=0.01, max_depth=7, n_estimators=300, subsample=1.0;, score=0.963 total time=  19.2s\n",
      "[CV 3/3] END colsample_bytree=0.7, learning_rate=0.01, max_depth=7, n_estimators=300, subsample=1.0;, score=0.963 total time=  18.9s\n",
      "[CV 1/3] END colsample_bytree=0.7, learning_rate=0.1, max_depth=3, n_estimators=100, subsample=0.8;, score=0.960 total time=   3.9s\n",
      "[CV 2/3] END colsample_bytree=0.7, learning_rate=0.1, max_depth=3, n_estimators=100, subsample=0.8;, score=0.959 total time=   4.0s\n",
      "[CV 3/3] END colsample_bytree=0.7, learning_rate=0.1, max_depth=3, n_estimators=100, subsample=0.8;, score=0.961 total time=   4.0s\n",
      "[CV 1/3] END colsample_bytree=0.7, learning_rate=0.1, max_depth=3, n_estimators=100, subsample=0.9;, score=0.960 total time=   3.9s\n",
      "[CV 2/3] END colsample_bytree=0.7, learning_rate=0.1, max_depth=3, n_estimators=100, subsample=0.9;, score=0.959 total time=   3.8s\n",
      "[CV 3/3] END colsample_bytree=0.7, learning_rate=0.1, max_depth=3, n_estimators=100, subsample=0.9;, score=0.959 total time=   3.9s\n",
      "[CV 1/3] END colsample_bytree=0.7, learning_rate=0.1, max_depth=3, n_estimators=100, subsample=1.0;, score=0.960 total time=   3.6s\n",
      "[CV 2/3] END colsample_bytree=0.7, learning_rate=0.1, max_depth=3, n_estimators=100, subsample=1.0;, score=0.959 total time=   3.8s\n",
      "[CV 3/3] END colsample_bytree=0.7, learning_rate=0.1, max_depth=3, n_estimators=100, subsample=1.0;, score=0.960 total time=   3.7s\n",
      "[CV 1/3] END colsample_bytree=0.7, learning_rate=0.1, max_depth=3, n_estimators=200, subsample=0.8;, score=0.962 total time=   6.9s\n",
      "[CV 2/3] END colsample_bytree=0.7, learning_rate=0.1, max_depth=3, n_estimators=200, subsample=0.8;, score=0.962 total time=   7.0s\n",
      "[CV 3/3] END colsample_bytree=0.7, learning_rate=0.1, max_depth=3, n_estimators=200, subsample=0.8;, score=0.962 total time=   7.0s\n",
      "[CV 1/3] END colsample_bytree=0.7, learning_rate=0.1, max_depth=3, n_estimators=200, subsample=0.9;, score=0.962 total time=   6.8s\n",
      "[CV 2/3] END colsample_bytree=0.7, learning_rate=0.1, max_depth=3, n_estimators=200, subsample=0.9;, score=0.962 total time=   6.8s\n",
      "[CV 3/3] END colsample_bytree=0.7, learning_rate=0.1, max_depth=3, n_estimators=200, subsample=0.9;, score=0.961 total time=   6.7s\n",
      "[CV 1/3] END colsample_bytree=0.7, learning_rate=0.1, max_depth=3, n_estimators=200, subsample=1.0;, score=0.962 total time=   6.4s\n",
      "[CV 2/3] END colsample_bytree=0.7, learning_rate=0.1, max_depth=3, n_estimators=200, subsample=1.0;, score=0.962 total time=   6.4s\n",
      "[CV 3/3] END colsample_bytree=0.7, learning_rate=0.1, max_depth=3, n_estimators=200, subsample=1.0;, score=0.962 total time=   6.3s\n",
      "[CV 1/3] END colsample_bytree=0.7, learning_rate=0.1, max_depth=3, n_estimators=300, subsample=0.8;, score=0.963 total time=  10.0s\n",
      "[CV 2/3] END colsample_bytree=0.7, learning_rate=0.1, max_depth=3, n_estimators=300, subsample=0.8;, score=0.963 total time=  10.1s\n",
      "[CV 3/3] END colsample_bytree=0.7, learning_rate=0.1, max_depth=3, n_estimators=300, subsample=0.8;, score=0.963 total time=   9.9s\n",
      "[CV 1/3] END colsample_bytree=0.7, learning_rate=0.1, max_depth=3, n_estimators=300, subsample=0.9;, score=0.963 total time=   9.7s\n",
      "[CV 2/3] END colsample_bytree=0.7, learning_rate=0.1, max_depth=3, n_estimators=300, subsample=0.9;, score=0.963 total time=   9.7s\n",
      "[CV 3/3] END colsample_bytree=0.7, learning_rate=0.1, max_depth=3, n_estimators=300, subsample=0.9;, score=0.962 total time=   9.7s\n",
      "[CV 1/3] END colsample_bytree=0.7, learning_rate=0.1, max_depth=3, n_estimators=300, subsample=1.0;, score=0.962 total time=   9.0s\n",
      "[CV 2/3] END colsample_bytree=0.7, learning_rate=0.1, max_depth=3, n_estimators=300, subsample=1.0;, score=0.963 total time=   9.4s\n",
      "[CV 3/3] END colsample_bytree=0.7, learning_rate=0.1, max_depth=3, n_estimators=300, subsample=1.0;, score=0.963 total time=   9.1s\n",
      "[CV 1/3] END colsample_bytree=0.7, learning_rate=0.1, max_depth=5, n_estimators=100, subsample=0.8;, score=0.963 total time=   5.4s\n",
      "[CV 2/3] END colsample_bytree=0.7, learning_rate=0.1, max_depth=5, n_estimators=100, subsample=0.8;, score=0.963 total time=   5.4s\n",
      "[CV 3/3] END colsample_bytree=0.7, learning_rate=0.1, max_depth=5, n_estimators=100, subsample=0.8;, score=0.963 total time=   5.4s\n",
      "[CV 1/3] END colsample_bytree=0.7, learning_rate=0.1, max_depth=5, n_estimators=100, subsample=0.9;, score=0.963 total time=   5.4s\n",
      "[CV 2/3] END colsample_bytree=0.7, learning_rate=0.1, max_depth=5, n_estimators=100, subsample=0.9;, score=0.963 total time=   5.3s\n",
      "[CV 3/3] END colsample_bytree=0.7, learning_rate=0.1, max_depth=5, n_estimators=100, subsample=0.9;, score=0.963 total time=   5.3s\n",
      "[CV 1/3] END colsample_bytree=0.7, learning_rate=0.1, max_depth=5, n_estimators=100, subsample=1.0;, score=0.963 total time=   5.1s\n",
      "[CV 2/3] END colsample_bytree=0.7, learning_rate=0.1, max_depth=5, n_estimators=100, subsample=1.0;, score=0.963 total time=   5.1s\n",
      "[CV 3/3] END colsample_bytree=0.7, learning_rate=0.1, max_depth=5, n_estimators=100, subsample=1.0;, score=0.963 total time=   5.1s\n",
      "[CV 1/3] END colsample_bytree=0.7, learning_rate=0.1, max_depth=5, n_estimators=200, subsample=0.8;, score=0.964 total time=   9.5s\n",
      "[CV 2/3] END colsample_bytree=0.7, learning_rate=0.1, max_depth=5, n_estimators=200, subsample=0.8;, score=0.964 total time=   9.4s\n",
      "[CV 3/3] END colsample_bytree=0.7, learning_rate=0.1, max_depth=5, n_estimators=200, subsample=0.8;, score=0.964 total time=   9.7s\n",
      "[CV 1/3] END colsample_bytree=0.7, learning_rate=0.1, max_depth=5, n_estimators=200, subsample=0.9;, score=0.964 total time=   9.5s\n",
      "[CV 2/3] END colsample_bytree=0.7, learning_rate=0.1, max_depth=5, n_estimators=200, subsample=0.9;, score=0.964 total time=   9.4s\n",
      "[CV 3/3] END colsample_bytree=0.7, learning_rate=0.1, max_depth=5, n_estimators=200, subsample=0.9;, score=0.964 total time=   9.3s\n",
      "[CV 1/3] END colsample_bytree=0.7, learning_rate=0.1, max_depth=5, n_estimators=200, subsample=1.0;, score=0.964 total time=   9.3s\n",
      "[CV 2/3] END colsample_bytree=0.7, learning_rate=0.1, max_depth=5, n_estimators=200, subsample=1.0;, score=0.964 total time=   9.1s\n",
      "[CV 3/3] END colsample_bytree=0.7, learning_rate=0.1, max_depth=5, n_estimators=200, subsample=1.0;, score=0.964 total time=   9.1s\n",
      "[CV 1/3] END colsample_bytree=0.7, learning_rate=0.1, max_depth=5, n_estimators=300, subsample=0.8;, score=0.965 total time=  13.9s\n",
      "[CV 2/3] END colsample_bytree=0.7, learning_rate=0.1, max_depth=5, n_estimators=300, subsample=0.8;, score=0.964 total time=  14.0s\n",
      "[CV 3/3] END colsample_bytree=0.7, learning_rate=0.1, max_depth=5, n_estimators=300, subsample=0.8;, score=0.964 total time=  13.9s\n",
      "[CV 1/3] END colsample_bytree=0.7, learning_rate=0.1, max_depth=5, n_estimators=300, subsample=0.9;, score=0.965 total time=  13.3s\n",
      "[CV 2/3] END colsample_bytree=0.7, learning_rate=0.1, max_depth=5, n_estimators=300, subsample=0.9;, score=0.964 total time=  13.6s\n",
      "[CV 3/3] END colsample_bytree=0.7, learning_rate=0.1, max_depth=5, n_estimators=300, subsample=0.9;, score=0.964 total time=  13.8s\n",
      "[CV 1/3] END colsample_bytree=0.7, learning_rate=0.1, max_depth=5, n_estimators=300, subsample=1.0;, score=0.965 total time=  13.1s\n",
      "[CV 2/3] END colsample_bytree=0.7, learning_rate=0.1, max_depth=5, n_estimators=300, subsample=1.0;, score=0.964 total time=  13.0s\n",
      "[CV 3/3] END colsample_bytree=0.7, learning_rate=0.1, max_depth=5, n_estimators=300, subsample=1.0;, score=0.964 total time=  12.8s\n",
      "[CV 1/3] END colsample_bytree=0.7, learning_rate=0.1, max_depth=7, n_estimators=100, subsample=0.8;, score=0.965 total time=   7.7s\n",
      "[CV 2/3] END colsample_bytree=0.7, learning_rate=0.1, max_depth=7, n_estimators=100, subsample=0.8;, score=0.964 total time=   7.4s\n",
      "[CV 3/3] END colsample_bytree=0.7, learning_rate=0.1, max_depth=7, n_estimators=100, subsample=0.8;, score=0.965 total time=   7.9s\n",
      "[CV 1/3] END colsample_bytree=0.7, learning_rate=0.1, max_depth=7, n_estimators=100, subsample=0.9;, score=0.965 total time=   8.2s\n",
      "[CV 2/3] END colsample_bytree=0.7, learning_rate=0.1, max_depth=7, n_estimators=100, subsample=0.9;, score=0.964 total time=   7.4s\n",
      "[CV 3/3] END colsample_bytree=0.7, learning_rate=0.1, max_depth=7, n_estimators=100, subsample=0.9;, score=0.965 total time=   7.5s\n",
      "[CV 1/3] END colsample_bytree=0.7, learning_rate=0.1, max_depth=7, n_estimators=100, subsample=1.0;, score=0.965 total time=   7.1s\n",
      "[CV 2/3] END colsample_bytree=0.7, learning_rate=0.1, max_depth=7, n_estimators=100, subsample=1.0;, score=0.964 total time=   6.9s\n",
      "[CV 3/3] END colsample_bytree=0.7, learning_rate=0.1, max_depth=7, n_estimators=100, subsample=1.0;, score=0.965 total time=   6.9s\n",
      "[CV 1/3] END colsample_bytree=0.7, learning_rate=0.1, max_depth=7, n_estimators=200, subsample=0.8;, score=0.965 total time=  12.6s\n",
      "[CV 2/3] END colsample_bytree=0.7, learning_rate=0.1, max_depth=7, n_estimators=200, subsample=0.8;, score=0.965 total time=  12.4s\n",
      "[CV 3/3] END colsample_bytree=0.7, learning_rate=0.1, max_depth=7, n_estimators=200, subsample=0.8;, score=0.965 total time=  12.7s\n",
      "[CV 1/3] END colsample_bytree=0.7, learning_rate=0.1, max_depth=7, n_estimators=200, subsample=0.9;, score=0.965 total time=  12.4s\n",
      "[CV 2/3] END colsample_bytree=0.7, learning_rate=0.1, max_depth=7, n_estimators=200, subsample=0.9;, score=0.965 total time=  12.8s\n",
      "[CV 3/3] END colsample_bytree=0.7, learning_rate=0.1, max_depth=7, n_estimators=200, subsample=0.9;, score=0.965 total time=  12.5s\n",
      "[CV 1/3] END colsample_bytree=0.7, learning_rate=0.1, max_depth=7, n_estimators=200, subsample=1.0;, score=0.965 total time=  11.9s\n",
      "[CV 2/3] END colsample_bytree=0.7, learning_rate=0.1, max_depth=7, n_estimators=200, subsample=1.0;, score=0.965 total time=  11.7s\n",
      "[CV 3/3] END colsample_bytree=0.7, learning_rate=0.1, max_depth=7, n_estimators=200, subsample=1.0;, score=0.965 total time=  12.0s\n",
      "[CV 1/3] END colsample_bytree=0.7, learning_rate=0.1, max_depth=7, n_estimators=300, subsample=0.8;, score=0.965 total time=  17.8s\n",
      "[CV 2/3] END colsample_bytree=0.7, learning_rate=0.1, max_depth=7, n_estimators=300, subsample=0.8;, score=0.965 total time=  17.9s\n",
      "[CV 3/3] END colsample_bytree=0.7, learning_rate=0.1, max_depth=7, n_estimators=300, subsample=0.8;, score=0.965 total time=  17.9s\n",
      "[CV 1/3] END colsample_bytree=0.7, learning_rate=0.1, max_depth=7, n_estimators=300, subsample=0.9;, score=0.965 total time=  17.5s\n",
      "[CV 2/3] END colsample_bytree=0.7, learning_rate=0.1, max_depth=7, n_estimators=300, subsample=0.9;, score=0.965 total time=  17.6s\n",
      "[CV 3/3] END colsample_bytree=0.7, learning_rate=0.1, max_depth=7, n_estimators=300, subsample=0.9;, score=0.965 total time=  17.5s\n",
      "[CV 1/3] END colsample_bytree=0.7, learning_rate=0.1, max_depth=7, n_estimators=300, subsample=1.0;, score=0.965 total time=  17.0s\n",
      "[CV 2/3] END colsample_bytree=0.7, learning_rate=0.1, max_depth=7, n_estimators=300, subsample=1.0;, score=0.965 total time=  16.5s\n",
      "[CV 3/3] END colsample_bytree=0.7, learning_rate=0.1, max_depth=7, n_estimators=300, subsample=1.0;, score=0.965 total time=  16.9s\n",
      "[CV 1/3] END colsample_bytree=0.7, learning_rate=0.2, max_depth=3, n_estimators=100, subsample=0.8;, score=0.962 total time=   3.9s\n",
      "[CV 2/3] END colsample_bytree=0.7, learning_rate=0.2, max_depth=3, n_estimators=100, subsample=0.8;, score=0.962 total time=   4.0s\n",
      "[CV 3/3] END colsample_bytree=0.7, learning_rate=0.2, max_depth=3, n_estimators=100, subsample=0.8;, score=0.962 total time=   3.8s\n",
      "[CV 1/3] END colsample_bytree=0.7, learning_rate=0.2, max_depth=3, n_estimators=100, subsample=0.9;, score=0.962 total time=   3.8s\n",
      "[CV 2/3] END colsample_bytree=0.7, learning_rate=0.2, max_depth=3, n_estimators=100, subsample=0.9;, score=0.962 total time=   3.8s\n",
      "[CV 3/3] END colsample_bytree=0.7, learning_rate=0.2, max_depth=3, n_estimators=100, subsample=0.9;, score=0.962 total time=   3.8s\n",
      "[CV 1/3] END colsample_bytree=0.7, learning_rate=0.2, max_depth=3, n_estimators=100, subsample=1.0;, score=0.962 total time=   3.6s\n",
      "[CV 2/3] END colsample_bytree=0.7, learning_rate=0.2, max_depth=3, n_estimators=100, subsample=1.0;, score=0.962 total time=   3.7s\n",
      "[CV 3/3] END colsample_bytree=0.7, learning_rate=0.2, max_depth=3, n_estimators=100, subsample=1.0;, score=0.962 total time=   3.6s\n",
      "[CV 1/3] END colsample_bytree=0.7, learning_rate=0.2, max_depth=3, n_estimators=200, subsample=0.8;, score=0.963 total time=   7.0s\n",
      "[CV 2/3] END colsample_bytree=0.7, learning_rate=0.2, max_depth=3, n_estimators=200, subsample=0.8;, score=0.963 total time=   7.0s\n",
      "[CV 3/3] END colsample_bytree=0.7, learning_rate=0.2, max_depth=3, n_estimators=200, subsample=0.8;, score=0.963 total time=   7.1s\n",
      "[CV 1/3] END colsample_bytree=0.7, learning_rate=0.2, max_depth=3, n_estimators=200, subsample=0.9;, score=0.963 total time=   6.8s\n",
      "[CV 2/3] END colsample_bytree=0.7, learning_rate=0.2, max_depth=3, n_estimators=200, subsample=0.9;, score=0.963 total time=   6.8s\n",
      "[CV 3/3] END colsample_bytree=0.7, learning_rate=0.2, max_depth=3, n_estimators=200, subsample=0.9;, score=0.963 total time=   6.7s\n",
      "[CV 1/3] END colsample_bytree=0.7, learning_rate=0.2, max_depth=3, n_estimators=200, subsample=1.0;, score=0.963 total time=   6.5s\n",
      "[CV 2/3] END colsample_bytree=0.7, learning_rate=0.2, max_depth=3, n_estimators=200, subsample=1.0;, score=0.963 total time=   6.6s\n",
      "[CV 3/3] END colsample_bytree=0.7, learning_rate=0.2, max_depth=3, n_estimators=200, subsample=1.0;, score=0.963 total time=   6.5s\n",
      "[CV 1/3] END colsample_bytree=0.7, learning_rate=0.2, max_depth=3, n_estimators=300, subsample=0.8;, score=0.964 total time=  10.0s\n",
      "[CV 2/3] END colsample_bytree=0.7, learning_rate=0.2, max_depth=3, n_estimators=300, subsample=0.8;, score=0.964 total time=   9.9s\n",
      "[CV 3/3] END colsample_bytree=0.7, learning_rate=0.2, max_depth=3, n_estimators=300, subsample=0.8;, score=0.964 total time=  10.0s\n",
      "[CV 1/3] END colsample_bytree=0.7, learning_rate=0.2, max_depth=3, n_estimators=300, subsample=0.9;, score=0.964 total time=   9.8s\n",
      "[CV 2/3] END colsample_bytree=0.7, learning_rate=0.2, max_depth=3, n_estimators=300, subsample=0.9;, score=0.964 total time=  10.1s\n",
      "[CV 3/3] END colsample_bytree=0.7, learning_rate=0.2, max_depth=3, n_estimators=300, subsample=0.9;, score=0.963 total time=  10.1s\n",
      "[CV 1/3] END colsample_bytree=0.7, learning_rate=0.2, max_depth=3, n_estimators=300, subsample=1.0;, score=0.964 total time=   9.4s\n",
      "[CV 2/3] END colsample_bytree=0.7, learning_rate=0.2, max_depth=3, n_estimators=300, subsample=1.0;, score=0.963 total time=   9.2s\n",
      "[CV 3/3] END colsample_bytree=0.7, learning_rate=0.2, max_depth=3, n_estimators=300, subsample=1.0;, score=0.964 total time=   9.2s\n",
      "[CV 1/3] END colsample_bytree=0.7, learning_rate=0.2, max_depth=5, n_estimators=100, subsample=0.8;, score=0.964 total time=   5.3s\n",
      "[CV 2/3] END colsample_bytree=0.7, learning_rate=0.2, max_depth=5, n_estimators=100, subsample=0.8;, score=0.964 total time=   5.3s\n",
      "[CV 3/3] END colsample_bytree=0.7, learning_rate=0.2, max_depth=5, n_estimators=100, subsample=0.8;, score=0.964 total time=   5.6s\n",
      "[CV 1/3] END colsample_bytree=0.7, learning_rate=0.2, max_depth=5, n_estimators=100, subsample=0.9;, score=0.964 total time=   5.4s\n",
      "[CV 2/3] END colsample_bytree=0.7, learning_rate=0.2, max_depth=5, n_estimators=100, subsample=0.9;, score=0.964 total time=   5.3s\n",
      "[CV 3/3] END colsample_bytree=0.7, learning_rate=0.2, max_depth=5, n_estimators=100, subsample=0.9;, score=0.964 total time=   5.2s\n",
      "[CV 1/3] END colsample_bytree=0.7, learning_rate=0.2, max_depth=5, n_estimators=100, subsample=1.0;, score=0.964 total time=   5.0s\n",
      "[CV 2/3] END colsample_bytree=0.7, learning_rate=0.2, max_depth=5, n_estimators=100, subsample=1.0;, score=0.964 total time=   5.2s\n",
      "[CV 3/3] END colsample_bytree=0.7, learning_rate=0.2, max_depth=5, n_estimators=100, subsample=1.0;, score=0.964 total time=   5.4s\n",
      "[CV 1/3] END colsample_bytree=0.7, learning_rate=0.2, max_depth=5, n_estimators=200, subsample=0.8;, score=0.965 total time=   9.9s\n",
      "[CV 2/3] END colsample_bytree=0.7, learning_rate=0.2, max_depth=5, n_estimators=200, subsample=0.8;, score=0.964 total time=   9.6s\n",
      "[CV 3/3] END colsample_bytree=0.7, learning_rate=0.2, max_depth=5, n_estimators=200, subsample=0.8;, score=0.965 total time=   9.7s\n",
      "[CV 1/3] END colsample_bytree=0.7, learning_rate=0.2, max_depth=5, n_estimators=200, subsample=0.9;, score=0.965 total time=   9.3s\n",
      "[CV 2/3] END colsample_bytree=0.7, learning_rate=0.2, max_depth=5, n_estimators=200, subsample=0.9;, score=0.964 total time=   9.1s\n",
      "[CV 3/3] END colsample_bytree=0.7, learning_rate=0.2, max_depth=5, n_estimators=200, subsample=0.9;, score=0.965 total time=   9.3s\n",
      "[CV 1/3] END colsample_bytree=0.7, learning_rate=0.2, max_depth=5, n_estimators=200, subsample=1.0;, score=0.965 total time=   8.9s\n",
      "[CV 2/3] END colsample_bytree=0.7, learning_rate=0.2, max_depth=5, n_estimators=200, subsample=1.0;, score=0.964 total time=   8.9s\n",
      "[CV 3/3] END colsample_bytree=0.7, learning_rate=0.2, max_depth=5, n_estimators=200, subsample=1.0;, score=0.965 total time=   8.6s\n",
      "[CV 1/3] END colsample_bytree=0.7, learning_rate=0.2, max_depth=5, n_estimators=300, subsample=0.8;, score=0.965 total time=  13.5s\n",
      "[CV 2/3] END colsample_bytree=0.7, learning_rate=0.2, max_depth=5, n_estimators=300, subsample=0.8;, score=0.965 total time=  13.5s\n",
      "[CV 3/3] END colsample_bytree=0.7, learning_rate=0.2, max_depth=5, n_estimators=300, subsample=0.8;, score=0.965 total time=  13.3s\n",
      "[CV 1/3] END colsample_bytree=0.7, learning_rate=0.2, max_depth=5, n_estimators=300, subsample=0.9;, score=0.965 total time=  13.4s\n",
      "[CV 2/3] END colsample_bytree=0.7, learning_rate=0.2, max_depth=5, n_estimators=300, subsample=0.9;, score=0.965 total time=  13.3s\n",
      "[CV 3/3] END colsample_bytree=0.7, learning_rate=0.2, max_depth=5, n_estimators=300, subsample=0.9;, score=0.965 total time=  13.4s\n",
      "[CV 1/3] END colsample_bytree=0.7, learning_rate=0.2, max_depth=5, n_estimators=300, subsample=1.0;, score=0.965 total time=  12.5s\n",
      "[CV 2/3] END colsample_bytree=0.7, learning_rate=0.2, max_depth=5, n_estimators=300, subsample=1.0;, score=0.965 total time=  12.5s\n",
      "[CV 3/3] END colsample_bytree=0.7, learning_rate=0.2, max_depth=5, n_estimators=300, subsample=1.0;, score=0.965 total time=  12.3s\n",
      "[CV 1/3] END colsample_bytree=0.7, learning_rate=0.2, max_depth=7, n_estimators=100, subsample=0.8;, score=0.965 total time=   6.8s\n",
      "[CV 2/3] END colsample_bytree=0.7, learning_rate=0.2, max_depth=7, n_estimators=100, subsample=0.8;, score=0.965 total time=   6.6s\n",
      "[CV 3/3] END colsample_bytree=0.7, learning_rate=0.2, max_depth=7, n_estimators=100, subsample=0.8;, score=0.965 total time=   6.7s\n",
      "[CV 1/3] END colsample_bytree=0.7, learning_rate=0.2, max_depth=7, n_estimators=100, subsample=0.9;, score=0.965 total time=   6.6s\n",
      "[CV 2/3] END colsample_bytree=0.7, learning_rate=0.2, max_depth=7, n_estimators=100, subsample=0.9;, score=0.965 total time=   6.8s\n",
      "[CV 3/3] END colsample_bytree=0.7, learning_rate=0.2, max_depth=7, n_estimators=100, subsample=0.9;, score=0.965 total time=   6.5s\n",
      "[CV 1/3] END colsample_bytree=0.7, learning_rate=0.2, max_depth=7, n_estimators=100, subsample=1.0;, score=0.965 total time=   6.4s\n",
      "[CV 2/3] END colsample_bytree=0.7, learning_rate=0.2, max_depth=7, n_estimators=100, subsample=1.0;, score=0.965 total time=   6.5s\n",
      "[CV 3/3] END colsample_bytree=0.7, learning_rate=0.2, max_depth=7, n_estimators=100, subsample=1.0;, score=0.965 total time=   6.4s\n",
      "[CV 1/3] END colsample_bytree=0.7, learning_rate=0.2, max_depth=7, n_estimators=200, subsample=0.8;, score=0.965 total time=  12.0s\n",
      "[CV 2/3] END colsample_bytree=0.7, learning_rate=0.2, max_depth=7, n_estimators=200, subsample=0.8;, score=0.965 total time=  12.0s\n",
      "[CV 3/3] END colsample_bytree=0.7, learning_rate=0.2, max_depth=7, n_estimators=200, subsample=0.8;, score=0.965 total time=  12.1s\n",
      "[CV 1/3] END colsample_bytree=0.7, learning_rate=0.2, max_depth=7, n_estimators=200, subsample=0.9;, score=0.965 total time=  11.9s\n",
      "[CV 2/3] END colsample_bytree=0.7, learning_rate=0.2, max_depth=7, n_estimators=200, subsample=0.9;, score=0.965 total time=  11.6s\n",
      "[CV 3/3] END colsample_bytree=0.7, learning_rate=0.2, max_depth=7, n_estimators=200, subsample=0.9;, score=0.965 total time=  11.7s\n",
      "[CV 1/3] END colsample_bytree=0.7, learning_rate=0.2, max_depth=7, n_estimators=200, subsample=1.0;, score=0.965 total time=  11.1s\n",
      "[CV 2/3] END colsample_bytree=0.7, learning_rate=0.2, max_depth=7, n_estimators=200, subsample=1.0;, score=0.965 total time=  11.1s\n",
      "[CV 3/3] END colsample_bytree=0.7, learning_rate=0.2, max_depth=7, n_estimators=200, subsample=1.0;, score=0.965 total time=  11.2s\n",
      "[CV 1/3] END colsample_bytree=0.7, learning_rate=0.2, max_depth=7, n_estimators=300, subsample=0.8;, score=0.965 total time=  17.5s\n",
      "[CV 2/3] END colsample_bytree=0.7, learning_rate=0.2, max_depth=7, n_estimators=300, subsample=0.8;, score=0.965 total time=  17.3s\n",
      "[CV 3/3] END colsample_bytree=0.7, learning_rate=0.2, max_depth=7, n_estimators=300, subsample=0.8;, score=0.965 total time=  17.3s\n",
      "[CV 1/3] END colsample_bytree=0.7, learning_rate=0.2, max_depth=7, n_estimators=300, subsample=0.9;, score=0.965 total time=  17.1s\n",
      "[CV 2/3] END colsample_bytree=0.7, learning_rate=0.2, max_depth=7, n_estimators=300, subsample=0.9;, score=0.965 total time=  17.0s\n",
      "[CV 3/3] END colsample_bytree=0.7, learning_rate=0.2, max_depth=7, n_estimators=300, subsample=0.9;, score=0.965 total time=  17.3s\n",
      "[CV 1/3] END colsample_bytree=0.7, learning_rate=0.2, max_depth=7, n_estimators=300, subsample=1.0;, score=0.965 total time=  15.8s\n",
      "[CV 2/3] END colsample_bytree=0.7, learning_rate=0.2, max_depth=7, n_estimators=300, subsample=1.0;, score=0.965 total time=  16.4s\n",
      "[CV 3/3] END colsample_bytree=0.7, learning_rate=0.2, max_depth=7, n_estimators=300, subsample=1.0;, score=0.965 total time=  16.0s\n"
     ]
    }
   ],
   "source": [
    "import pandas as pd\n",
    "import xgboost as xgb\n",
    "from sklearn.model_selection import train_test_split\n",
    "from sklearn.metrics import accuracy_score, classification_report, confusion_matrix\n",
    "from sklearn.impute import SimpleImputer\n",
    "from sklearn.preprocessing import OneHotEncoder, LabelEncoder\n",
    "from sklearn.model_selection import train_test_split, GridSearchCV\n",
    "\n",
    "# 划分特征和目标变量\n",
    "X1 = selected_data\n",
    "y1 = eastmoney['viral']\n",
    "\n",
    "# 划分训练集和测试集\n",
    "X1_train, X1_test, y1_train, y1_test = train_test_split(X1, y1, test_size=0.3, random_state=42)\n",
    "\n",
    "# 初始化分类器\n",
    "model1 = xgb.XGBClassifier()\n",
    "\n",
    "# 参数网格\n",
    "param_grid = {\n",
    "    'max_depth': [3, 5, 7],\n",
    "    'learning_rate': [0.01, 0.1, 0.2],\n",
    "    'n_estimators': [100, 200, 300],\n",
    "    'subsample': [0.8, 0.9, 1.0],\n",
    "    'colsample_bytree': [0.3, 0.5, 0.7]\n",
    "    }\n",
    "\n",
    "# 设置GridSearchCV\n",
    "grid_search = GridSearchCV(model1, param_grid, scoring='accuracy', cv=3, verbose=3)\n",
    "grid_search.fit(X1_train, y1_train)\n",
    "\n",
    "# 使用最佳参数的模型\n",
    "best_model = grid_search.best_estimator_\n",
    "\n",
    "# 建立XGBoost模型\n",
    "# 从GridSearchCV获得最佳参数设置\n",
    "model1 = xgb.XGBClassifier(\n",
    "    learning_rate=best_model.learning_rate,\n",
    "    n_estimators=best_model.n_estimators,\n",
    "    max_depth= best_model.max_depth,\n",
    "    subsample=best_model.subsample,\n",
    "    colsample_bytree=best_model.colsample_bytree\n",
    "    )\n",
    "model1.fit(X1_train, y1_train)\n",
    "\n",
    "# 预测\n",
    "y1_pred = model1.predict(X1_test)"
   ]
  },
  {
   "cell_type": "code",
   "execution_count": 9,
   "metadata": {
    "colab": {
     "base_uri": "https://localhost:8080/"
    },
    "id": "jendT_z7NFt-",
    "outputId": "be5ceacb-6611-4ef3-b0c8-5cb007d102b2"
   },
   "outputs": [
    {
     "name": "stdout",
     "output_type": "stream",
     "text": [
      "Classification Report:\n",
      "               precision    recall  f1-score   support\n",
      "\n",
      "         0.0       0.98      0.99      0.98   1886055\n",
      "         1.0       0.69      0.50      0.58     95054\n",
      "\n",
      "    accuracy                           0.97   1981109\n",
      "   macro avg       0.83      0.75      0.78   1981109\n",
      "weighted avg       0.96      0.97      0.96   1981109\n",
      "\n",
      "Confusion Matrix:\n",
      " [[1864553   21502]\n",
      " [  47089   47965]]\n"
     ]
    }
   ],
   "source": [
    "# 评估\n",
    "print(\"Classification Report:\\n\", classification_report(y1_test, y1_pred))\n",
    "conf_matrix = confusion_matrix(y1_test, y1_pred)\n",
    "print(\"Confusion Matrix:\\n\", conf_matrix)"
   ]
  },
  {
   "cell_type": "markdown",
   "metadata": {
    "id": "KOQC5mGwNjaM"
   },
   "source": [
    "Feature Importance"
   ]
  },
  {
   "cell_type": "code",
   "execution_count": null,
   "metadata": {
    "colab": {
     "base_uri": "https://localhost:8080/"
    },
    "id": "iDljE9io3nPE",
    "outputId": "7694cab6-0852-4fdb-9f36-85b4420ad376"
   },
   "outputs": [
    {
     "name": "stdout",
     "output_type": "stream",
     "text": [
      "Feature importances:\n",
      " [('eastmoney_robo_journalism', 0.28605458), ('dominant_topic', 0.25442684), ('article_source_cate', 0.14622656), ('SMA_robo_journalism', 0.12381081), ('media_robo_journalism', 0.0749477), ('exclamation_mark', 0.03831342), ('colon_mark', 0.031960607), ('article_author', 0.022018924), ('month', 0.009027952), ('question_mark', 0.008393501), ('sentiment_score', 0.004819168)]\n"
     ]
    }
   ],
   "source": [
    "# 获取特征的重要性\n",
    "feature_importance = model1.feature_importances_\n",
    "\n",
    "# 将特征重要性与特征名称进行配对，并排序\n",
    "feature_importance_dict = dict(zip(X1.columns, feature_importance))\n",
    "sorted_feature_importance = sorted(feature_importance_dict.items(), key=lambda x: x[1], reverse=True)\n",
    "\n",
    "# 打印特征重要性\n",
    "print(\"Feature importances:\\n\", sorted_feature_importance)"
   ]
  },
  {
   "cell_type": "markdown",
   "metadata": {
    "id": "TkxU6OZiuq2-"
   },
   "source": [
    "## Random Forest"
   ]
  },
  {
   "cell_type": "markdown",
   "metadata": {
    "id": "PHBdohdxNwjR"
   },
   "source": [
    "Due to network issues, the process of choosing best hyparameters was run in three separate runs."
   ]
  },
  {
   "cell_type": "code",
   "execution_count": null,
   "metadata": {
    "colab": {
     "base_uri": "https://localhost:8080/"
    },
    "id": "4508Ce0aev-i",
    "outputId": "ca5afeab-592e-46ce-e523-4d649569b219"
   },
   "outputs": [
    {
     "name": "stdout",
     "output_type": "stream",
     "text": [
      "Testing 50 trees with max depth of 10. Mean CV Accuracy: 0.9609995441473013\n",
      "Testing 80 trees with max depth of 10. Mean CV Accuracy: 0.9608366483388011\n",
      "Testing 100 trees with max depth of 10. Mean CV Accuracy: 0.9609056573044837\n",
      "Testing 150 trees with max depth of 10. Mean CV Accuracy: 0.9610417283783352\n",
      "Testing 200 trees with max depth of 10. Mean CV Accuracy: 0.9611682808418918\n",
      "Testing 50 trees with max depth of 20. Mean CV Accuracy: 0.9645174877188216\n",
      "Testing 80 trees with max depth of 20. Mean CV Accuracy: 0.9645678924000126\n",
      "Testing 100 trees with max depth of 20. Mean CV Accuracy: 0.9645996927562314\n",
      "Testing 150 trees with max depth of 20. Mean CV Accuracy: 0.9646053173199325\n"
     ]
    }
   ],
   "source": [
    "from sklearn.ensemble import RandomForestClassifier\n",
    "from sklearn.model_selection import train_test_split, cross_val_score\n",
    "from sklearn.metrics import classification_report, confusion_matrix\n",
    "import numpy as np\n",
    "\n",
    "# 数据准备\n",
    "X3 = selected_data\n",
    "y3 = eastmoney['viral']\n",
    "\n",
    "# 划分训练集和测试集\n",
    "X3_train, X3_test, y3_train, y3_test = train_test_split(X3, y3, test_size=0.3, random_state=42)\n",
    "\n",
    "# 参数范围设置\n",
    "max_depth_options = [10, 20]\n",
    "n_estimators_options = [50, 80, 100, 150, 200]\n",
    "\n",
    "best_score = 0\n",
    "best_params = {'max_depth': None, 'n_estimators': 100}\n",
    "\n",
    "for max_depth in max_depth_options:\n",
    "    for n_estimators in n_estimators_options:\n",
    "        # 初始化随机森林分类器\n",
    "        model = RandomForestClassifier(max_depth=max_depth, n_estimators=n_estimators, random_state=42)\n",
    "\n",
    "        # 使用交叉验证计算评分\n",
    "        scores = cross_val_score(model, X3_train, y3_train, cv=5, scoring='accuracy')\n",
    "        average_score = np.mean(scores)\n",
    "\n",
    "        print(f\"Testing {n_estimators} trees with max depth of {max_depth}. Mean CV Accuracy: {average_score}\")\n",
    "\n",
    "        # 检查并更新最佳得分和参数\n",
    "        if average_score > best_score:\n",
    "            best_score = average_score\n",
    "            best_params = {'max_depth': max_depth, 'n_estimators': n_estimators}"
   ]
  },
  {
   "cell_type": "code",
   "execution_count": null,
   "metadata": {
    "colab": {
     "base_uri": "https://localhost:8080/"
    },
    "id": "Cw5bSbr-uBG-",
    "outputId": "6086f816-777c-4db9-d3fc-82c391d17ac2"
   },
   "outputs": [
    {
     "name": "stdout",
     "output_type": "stream",
     "text": [
      "Testing 50 trees with max depth of 30. Mean CV Accuracy: 0.9602871725386375\n",
      "Testing 80 trees with max depth of 30. Mean CV Accuracy: 0.9603044788586083\n"
     ]
    }
   ],
   "source": [
    "from sklearn.ensemble import RandomForestClassifier\n",
    "from sklearn.model_selection import train_test_split, cross_val_score\n",
    "from sklearn.metrics import classification_report, confusion_matrix\n",
    "import numpy as np\n",
    "\n",
    "# 数据准备\n",
    "X3 = selected_data\n",
    "y3 = eastmoney['viral']\n",
    "\n",
    "# 划分训练集和测试集\n",
    "X3_train, X3_test, y3_train, y3_test = train_test_split(X3, y3, test_size=0.3, random_state=42)\n",
    "\n",
    "# 参数范围设置\n",
    "max_depth_options = 30\n",
    "n_estimators_options = [50, 80, 100, 150]\n",
    "\n",
    "best_score = 0\n",
    "best_params = {'max_depth': None, 'n_estimators': 100}\n",
    "\n",
    "for n_estimators in n_estimators_options:\n",
    "    # 初始化随机森林分类器\n",
    "    model = RandomForestClassifier(max_depth=30, n_estimators=n_estimators, random_state=42)\n",
    "\n",
    "    # 使用交叉验证计算评分\n",
    "    scores = cross_val_score(model, X3_train, y3_train, cv=5, scoring='accuracy')\n",
    "    average_score = np.mean(scores)\n",
    "\n",
    "    print(f\"Testing {n_estimators} trees with max depth of 30. Mean CV Accuracy: {average_score}\")"
   ]
  },
  {
   "cell_type": "code",
   "execution_count": null,
   "metadata": {
    "colab": {
     "base_uri": "https://localhost:8080/"
    },
    "id": "ZmcqSzbzjFS1",
    "outputId": "f487b6a4-b7ae-4039-e021-974204c8100f"
   },
   "outputs": [
    {
     "name": "stdout",
     "output_type": "stream",
     "text": [
      "Testing 100 trees with max depth of 30. Mean CV Accuracy: 0.9603362792253567\n",
      "Testing 150 trees with max depth of 30. Mean CV Accuracy: 0.9603241647952935\n"
     ]
    }
   ],
   "source": [
    "from sklearn.ensemble import RandomForestClassifier\n",
    "from sklearn.model_selection import train_test_split, cross_val_score\n",
    "from sklearn.metrics import classification_report, confusion_matrix\n",
    "import numpy as np\n",
    "\n",
    "X3 = selected_data\n",
    "y3 = eastmoney['viral']\n",
    "\n",
    "# 划分训练集和测试集\n",
    "X3_train, X3_test, y3_train, y3_test = train_test_split(X3, y3, test_size=0.3, random_state=42)\n",
    "\n",
    "# 参数范围设置\n",
    "max_depth_options = 30\n",
    "n_estimators_options = [100, 150]\n",
    "\n",
    "best_score = 0\n",
    "best_params = {'max_depth': None, 'n_estimators': 100}\n",
    "\n",
    "for n_estimators in n_estimators_options:\n",
    "    # 初始化随机森林分类器\n",
    "    model = RandomForestClassifier(max_depth=30, n_estimators=n_estimators, random_state=42)\n",
    "\n",
    "    # 使用交叉验证计算评分\n",
    "    scores = cross_val_score(model, X3_train, y3_train, cv=5, scoring='accuracy')\n",
    "    average_score = np.mean(scores)\n",
    "\n",
    "    print(f\"Testing {n_estimators} trees with max depth of 30. Mean CV Accuracy: {average_score}\")"
   ]
  },
  {
   "cell_type": "code",
   "execution_count": null,
   "metadata": {
    "colab": {
     "base_uri": "https://localhost:8080/"
    },
    "id": "heYus-N7nVWo",
    "outputId": "4f30de63-75e2-4325-e004-6266f5f6fc18"
   },
   "outputs": [
    {
     "name": "stdout",
     "output_type": "stream",
     "text": [
      "Classification Report:\n",
      "               precision    recall  f1-score   support\n",
      "\n",
      "         0.0       0.97      0.99      0.98   1886055\n",
      "         1.0       0.70      0.46      0.56     95054\n",
      "\n",
      "    accuracy                           0.96   1981109\n",
      "   macro avg       0.84      0.73      0.77   1981109\n",
      "weighted avg       0.96      0.96      0.96   1981109\n",
      "\n",
      "Confusion Matrix:\n",
      " [[1866855   19200]\n",
      " [  50934   44120]]\n"
     ]
    }
   ],
   "source": [
    "# 使用最佳参数训练模型\n",
    "best_model = RandomForestClassifier(max_depth=20, n_estimators=80, random_state=42)\n",
    "best_model.fit(X3_train, y3_train)\n",
    "y3_pred = best_model.predict(X3_test)\n",
    "\n",
    "# 评估\n",
    "print(\"Classification Report:\\n\", classification_report(y3_test, y3_pred))\n",
    "conf_matrix = confusion_matrix(y3_test, y3_pred)\n",
    "print(\"Confusion Matrix:\\n\", conf_matrix)"
   ]
  },
  {
   "cell_type": "code",
   "execution_count": null,
   "metadata": {
    "colab": {
     "base_uri": "https://localhost:8080/"
    },
    "id": "oAnSNvrUfGYM",
    "outputId": "3cab5283-40ff-4b6d-8941-c50afca8ce62"
   },
   "outputs": [
    {
     "name": "stdout",
     "output_type": "stream",
     "text": [
      "Feature importances:\n",
      " [('article_source_cate', 0.41732270291966256), ('sentiment_score', 0.12940403496400923), ('dominant_topic', 0.12905900539845616), ('article_author', 0.07496864730387429), ('SMA_robo_journalism', 0.05873889168302253), ('media_robo_journalism', 0.050267501669162495), ('month', 0.049556268619000206), ('colon_mark', 0.036353485346739024), ('eastmoney_robo_journalism', 0.03463149453425724), ('exclamation_mark', 0.014866902239271038), ('question_mark', 0.004831065322545256)]\n"
     ]
    }
   ],
   "source": [
    "# 获取特征的重要性\n",
    "feature_importance = best_model.feature_importances_\n",
    "\n",
    "# 将特征重要性与特征名称进行配对，并排序\n",
    "feature_importance_dict = dict(zip(X3.columns, feature_importance))\n",
    "sorted_feature_importance = sorted(feature_importance_dict.items(), key=lambda x: x[1], reverse=True)\n",
    "\n",
    "print(\"Feature importances:\\n\", sorted_feature_importance)"
   ]
  },
  {
   "cell_type": "markdown",
   "metadata": {
    "id": "apgEzYA3BH0i"
   },
   "source": [
    "## Logistic Regression"
   ]
  },
  {
   "cell_type": "markdown",
   "metadata": {
    "id": "4dp41YRT7SJQ"
   },
   "source": [
    "Add class weights"
   ]
  },
  {
   "cell_type": "code",
   "execution_count": null,
   "metadata": {
    "colab": {
     "base_uri": "https://localhost:8080/"
    },
    "id": "KJEIaLrNBNFA",
    "outputId": "c5652f5c-bec4-45f2-82a8-6035d68afcf2"
   },
   "outputs": [
    {
     "name": "stderr",
     "output_type": "stream",
     "text": [
      "/usr/local/lib/python3.10/dist-packages/sklearn/linear_model/_logistic.py:458: ConvergenceWarning: lbfgs failed to converge (status=1):\n",
      "STOP: TOTAL NO. of ITERATIONS REACHED LIMIT.\n",
      "\n",
      "Increase the number of iterations (max_iter) or scale the data as shown in:\n",
      "    https://scikit-learn.org/stable/modules/preprocessing.html\n",
      "Please also refer to the documentation for alternative solver options:\n",
      "    https://scikit-learn.org/stable/modules/linear_model.html#logistic-regression\n",
      "  n_iter_i = _check_optimize_result(\n",
      "/usr/local/lib/python3.10/dist-packages/sklearn/linear_model/_logistic.py:458: ConvergenceWarning: lbfgs failed to converge (status=1):\n",
      "STOP: TOTAL NO. of ITERATIONS REACHED LIMIT.\n",
      "\n",
      "Increase the number of iterations (max_iter) or scale the data as shown in:\n",
      "    https://scikit-learn.org/stable/modules/preprocessing.html\n",
      "Please also refer to the documentation for alternative solver options:\n",
      "    https://scikit-learn.org/stable/modules/linear_model.html#logistic-regression\n",
      "  n_iter_i = _check_optimize_result(\n"
     ]
    },
    {
     "name": "stdout",
     "output_type": "stream",
     "text": [
      "Fitting 3 folds for each of 20 candidates, totalling 60 fits\n",
      "[CV 1/3] END C=9.999999999999999e-05, penalty=l2, solver=liblinear;, score=0.851 total time=  15.7s\n",
      "[CV 2/3] END C=9.999999999999999e-05, penalty=l2, solver=liblinear;, score=0.850 total time=  15.7s\n",
      "[CV 3/3] END C=9.999999999999999e-05, penalty=l2, solver=liblinear;, score=0.850 total time=  15.7s\n"
     ]
    },
    {
     "name": "stderr",
     "output_type": "stream",
     "text": [
      "/usr/local/lib/python3.10/dist-packages/sklearn/linear_model/_logistic.py:458: ConvergenceWarning: lbfgs failed to converge (status=1):\n",
      "STOP: TOTAL NO. of ITERATIONS REACHED LIMIT.\n",
      "\n",
      "Increase the number of iterations (max_iter) or scale the data as shown in:\n",
      "    https://scikit-learn.org/stable/modules/preprocessing.html\n",
      "Please also refer to the documentation for alternative solver options:\n",
      "    https://scikit-learn.org/stable/modules/linear_model.html#logistic-regression\n",
      "  n_iter_i = _check_optimize_result(\n"
     ]
    },
    {
     "name": "stdout",
     "output_type": "stream",
     "text": [
      "[CV 1/3] END C=9.999999999999999e-05, penalty=l2, solver=lbfgs;, score=0.838 total time=  21.0s\n"
     ]
    },
    {
     "name": "stderr",
     "output_type": "stream",
     "text": [
      "/usr/local/lib/python3.10/dist-packages/sklearn/linear_model/_logistic.py:458: ConvergenceWarning: lbfgs failed to converge (status=1):\n",
      "STOP: TOTAL NO. of ITERATIONS REACHED LIMIT.\n",
      "\n",
      "Increase the number of iterations (max_iter) or scale the data as shown in:\n",
      "    https://scikit-learn.org/stable/modules/preprocessing.html\n",
      "Please also refer to the documentation for alternative solver options:\n",
      "    https://scikit-learn.org/stable/modules/linear_model.html#logistic-regression\n",
      "  n_iter_i = _check_optimize_result(\n"
     ]
    },
    {
     "name": "stdout",
     "output_type": "stream",
     "text": [
      "[CV 2/3] END C=9.999999999999999e-05, penalty=l2, solver=lbfgs;, score=0.838 total time=  21.9s\n"
     ]
    },
    {
     "name": "stderr",
     "output_type": "stream",
     "text": [
      "/usr/local/lib/python3.10/dist-packages/sklearn/linear_model/_logistic.py:458: ConvergenceWarning: lbfgs failed to converge (status=1):\n",
      "STOP: TOTAL NO. of ITERATIONS REACHED LIMIT.\n",
      "\n",
      "Increase the number of iterations (max_iter) or scale the data as shown in:\n",
      "    https://scikit-learn.org/stable/modules/preprocessing.html\n",
      "Please also refer to the documentation for alternative solver options:\n",
      "    https://scikit-learn.org/stable/modules/linear_model.html#logistic-regression\n",
      "  n_iter_i = _check_optimize_result(\n"
     ]
    },
    {
     "name": "stdout",
     "output_type": "stream",
     "text": [
      "[CV 3/3] END C=9.999999999999999e-05, penalty=l2, solver=lbfgs;, score=0.837 total time=  20.3s\n",
      "[CV 1/3] END C=0.000774263682681127, penalty=l2, solver=liblinear;, score=0.853 total time=  16.2s\n",
      "[CV 2/3] END C=0.000774263682681127, penalty=l2, solver=liblinear;, score=0.853 total time=  16.6s\n",
      "[CV 3/3] END C=0.000774263682681127, penalty=l2, solver=liblinear;, score=0.853 total time=  16.6s\n"
     ]
    },
    {
     "name": "stderr",
     "output_type": "stream",
     "text": [
      "/usr/local/lib/python3.10/dist-packages/sklearn/linear_model/_logistic.py:458: ConvergenceWarning: lbfgs failed to converge (status=1):\n",
      "STOP: TOTAL NO. of ITERATIONS REACHED LIMIT.\n",
      "\n",
      "Increase the number of iterations (max_iter) or scale the data as shown in:\n",
      "    https://scikit-learn.org/stable/modules/preprocessing.html\n",
      "Please also refer to the documentation for alternative solver options:\n",
      "    https://scikit-learn.org/stable/modules/linear_model.html#logistic-regression\n",
      "  n_iter_i = _check_optimize_result(\n"
     ]
    },
    {
     "name": "stdout",
     "output_type": "stream",
     "text": [
      "[CV 1/3] END C=0.000774263682681127, penalty=l2, solver=lbfgs;, score=0.839 total time=  22.4s\n"
     ]
    },
    {
     "name": "stderr",
     "output_type": "stream",
     "text": [
      "/usr/local/lib/python3.10/dist-packages/sklearn/linear_model/_logistic.py:458: ConvergenceWarning: lbfgs failed to converge (status=1):\n",
      "STOP: TOTAL NO. of ITERATIONS REACHED LIMIT.\n",
      "\n",
      "Increase the number of iterations (max_iter) or scale the data as shown in:\n",
      "    https://scikit-learn.org/stable/modules/preprocessing.html\n",
      "Please also refer to the documentation for alternative solver options:\n",
      "    https://scikit-learn.org/stable/modules/linear_model.html#logistic-regression\n",
      "  n_iter_i = _check_optimize_result(\n"
     ]
    },
    {
     "name": "stdout",
     "output_type": "stream",
     "text": [
      "[CV 2/3] END C=0.000774263682681127, penalty=l2, solver=lbfgs;, score=0.839 total time=  21.9s\n"
     ]
    },
    {
     "name": "stderr",
     "output_type": "stream",
     "text": [
      "/usr/local/lib/python3.10/dist-packages/sklearn/linear_model/_logistic.py:458: ConvergenceWarning: lbfgs failed to converge (status=1):\n",
      "STOP: TOTAL NO. of ITERATIONS REACHED LIMIT.\n",
      "\n",
      "Increase the number of iterations (max_iter) or scale the data as shown in:\n",
      "    https://scikit-learn.org/stable/modules/preprocessing.html\n",
      "Please also refer to the documentation for alternative solver options:\n",
      "    https://scikit-learn.org/stable/modules/linear_model.html#logistic-regression\n",
      "  n_iter_i = _check_optimize_result(\n"
     ]
    },
    {
     "name": "stdout",
     "output_type": "stream",
     "text": [
      "[CV 3/3] END C=0.000774263682681127, penalty=l2, solver=lbfgs;, score=0.825 total time=  20.7s\n",
      "[CV 1/3] END C=0.005994842503189409, penalty=l2, solver=liblinear;, score=0.852 total time=  16.3s\n",
      "[CV 2/3] END C=0.005994842503189409, penalty=l2, solver=liblinear;, score=0.852 total time=  15.9s\n",
      "[CV 3/3] END C=0.005994842503189409, penalty=l2, solver=liblinear;, score=0.852 total time=  16.3s\n"
     ]
    },
    {
     "name": "stderr",
     "output_type": "stream",
     "text": [
      "/usr/local/lib/python3.10/dist-packages/sklearn/linear_model/_logistic.py:458: ConvergenceWarning: lbfgs failed to converge (status=1):\n",
      "STOP: TOTAL NO. of ITERATIONS REACHED LIMIT.\n",
      "\n",
      "Increase the number of iterations (max_iter) or scale the data as shown in:\n",
      "    https://scikit-learn.org/stable/modules/preprocessing.html\n",
      "Please also refer to the documentation for alternative solver options:\n",
      "    https://scikit-learn.org/stable/modules/linear_model.html#logistic-regression\n",
      "  n_iter_i = _check_optimize_result(\n"
     ]
    },
    {
     "name": "stdout",
     "output_type": "stream",
     "text": [
      "[CV 1/3] END C=0.005994842503189409, penalty=l2, solver=lbfgs;, score=0.839 total time=  20.8s\n"
     ]
    },
    {
     "name": "stderr",
     "output_type": "stream",
     "text": [
      "/usr/local/lib/python3.10/dist-packages/sklearn/linear_model/_logistic.py:458: ConvergenceWarning: lbfgs failed to converge (status=1):\n",
      "STOP: TOTAL NO. of ITERATIONS REACHED LIMIT.\n",
      "\n",
      "Increase the number of iterations (max_iter) or scale the data as shown in:\n",
      "    https://scikit-learn.org/stable/modules/preprocessing.html\n",
      "Please also refer to the documentation for alternative solver options:\n",
      "    https://scikit-learn.org/stable/modules/linear_model.html#logistic-regression\n",
      "  n_iter_i = _check_optimize_result(\n"
     ]
    },
    {
     "name": "stdout",
     "output_type": "stream",
     "text": [
      "[CV 2/3] END C=0.005994842503189409, penalty=l2, solver=lbfgs;, score=0.839 total time=  22.0s\n"
     ]
    },
    {
     "name": "stderr",
     "output_type": "stream",
     "text": [
      "/usr/local/lib/python3.10/dist-packages/sklearn/linear_model/_logistic.py:458: ConvergenceWarning: lbfgs failed to converge (status=1):\n",
      "STOP: TOTAL NO. of ITERATIONS REACHED LIMIT.\n",
      "\n",
      "Increase the number of iterations (max_iter) or scale the data as shown in:\n",
      "    https://scikit-learn.org/stable/modules/preprocessing.html\n",
      "Please also refer to the documentation for alternative solver options:\n",
      "    https://scikit-learn.org/stable/modules/linear_model.html#logistic-regression\n",
      "  n_iter_i = _check_optimize_result(\n"
     ]
    },
    {
     "name": "stdout",
     "output_type": "stream",
     "text": [
      "[CV 3/3] END C=0.005994842503189409, penalty=l2, solver=lbfgs;, score=0.838 total time=  21.1s\n",
      "[CV 1/3] END C=0.046415888336127774, penalty=l2, solver=liblinear;, score=0.852 total time=  16.3s\n",
      "[CV 2/3] END C=0.046415888336127774, penalty=l2, solver=liblinear;, score=0.852 total time=  15.9s\n",
      "[CV 3/3] END C=0.046415888336127774, penalty=l2, solver=liblinear;, score=0.852 total time=  16.6s\n"
     ]
    },
    {
     "name": "stderr",
     "output_type": "stream",
     "text": [
      "/usr/local/lib/python3.10/dist-packages/sklearn/linear_model/_logistic.py:458: ConvergenceWarning: lbfgs failed to converge (status=1):\n",
      "STOP: TOTAL NO. of ITERATIONS REACHED LIMIT.\n",
      "\n",
      "Increase the number of iterations (max_iter) or scale the data as shown in:\n",
      "    https://scikit-learn.org/stable/modules/preprocessing.html\n",
      "Please also refer to the documentation for alternative solver options:\n",
      "    https://scikit-learn.org/stable/modules/linear_model.html#logistic-regression\n",
      "  n_iter_i = _check_optimize_result(\n"
     ]
    },
    {
     "name": "stdout",
     "output_type": "stream",
     "text": [
      "[CV 1/3] END C=0.046415888336127774, penalty=l2, solver=lbfgs;, score=0.839 total time=  21.6s\n"
     ]
    },
    {
     "name": "stderr",
     "output_type": "stream",
     "text": [
      "/usr/local/lib/python3.10/dist-packages/sklearn/linear_model/_logistic.py:458: ConvergenceWarning: lbfgs failed to converge (status=1):\n",
      "STOP: TOTAL NO. of ITERATIONS REACHED LIMIT.\n",
      "\n",
      "Increase the number of iterations (max_iter) or scale the data as shown in:\n",
      "    https://scikit-learn.org/stable/modules/preprocessing.html\n",
      "Please also refer to the documentation for alternative solver options:\n",
      "    https://scikit-learn.org/stable/modules/linear_model.html#logistic-regression\n",
      "  n_iter_i = _check_optimize_result(\n"
     ]
    },
    {
     "name": "stdout",
     "output_type": "stream",
     "text": [
      "[CV 2/3] END C=0.046415888336127774, penalty=l2, solver=lbfgs;, score=0.831 total time=  20.8s\n"
     ]
    },
    {
     "name": "stderr",
     "output_type": "stream",
     "text": [
      "/usr/local/lib/python3.10/dist-packages/sklearn/linear_model/_logistic.py:458: ConvergenceWarning: lbfgs failed to converge (status=1):\n",
      "STOP: TOTAL NO. of ITERATIONS REACHED LIMIT.\n",
      "\n",
      "Increase the number of iterations (max_iter) or scale the data as shown in:\n",
      "    https://scikit-learn.org/stable/modules/preprocessing.html\n",
      "Please also refer to the documentation for alternative solver options:\n",
      "    https://scikit-learn.org/stable/modules/linear_model.html#logistic-regression\n",
      "  n_iter_i = _check_optimize_result(\n"
     ]
    },
    {
     "name": "stdout",
     "output_type": "stream",
     "text": [
      "[CV 3/3] END C=0.046415888336127774, penalty=l2, solver=lbfgs;, score=0.838 total time=  20.1s\n",
      "[CV 1/3] END C=0.3593813663804626, penalty=l2, solver=liblinear;, score=0.852 total time=  16.6s\n",
      "[CV 2/3] END C=0.3593813663804626, penalty=l2, solver=liblinear;, score=0.852 total time=  15.7s\n",
      "[CV 3/3] END C=0.3593813663804626, penalty=l2, solver=liblinear;, score=0.852 total time=  16.1s\n"
     ]
    },
    {
     "name": "stderr",
     "output_type": "stream",
     "text": [
      "/usr/local/lib/python3.10/dist-packages/sklearn/linear_model/_logistic.py:458: ConvergenceWarning: lbfgs failed to converge (status=1):\n",
      "STOP: TOTAL NO. of ITERATIONS REACHED LIMIT.\n",
      "\n",
      "Increase the number of iterations (max_iter) or scale the data as shown in:\n",
      "    https://scikit-learn.org/stable/modules/preprocessing.html\n",
      "Please also refer to the documentation for alternative solver options:\n",
      "    https://scikit-learn.org/stable/modules/linear_model.html#logistic-regression\n",
      "  n_iter_i = _check_optimize_result(\n"
     ]
    },
    {
     "name": "stdout",
     "output_type": "stream",
     "text": [
      "[CV 1/3] END C=0.3593813663804626, penalty=l2, solver=lbfgs;, score=0.839 total time=  19.8s\n"
     ]
    },
    {
     "name": "stderr",
     "output_type": "stream",
     "text": [
      "/usr/local/lib/python3.10/dist-packages/sklearn/linear_model/_logistic.py:458: ConvergenceWarning: lbfgs failed to converge (status=1):\n",
      "STOP: TOTAL NO. of ITERATIONS REACHED LIMIT.\n",
      "\n",
      "Increase the number of iterations (max_iter) or scale the data as shown in:\n",
      "    https://scikit-learn.org/stable/modules/preprocessing.html\n",
      "Please also refer to the documentation for alternative solver options:\n",
      "    https://scikit-learn.org/stable/modules/linear_model.html#logistic-regression\n",
      "  n_iter_i = _check_optimize_result(\n"
     ]
    },
    {
     "name": "stdout",
     "output_type": "stream",
     "text": [
      "[CV 2/3] END C=0.3593813663804626, penalty=l2, solver=lbfgs;, score=0.839 total time=  21.5s\n"
     ]
    },
    {
     "name": "stderr",
     "output_type": "stream",
     "text": [
      "/usr/local/lib/python3.10/dist-packages/sklearn/linear_model/_logistic.py:458: ConvergenceWarning: lbfgs failed to converge (status=1):\n",
      "STOP: TOTAL NO. of ITERATIONS REACHED LIMIT.\n",
      "\n",
      "Increase the number of iterations (max_iter) or scale the data as shown in:\n",
      "    https://scikit-learn.org/stable/modules/preprocessing.html\n",
      "Please also refer to the documentation for alternative solver options:\n",
      "    https://scikit-learn.org/stable/modules/linear_model.html#logistic-regression\n",
      "  n_iter_i = _check_optimize_result(\n"
     ]
    },
    {
     "name": "stdout",
     "output_type": "stream",
     "text": [
      "[CV 3/3] END C=0.3593813663804626, penalty=l2, solver=lbfgs;, score=0.838 total time=  20.1s\n",
      "[CV 1/3] END C=2.782559402207126, penalty=l2, solver=liblinear;, score=0.852 total time=  16.7s\n",
      "[CV 2/3] END C=2.782559402207126, penalty=l2, solver=liblinear;, score=0.852 total time=  15.9s\n",
      "[CV 3/3] END C=2.782559402207126, penalty=l2, solver=liblinear;, score=0.852 total time=  19.0s\n"
     ]
    },
    {
     "name": "stderr",
     "output_type": "stream",
     "text": [
      "/usr/local/lib/python3.10/dist-packages/sklearn/linear_model/_logistic.py:458: ConvergenceWarning: lbfgs failed to converge (status=1):\n",
      "STOP: TOTAL NO. of ITERATIONS REACHED LIMIT.\n",
      "\n",
      "Increase the number of iterations (max_iter) or scale the data as shown in:\n",
      "    https://scikit-learn.org/stable/modules/preprocessing.html\n",
      "Please also refer to the documentation for alternative solver options:\n",
      "    https://scikit-learn.org/stable/modules/linear_model.html#logistic-regression\n",
      "  n_iter_i = _check_optimize_result(\n"
     ]
    },
    {
     "name": "stdout",
     "output_type": "stream",
     "text": [
      "[CV 1/3] END C=2.782559402207126, penalty=l2, solver=lbfgs;, score=0.838 total time=  19.5s\n"
     ]
    },
    {
     "name": "stderr",
     "output_type": "stream",
     "text": [
      "/usr/local/lib/python3.10/dist-packages/sklearn/linear_model/_logistic.py:458: ConvergenceWarning: lbfgs failed to converge (status=1):\n",
      "STOP: TOTAL NO. of ITERATIONS REACHED LIMIT.\n",
      "\n",
      "Increase the number of iterations (max_iter) or scale the data as shown in:\n",
      "    https://scikit-learn.org/stable/modules/preprocessing.html\n",
      "Please also refer to the documentation for alternative solver options:\n",
      "    https://scikit-learn.org/stable/modules/linear_model.html#logistic-regression\n",
      "  n_iter_i = _check_optimize_result(\n"
     ]
    },
    {
     "name": "stdout",
     "output_type": "stream",
     "text": [
      "[CV 2/3] END C=2.782559402207126, penalty=l2, solver=lbfgs;, score=0.839 total time=  21.2s\n"
     ]
    },
    {
     "name": "stderr",
     "output_type": "stream",
     "text": [
      "/usr/local/lib/python3.10/dist-packages/sklearn/linear_model/_logistic.py:458: ConvergenceWarning: lbfgs failed to converge (status=1):\n",
      "STOP: TOTAL NO. of ITERATIONS REACHED LIMIT.\n",
      "\n",
      "Increase the number of iterations (max_iter) or scale the data as shown in:\n",
      "    https://scikit-learn.org/stable/modules/preprocessing.html\n",
      "Please also refer to the documentation for alternative solver options:\n",
      "    https://scikit-learn.org/stable/modules/linear_model.html#logistic-regression\n",
      "  n_iter_i = _check_optimize_result(\n"
     ]
    },
    {
     "name": "stdout",
     "output_type": "stream",
     "text": [
      "[CV 3/3] END C=2.782559402207126, penalty=l2, solver=lbfgs;, score=0.838 total time=  19.9s\n",
      "[CV 1/3] END C=21.54434690031882, penalty=l2, solver=liblinear;, score=0.852 total time=  16.8s\n",
      "[CV 2/3] END C=21.54434690031882, penalty=l2, solver=liblinear;, score=0.852 total time=  16.0s\n",
      "[CV 3/3] END C=21.54434690031882, penalty=l2, solver=liblinear;, score=0.852 total time=  16.8s\n"
     ]
    },
    {
     "name": "stderr",
     "output_type": "stream",
     "text": [
      "/usr/local/lib/python3.10/dist-packages/sklearn/linear_model/_logistic.py:458: ConvergenceWarning: lbfgs failed to converge (status=1):\n",
      "STOP: TOTAL NO. of ITERATIONS REACHED LIMIT.\n",
      "\n",
      "Increase the number of iterations (max_iter) or scale the data as shown in:\n",
      "    https://scikit-learn.org/stable/modules/preprocessing.html\n",
      "Please also refer to the documentation for alternative solver options:\n",
      "    https://scikit-learn.org/stable/modules/linear_model.html#logistic-regression\n",
      "  n_iter_i = _check_optimize_result(\n"
     ]
    },
    {
     "name": "stdout",
     "output_type": "stream",
     "text": [
      "[CV 1/3] END C=21.54434690031882, penalty=l2, solver=lbfgs;, score=0.839 total time=  19.9s\n"
     ]
    },
    {
     "name": "stderr",
     "output_type": "stream",
     "text": [
      "/usr/local/lib/python3.10/dist-packages/sklearn/linear_model/_logistic.py:458: ConvergenceWarning: lbfgs failed to converge (status=1):\n",
      "STOP: TOTAL NO. of ITERATIONS REACHED LIMIT.\n",
      "\n",
      "Increase the number of iterations (max_iter) or scale the data as shown in:\n",
      "    https://scikit-learn.org/stable/modules/preprocessing.html\n",
      "Please also refer to the documentation for alternative solver options:\n",
      "    https://scikit-learn.org/stable/modules/linear_model.html#logistic-regression\n",
      "  n_iter_i = _check_optimize_result(\n"
     ]
    },
    {
     "name": "stdout",
     "output_type": "stream",
     "text": [
      "[CV 2/3] END C=21.54434690031882, penalty=l2, solver=lbfgs;, score=0.839 total time=  21.0s\n"
     ]
    },
    {
     "name": "stderr",
     "output_type": "stream",
     "text": [
      "/usr/local/lib/python3.10/dist-packages/sklearn/linear_model/_logistic.py:458: ConvergenceWarning: lbfgs failed to converge (status=1):\n",
      "STOP: TOTAL NO. of ITERATIONS REACHED LIMIT.\n",
      "\n",
      "Increase the number of iterations (max_iter) or scale the data as shown in:\n",
      "    https://scikit-learn.org/stable/modules/preprocessing.html\n",
      "Please also refer to the documentation for alternative solver options:\n",
      "    https://scikit-learn.org/stable/modules/linear_model.html#logistic-regression\n",
      "  n_iter_i = _check_optimize_result(\n"
     ]
    },
    {
     "name": "stdout",
     "output_type": "stream",
     "text": [
      "[CV 3/3] END C=21.54434690031882, penalty=l2, solver=lbfgs;, score=0.838 total time=  20.0s\n",
      "[CV 1/3] END C=166.81005372000556, penalty=l2, solver=liblinear;, score=0.852 total time=  16.6s\n",
      "[CV 2/3] END C=166.81005372000556, penalty=l2, solver=liblinear;, score=0.852 total time=  15.8s\n",
      "[CV 3/3] END C=166.81005372000556, penalty=l2, solver=liblinear;, score=0.852 total time=  16.2s\n"
     ]
    },
    {
     "name": "stderr",
     "output_type": "stream",
     "text": [
      "/usr/local/lib/python3.10/dist-packages/sklearn/linear_model/_logistic.py:458: ConvergenceWarning: lbfgs failed to converge (status=1):\n",
      "STOP: TOTAL NO. of ITERATIONS REACHED LIMIT.\n",
      "\n",
      "Increase the number of iterations (max_iter) or scale the data as shown in:\n",
      "    https://scikit-learn.org/stable/modules/preprocessing.html\n",
      "Please also refer to the documentation for alternative solver options:\n",
      "    https://scikit-learn.org/stable/modules/linear_model.html#logistic-regression\n",
      "  n_iter_i = _check_optimize_result(\n"
     ]
    },
    {
     "name": "stdout",
     "output_type": "stream",
     "text": [
      "[CV 1/3] END C=166.81005372000556, penalty=l2, solver=lbfgs;, score=0.839 total time=  19.7s\n"
     ]
    },
    {
     "name": "stderr",
     "output_type": "stream",
     "text": [
      "/usr/local/lib/python3.10/dist-packages/sklearn/linear_model/_logistic.py:458: ConvergenceWarning: lbfgs failed to converge (status=1):\n",
      "STOP: TOTAL NO. of ITERATIONS REACHED LIMIT.\n",
      "\n",
      "Increase the number of iterations (max_iter) or scale the data as shown in:\n",
      "    https://scikit-learn.org/stable/modules/preprocessing.html\n",
      "Please also refer to the documentation for alternative solver options:\n",
      "    https://scikit-learn.org/stable/modules/linear_model.html#logistic-regression\n",
      "  n_iter_i = _check_optimize_result(\n"
     ]
    },
    {
     "name": "stdout",
     "output_type": "stream",
     "text": [
      "[CV 2/3] END C=166.81005372000556, penalty=l2, solver=lbfgs;, score=0.839 total time=  20.8s\n"
     ]
    },
    {
     "name": "stderr",
     "output_type": "stream",
     "text": [
      "/usr/local/lib/python3.10/dist-packages/sklearn/linear_model/_logistic.py:458: ConvergenceWarning: lbfgs failed to converge (status=1):\n",
      "STOP: TOTAL NO. of ITERATIONS REACHED LIMIT.\n",
      "\n",
      "Increase the number of iterations (max_iter) or scale the data as shown in:\n",
      "    https://scikit-learn.org/stable/modules/preprocessing.html\n",
      "Please also refer to the documentation for alternative solver options:\n",
      "    https://scikit-learn.org/stable/modules/linear_model.html#logistic-regression\n",
      "  n_iter_i = _check_optimize_result(\n"
     ]
    },
    {
     "name": "stdout",
     "output_type": "stream",
     "text": [
      "[CV 3/3] END C=166.81005372000556, penalty=l2, solver=lbfgs;, score=0.838 total time=  20.4s\n",
      "[CV 1/3] END C=1291.5496650148827, penalty=l2, solver=liblinear;, score=0.852 total time=  16.6s\n",
      "[CV 2/3] END C=1291.5496650148827, penalty=l2, solver=liblinear;, score=0.852 total time=  16.0s\n",
      "[CV 3/3] END C=1291.5496650148827, penalty=l2, solver=liblinear;, score=0.852 total time=  16.6s\n"
     ]
    },
    {
     "name": "stderr",
     "output_type": "stream",
     "text": [
      "/usr/local/lib/python3.10/dist-packages/sklearn/linear_model/_logistic.py:458: ConvergenceWarning: lbfgs failed to converge (status=1):\n",
      "STOP: TOTAL NO. of ITERATIONS REACHED LIMIT.\n",
      "\n",
      "Increase the number of iterations (max_iter) or scale the data as shown in:\n",
      "    https://scikit-learn.org/stable/modules/preprocessing.html\n",
      "Please also refer to the documentation for alternative solver options:\n",
      "    https://scikit-learn.org/stable/modules/linear_model.html#logistic-regression\n",
      "  n_iter_i = _check_optimize_result(\n"
     ]
    },
    {
     "name": "stdout",
     "output_type": "stream",
     "text": [
      "[CV 1/3] END C=1291.5496650148827, penalty=l2, solver=lbfgs;, score=0.839 total time=  19.8s\n"
     ]
    },
    {
     "name": "stderr",
     "output_type": "stream",
     "text": [
      "/usr/local/lib/python3.10/dist-packages/sklearn/linear_model/_logistic.py:458: ConvergenceWarning: lbfgs failed to converge (status=1):\n",
      "STOP: TOTAL NO. of ITERATIONS REACHED LIMIT.\n",
      "\n",
      "Increase the number of iterations (max_iter) or scale the data as shown in:\n",
      "    https://scikit-learn.org/stable/modules/preprocessing.html\n",
      "Please also refer to the documentation for alternative solver options:\n",
      "    https://scikit-learn.org/stable/modules/linear_model.html#logistic-regression\n",
      "  n_iter_i = _check_optimize_result(\n"
     ]
    },
    {
     "name": "stdout",
     "output_type": "stream",
     "text": [
      "[CV 2/3] END C=1291.5496650148827, penalty=l2, solver=lbfgs;, score=0.839 total time=  21.0s\n"
     ]
    },
    {
     "name": "stderr",
     "output_type": "stream",
     "text": [
      "/usr/local/lib/python3.10/dist-packages/sklearn/linear_model/_logistic.py:458: ConvergenceWarning: lbfgs failed to converge (status=1):\n",
      "STOP: TOTAL NO. of ITERATIONS REACHED LIMIT.\n",
      "\n",
      "Increase the number of iterations (max_iter) or scale the data as shown in:\n",
      "    https://scikit-learn.org/stable/modules/preprocessing.html\n",
      "Please also refer to the documentation for alternative solver options:\n",
      "    https://scikit-learn.org/stable/modules/linear_model.html#logistic-regression\n",
      "  n_iter_i = _check_optimize_result(\n"
     ]
    },
    {
     "name": "stdout",
     "output_type": "stream",
     "text": [
      "[CV 3/3] END C=1291.5496650148827, penalty=l2, solver=lbfgs;, score=0.838 total time=  20.5s\n",
      "[CV 1/3] END C=10000.0, penalty=l2, solver=liblinear;, score=0.852 total time=  17.0s\n",
      "[CV 2/3] END C=10000.0, penalty=l2, solver=liblinear;, score=0.852 total time=  16.1s\n",
      "[CV 3/3] END C=10000.0, penalty=l2, solver=liblinear;, score=0.852 total time=  16.5s\n"
     ]
    },
    {
     "name": "stderr",
     "output_type": "stream",
     "text": [
      "/usr/local/lib/python3.10/dist-packages/sklearn/linear_model/_logistic.py:458: ConvergenceWarning: lbfgs failed to converge (status=1):\n",
      "STOP: TOTAL NO. of ITERATIONS REACHED LIMIT.\n",
      "\n",
      "Increase the number of iterations (max_iter) or scale the data as shown in:\n",
      "    https://scikit-learn.org/stable/modules/preprocessing.html\n",
      "Please also refer to the documentation for alternative solver options:\n",
      "    https://scikit-learn.org/stable/modules/linear_model.html#logistic-regression\n",
      "  n_iter_i = _check_optimize_result(\n"
     ]
    },
    {
     "name": "stdout",
     "output_type": "stream",
     "text": [
      "[CV 1/3] END C=10000.0, penalty=l2, solver=lbfgs;, score=0.840 total time=  21.4s\n"
     ]
    },
    {
     "name": "stderr",
     "output_type": "stream",
     "text": [
      "/usr/local/lib/python3.10/dist-packages/sklearn/linear_model/_logistic.py:458: ConvergenceWarning: lbfgs failed to converge (status=1):\n",
      "STOP: TOTAL NO. of ITERATIONS REACHED LIMIT.\n",
      "\n",
      "Increase the number of iterations (max_iter) or scale the data as shown in:\n",
      "    https://scikit-learn.org/stable/modules/preprocessing.html\n",
      "Please also refer to the documentation for alternative solver options:\n",
      "    https://scikit-learn.org/stable/modules/linear_model.html#logistic-regression\n",
      "  n_iter_i = _check_optimize_result(\n"
     ]
    },
    {
     "name": "stdout",
     "output_type": "stream",
     "text": [
      "[CV 2/3] END C=10000.0, penalty=l2, solver=lbfgs;, score=0.839 total time=  22.3s\n"
     ]
    },
    {
     "name": "stderr",
     "output_type": "stream",
     "text": [
      "/usr/local/lib/python3.10/dist-packages/sklearn/linear_model/_logistic.py:458: ConvergenceWarning: lbfgs failed to converge (status=1):\n",
      "STOP: TOTAL NO. of ITERATIONS REACHED LIMIT.\n",
      "\n",
      "Increase the number of iterations (max_iter) or scale the data as shown in:\n",
      "    https://scikit-learn.org/stable/modules/preprocessing.html\n",
      "Please also refer to the documentation for alternative solver options:\n",
      "    https://scikit-learn.org/stable/modules/linear_model.html#logistic-regression\n",
      "  n_iter_i = _check_optimize_result(\n"
     ]
    },
    {
     "name": "stdout",
     "output_type": "stream",
     "text": [
      "[CV 3/3] END C=10000.0, penalty=l2, solver=lbfgs;, score=0.838 total time=  21.6s\n"
     ]
    }
   ],
   "source": [
    "from sklearn.linear_model import LogisticRegression\n",
    "from sklearn.feature_selection import RFE\n",
    "from sklearn.model_selection import train_test_split\n",
    "from sklearn.metrics import classification_report, confusion_matrix\n",
    "from sklearn.preprocessing import OneHotEncoder, LabelEncoder\n",
    "from sklearn.model_selection import train_test_split, GridSearchCV\n",
    "from sklearn.utils import class_weight\n",
    "from sklearn.preprocessing import OneHotEncoder\n",
    "from sklearn.preprocessing import StandardScaler\n",
    "import pandas as pd\n",
    "\n",
    "selected_data = eastmoney[columns]\n",
    "selected_data.columns = selected_data.columns.str.strip()\n",
    "\n",
    "# 对 dominant_topic 进行独热编码\n",
    "encoder = OneHotEncoder(sparse_output=False)\n",
    "dominant_topic_encoded = encoder.fit_transform(selected_data[['dominant_topic']])\n",
    "encoded_df = pd.DataFrame(dominant_topic_encoded, columns=[f\"topic_{i}\" for i in range(dominant_topic_encoded.shape[1])])\n",
    "selected_data = pd.concat([selected_data.drop('dominant_topic', axis=1), encoded_df], axis=1)\n",
    "\n",
    "X2 = selected_data\n",
    "y2 = eastmoney['viral']\n",
    "\n",
    "# 标准化\n",
    "scaler = StandardScaler()\n",
    "sentiment_scores = X2['sentiment_score'].values.reshape(-1, 1)\n",
    "X2['sentiment_score'] = scaler.fit_transform(sentiment_scores)\n",
    "\n",
    "# 划分训练集和测试集\n",
    "X2_train, X2_test, y2_train, y2_test = train_test_split(X2, y2, test_size=0.3, random_state=42)\n",
    "\n",
    "# 计算类权重\n",
    "class_weights = class_weight.compute_class_weight('balanced', classes=np.unique(y2_train), y=y2_train)\n",
    "weights = {i : class_weights[i] for i in range(len(class_weights))}\n",
    "\n",
    "# 将类权重添加到逻辑回归模型\n",
    "logistic_model = LogisticRegression(class_weight=weights)\n",
    "\n",
    "# 可能选择更多特征\n",
    "selector = RFE(logistic_model, n_features_to_select=5, step=1)\n",
    "selector.fit(X2_train, y2_train)\n",
    "\n",
    "\n",
    "# 定义要搜索的参数网格\n",
    "param_grid = {\n",
    "    'C': np.logspace(-4, 4, 10),\n",
    "    'penalty': ['l2'],\n",
    "    'solver': ['liblinear', 'lbfgs']\n",
    "}\n",
    "\n",
    "# 设置GridSearchCV\n",
    "grid_search = GridSearchCV(logistic_model, param_grid, cv=3, scoring='accuracy', verbose=3)\n",
    "grid_search.fit(X2_train, y2_train)\n",
    "\n",
    "# 使用最佳参数的模型\n",
    "best_model = grid_search.best_estimator_\n",
    "\n",
    "# 预测\n",
    "y2_pred = best_model.predict(X2_test)"
   ]
  },
  {
   "cell_type": "code",
   "execution_count": null,
   "metadata": {
    "colab": {
     "base_uri": "https://localhost:8080/"
    },
    "id": "xJ9QalCnwDKu",
    "outputId": "f770840c-21ff-4796-d289-9227cb5f68cb"
   },
   "outputs": [
    {
     "name": "stdout",
     "output_type": "stream",
     "text": [
      "Classification Report:\n",
      "               precision    recall  f1-score   support\n",
      "\n",
      "         0.0       0.99      0.85      0.92   1886055\n",
      "         1.0       0.23      0.91      0.37     95054\n",
      "\n",
      "    accuracy                           0.85   1981109\n",
      "   macro avg       0.61      0.88      0.64   1981109\n",
      "weighted avg       0.96      0.85      0.89   1981109\n",
      "\n",
      "Confusion Matrix:\n",
      " [[1602520  283535]\n",
      " [   8921   86133]]\n"
     ]
    }
   ],
   "source": [
    "# 评估\n",
    "print(\"Classification Report:\\n\", classification_report(y2_test, y2_pred))\n",
    "conf_matrix = confusion_matrix(y2_test, y2_pred)\n",
    "print(\"Confusion Matrix:\\n\", conf_matrix)"
   ]
  },
  {
   "cell_type": "markdown",
   "metadata": {
    "id": "3RVm1BTeOWBQ"
   },
   "source": [
    "Feature importance"
   ]
  },
  {
   "cell_type": "code",
   "execution_count": null,
   "metadata": {
    "colab": {
     "base_uri": "https://localhost:8080/"
    },
    "id": "Bk2QBlcWKO9M",
    "outputId": "468d7b8f-9282-4a16-9392-be8ad2babfa9"
   },
   "outputs": [
    {
     "name": "stdout",
     "output_type": "stream",
     "text": [
      "Feature importances:\n",
      " [('eastmoney_robo_journalism', 1), ('SMA_robo_journalism', 1), ('colon_mark', 1), ('topic_0', 1), ('topic_4', 1), ('topic_3', 2), ('media_robo_journalism', 3), ('topic_2', 4), ('exclamation_mark', 5), ('question_mark', 6), ('topic_1', 7), ('month', 8), ('sentiment_score', 9), ('article_source_cate', 10), ('article_author', 11)]\n"
     ]
    }
   ],
   "source": [
    "feature_importance = list(zip(X2_train.columns, selector.ranking_))\n",
    "feature_importance.sort(key=lambda x: x[1])\n",
    "print(\"Feature importances:\\n\", feature_importance)"
   ]
  },
  {
   "cell_type": "markdown",
   "metadata": {
    "id": "j52MAhdb7YSV"
   },
   "source": [
    "Without class weights"
   ]
  },
  {
   "cell_type": "code",
   "execution_count": null,
   "metadata": {
    "colab": {
     "base_uri": "https://localhost:8080/"
    },
    "id": "y_LFBgK57XvH",
    "outputId": "ed3d901e-4c88-4400-8a1d-29b5428e300e"
   },
   "outputs": [
    {
     "name": "stdout",
     "output_type": "stream",
     "text": [
      "Fitting 3 folds for each of 20 candidates, totalling 60 fits\n",
      "[CV 1/3] END C=9.999999999999999e-05, penalty=l2, solver=liblinear;, score=0.952 total time=  17.6s\n",
      "[CV 2/3] END C=9.999999999999999e-05, penalty=l2, solver=liblinear;, score=0.952 total time=  18.5s\n",
      "[CV 3/3] END C=9.999999999999999e-05, penalty=l2, solver=liblinear;, score=0.952 total time=  17.4s\n",
      "[CV 1/3] END C=9.999999999999999e-05, penalty=l2, solver=lbfgs;, score=0.952 total time=  30.7s\n",
      "[CV 2/3] END C=9.999999999999999e-05, penalty=l2, solver=lbfgs;, score=0.952 total time=  51.9s\n",
      "[CV 3/3] END C=9.999999999999999e-05, penalty=l2, solver=lbfgs;, score=0.952 total time= 1.0min\n",
      "[CV 1/3] END C=0.000774263682681127, penalty=l2, solver=liblinear;, score=0.952 total time=  18.5s\n",
      "[CV 2/3] END C=0.000774263682681127, penalty=l2, solver=liblinear;, score=0.952 total time=  18.6s\n",
      "[CV 3/3] END C=0.000774263682681127, penalty=l2, solver=liblinear;, score=0.952 total time=  18.6s\n",
      "[CV 1/3] END C=0.000774263682681127, penalty=l2, solver=lbfgs;, score=0.952 total time=  56.4s\n",
      "[CV 2/3] END C=0.000774263682681127, penalty=l2, solver=lbfgs;, score=0.952 total time=  29.1s\n",
      "[CV 3/3] END C=0.000774263682681127, penalty=l2, solver=lbfgs;, score=0.952 total time=  47.5s\n",
      "[CV 1/3] END C=0.005994842503189409, penalty=l2, solver=liblinear;, score=0.952 total time=  18.5s\n",
      "[CV 2/3] END C=0.005994842503189409, penalty=l2, solver=liblinear;, score=0.952 total time=  18.5s\n",
      "[CV 3/3] END C=0.005994842503189409, penalty=l2, solver=liblinear;, score=0.952 total time=  18.5s\n",
      "[CV 1/3] END C=0.005994842503189409, penalty=l2, solver=lbfgs;, score=0.953 total time=  55.6s\n",
      "[CV 2/3] END C=0.005994842503189409, penalty=l2, solver=lbfgs;, score=0.953 total time=  52.2s\n",
      "[CV 3/3] END C=0.005994842503189409, penalty=l2, solver=lbfgs;, score=0.952 total time=  27.1s\n",
      "[CV 1/3] END C=0.046415888336127774, penalty=l2, solver=liblinear;, score=0.952 total time=  18.5s\n",
      "[CV 2/3] END C=0.046415888336127774, penalty=l2, solver=liblinear;, score=0.952 total time=  18.5s\n",
      "[CV 3/3] END C=0.046415888336127774, penalty=l2, solver=liblinear;, score=0.952 total time=  18.5s\n",
      "[CV 1/3] END C=0.046415888336127774, penalty=l2, solver=lbfgs;, score=0.953 total time= 1.6min\n",
      "[CV 2/3] END C=0.046415888336127774, penalty=l2, solver=lbfgs;, score=0.953 total time=  50.4s\n",
      "[CV 3/3] END C=0.046415888336127774, penalty=l2, solver=lbfgs;, score=0.952 total time=  43.2s\n",
      "[CV 1/3] END C=0.3593813663804626, penalty=l2, solver=liblinear;, score=0.952 total time=  18.6s\n",
      "[CV 2/3] END C=0.3593813663804626, penalty=l2, solver=liblinear;, score=0.952 total time=  18.6s\n",
      "[CV 3/3] END C=0.3593813663804626, penalty=l2, solver=liblinear;, score=0.952 total time=  18.4s\n",
      "[CV 1/3] END C=0.3593813663804626, penalty=l2, solver=lbfgs;, score=0.952 total time=  37.6s\n",
      "[CV 2/3] END C=0.3593813663804626, penalty=l2, solver=lbfgs;, score=0.952 total time=  25.6s\n",
      "[CV 3/3] END C=0.3593813663804626, penalty=l2, solver=lbfgs;, score=0.952 total time=  28.6s\n",
      "[CV 1/3] END C=2.782559402207126, penalty=l2, solver=liblinear;, score=0.952 total time=  18.5s\n",
      "[CV 2/3] END C=2.782559402207126, penalty=l2, solver=liblinear;, score=0.952 total time=  18.5s\n",
      "[CV 3/3] END C=2.782559402207126, penalty=l2, solver=liblinear;, score=0.952 total time=  18.3s\n",
      "[CV 1/3] END C=2.782559402207126, penalty=l2, solver=lbfgs;, score=0.953 total time=  54.8s\n",
      "[CV 2/3] END C=2.782559402207126, penalty=l2, solver=lbfgs;, score=0.953 total time= 1.1min\n",
      "[CV 3/3] END C=2.782559402207126, penalty=l2, solver=lbfgs;, score=0.952 total time=  37.0s\n",
      "[CV 1/3] END C=21.54434690031882, penalty=l2, solver=liblinear;, score=0.952 total time=  18.6s\n",
      "[CV 2/3] END C=21.54434690031882, penalty=l2, solver=liblinear;, score=0.952 total time=  18.6s\n",
      "[CV 3/3] END C=21.54434690031882, penalty=l2, solver=liblinear;, score=0.952 total time=  18.6s\n",
      "[CV 1/3] END C=21.54434690031882, penalty=l2, solver=lbfgs;, score=0.952 total time= 1.5min\n",
      "[CV 2/3] END C=21.54434690031882, penalty=l2, solver=lbfgs;, score=0.953 total time=  38.5s\n",
      "[CV 3/3] END C=21.54434690031882, penalty=l2, solver=lbfgs;, score=0.953 total time=  55.5s\n",
      "[CV 1/3] END C=166.81005372000556, penalty=l2, solver=liblinear;, score=0.952 total time=  18.5s\n",
      "[CV 2/3] END C=166.81005372000556, penalty=l2, solver=liblinear;, score=0.952 total time=  18.3s\n",
      "[CV 3/3] END C=166.81005372000556, penalty=l2, solver=liblinear;, score=0.952 total time=  18.4s\n",
      "[CV 1/3] END C=166.81005372000556, penalty=l2, solver=lbfgs;, score=0.952 total time=  20.9s\n",
      "[CV 2/3] END C=166.81005372000556, penalty=l2, solver=lbfgs;, score=0.952 total time=  32.8s\n",
      "[CV 3/3] END C=166.81005372000556, penalty=l2, solver=lbfgs;, score=0.953 total time= 1.2min\n",
      "[CV 1/3] END C=1291.5496650148827, penalty=l2, solver=liblinear;, score=0.952 total time=  18.5s\n",
      "[CV 2/3] END C=1291.5496650148827, penalty=l2, solver=liblinear;, score=0.952 total time=  18.5s\n",
      "[CV 3/3] END C=1291.5496650148827, penalty=l2, solver=liblinear;, score=0.952 total time=  18.6s\n",
      "[CV 1/3] END C=1291.5496650148827, penalty=l2, solver=lbfgs;, score=0.953 total time=  45.2s\n",
      "[CV 2/3] END C=1291.5496650148827, penalty=l2, solver=lbfgs;, score=0.953 total time=  48.1s\n",
      "[CV 3/3] END C=1291.5496650148827, penalty=l2, solver=lbfgs;, score=0.952 total time= 2.3min\n",
      "[CV 1/3] END C=10000.0, penalty=l2, solver=liblinear;, score=0.952 total time=  18.2s\n",
      "[CV 2/3] END C=10000.0, penalty=l2, solver=liblinear;, score=0.952 total time=  18.3s\n",
      "[CV 3/3] END C=10000.0, penalty=l2, solver=liblinear;, score=0.952 total time=  18.4s\n",
      "[CV 1/3] END C=10000.0, penalty=l2, solver=lbfgs;, score=0.952 total time=  22.6s\n",
      "[CV 2/3] END C=10000.0, penalty=l2, solver=lbfgs;, score=0.953 total time= 1.1min\n",
      "[CV 3/3] END C=10000.0, penalty=l2, solver=lbfgs;, score=0.952 total time=  19.8s\n"
     ]
    }
   ],
   "source": [
    "from sklearn.linear_model import LogisticRegression\n",
    "from sklearn.feature_selection import RFE\n",
    "from sklearn.model_selection import train_test_split\n",
    "from sklearn.metrics import classification_report, confusion_matrix\n",
    "from sklearn.preprocessing import OneHotEncoder, LabelEncoder\n",
    "from sklearn.model_selection import train_test_split, GridSearchCV\n",
    "from sklearn.utils import class_weight\n",
    "from sklearn.preprocessing import OneHotEncoder\n",
    "from sklearn.preprocessing import StandardScaler\n",
    "import pandas as pd\n",
    "import numpy as np\n",
    "\n",
    "selected_data = eastmoney[columns]\n",
    "selected_data.columns = selected_data.columns.str.strip()\n",
    "\n",
    "# 对 dominant_topic 进行独热编码\n",
    "encoder = OneHotEncoder(sparse_output=False)\n",
    "dominant_topic_encoded = encoder.fit_transform(selected_data[['dominant_topic']])\n",
    "encoded_df = pd.DataFrame(dominant_topic_encoded, columns=[f\"topic_{i}\" for i in range(dominant_topic_encoded.shape[1])])\n",
    "selected_data = pd.concat([selected_data.drop('dominant_topic', axis=1), encoded_df], axis=1)\n",
    "\n",
    "X2 = selected_data\n",
    "y2 = eastmoney['viral']\n",
    "\n",
    "# 使用标准化\n",
    "scaler = StandardScaler()\n",
    "sentiment_scores = X2['sentiment_score'].values.reshape(-1, 1)\n",
    "X2['sentiment_score'] = scaler.fit_transform(sentiment_scores)\n",
    "\n",
    "# 划分训练集和测试集\n",
    "X2_train, X2_test, y2_train, y2_test = train_test_split(X2, y2, test_size=0.3, random_state=42)\n",
    "\n",
    "logistic_model = LogisticRegression(max_iter=1000)\n",
    "\n",
    "# 可能选择更多特征\n",
    "selector = RFE(logistic_model, n_features_to_select=5, step=1)\n",
    "selector.fit(X2_train, y2_train)\n",
    "\n",
    "\n",
    "# 定义要搜索的参数网格\n",
    "param_grid = {\n",
    "    'C': np.logspace(-4, 4, 10),\n",
    "    'penalty': ['l2'],\n",
    "    'solver': ['liblinear', 'lbfgs']\n",
    "}\n",
    "\n",
    "# 设置GridSearchCV\n",
    "grid_search = GridSearchCV(logistic_model, param_grid, cv=3, scoring='accuracy', verbose=3)\n",
    "grid_search.fit(X2_train, y2_train)\n",
    "\n",
    "# 使用最佳参数的模型\n",
    "best_model = grid_search.best_estimator_\n",
    "\n",
    "# 预测\n",
    "y2_pred = best_model.predict(X2_test)"
   ]
  },
  {
   "cell_type": "code",
   "execution_count": null,
   "metadata": {
    "colab": {
     "base_uri": "https://localhost:8080/"
    },
    "id": "JaKLpSD17XrT",
    "outputId": "bb38aaf5-a66c-4d44-ed6c-e0d3ca2b74d4"
   },
   "outputs": [
    {
     "name": "stdout",
     "output_type": "stream",
     "text": [
      "Classification Report:\n",
      "               precision    recall  f1-score   support\n",
      "\n",
      "         0.0       0.95      1.00      0.98   1886055\n",
      "         1.0       0.55      0.04      0.07     95054\n",
      "\n",
      "    accuracy                           0.95   1981109\n",
      "   macro avg       0.75      0.52      0.52   1981109\n",
      "weighted avg       0.93      0.95      0.93   1981109\n",
      "\n",
      "Confusion Matrix:\n",
      " [[1883050    3005]\n",
      " [  91393    3661]]\n"
     ]
    }
   ],
   "source": [
    "# 评估\n",
    "print(\"Classification Report:\\n\", classification_report(y2_test, y2_pred))\n",
    "conf_matrix = confusion_matrix(y2_test, y2_pred)\n",
    "print(\"Confusion Matrix:\\n\", conf_matrix)"
   ]
  },
  {
   "cell_type": "markdown",
   "metadata": {
    "id": "2YrxF0-9OgSq"
   },
   "source": [
    "Feature importance"
   ]
  },
  {
   "cell_type": "code",
   "execution_count": null,
   "metadata": {
    "colab": {
     "base_uri": "https://localhost:8080/"
    },
    "id": "dLegJxIh8HKd",
    "outputId": "0d91df3b-f329-4bc9-ebab-8df7044ee8ef"
   },
   "outputs": [
    {
     "name": "stdout",
     "output_type": "stream",
     "text": [
      "Feature importances:\n",
      " [('eastmoney_robo_journalism', 1), ('SMA_robo_journalism', 1), ('colon_mark', 1), ('topic_3', 1), ('topic_4', 1), ('topic_0', 2), ('media_robo_journalism', 3), ('topic_1', 4), ('question_mark', 5), ('topic_2', 6), ('exclamation_mark', 7), ('sentiment_score', 8), ('month', 9), ('article_source_cate', 10), ('article_author', 11)]\n"
     ]
    }
   ],
   "source": [
    "feature_importance = list(zip(X2_train.columns, selector.ranking_))\n",
    "feature_importance.sort(key=lambda x: x[1])\n",
    "print(\"Feature importances:\\n\", feature_importance)"
   ]
  }
 ],
 "metadata": {
  "accelerator": "GPU",
  "colab": {
   "collapsed_sections": [
    "haMqQXwegh7q",
    "toZxlWepyRVA",
    "xxQblqMLVcsU",
    "iPW1-BTAuf_B"
   ],
   "gpuType": "L4",
   "machine_shape": "hm",
   "provenance": []
  },
  "kernelspec": {
   "display_name": "MTL_project-BiIXOKA8",
   "language": "python",
   "name": "python3"
  },
  "language_info": {
   "codemirror_mode": {
    "name": "ipython",
    "version": 3
   },
   "file_extension": ".py",
   "mimetype": "text/x-python",
   "name": "python",
   "nbconvert_exporter": "python",
   "pygments_lexer": "ipython3",
   "version": "3.9.9"
  }
 },
 "nbformat": 4,
 "nbformat_minor": 0
}
